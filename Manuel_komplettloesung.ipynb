{
 "cells": [
  {
   "cell_type": "markdown",
   "metadata": {},
   "source": [
    "Filtern"
   ]
  },
  {
   "cell_type": "markdown",
   "metadata": {},
   "source": []
  },
  {
   "cell_type": "code",
   "execution_count": 181,
   "metadata": {},
   "outputs": [],
   "source": [
    "import pandas as pd\n",
    "import numpy as np\n",
    "import matplotlib.pyplot as plt\n",
    "%matplotlib inline \n",
    "\n",
    "from shapely.geometry import Point\n",
    "import geopandas as gpd\n",
    "from geopandas import GeoDataFrame\n",
    "\n",
    "import sklearn\n",
    "from sklearn.linear_model import LinearRegression\n",
    "from sklearn.ensemble import RandomForestRegressor\n",
    "from sklearn.ensemble import GradientBoostingRegressor\n",
    "from sklearn.neural_network import MLPRegressor\n",
    "from sklearn.model_selection import train_test_split\n",
    "from sklearn.metrics import r2_score\n",
    "from sklearn.metrics import mean_absolute_error\n",
    "from sklearn.metrics import mean_absolute_percentage_error\n",
    "from sklearn.metrics import mean_squared_error\n",
    "from sklearn.preprocessing import StandardScaler\n",
    "from sklearn.preprocessing import MinMaxScaler\n",
    "from sklearn.model_selection import cross_val_score\n",
    "from sklearn.cluster import KMeans"
   ]
  },
  {
   "cell_type": "markdown",
   "metadata": {},
   "source": [
    "Als erster wir die CSV Datei importiert und als Dataframe abgelegt."
   ]
  },
  {
   "cell_type": "code",
   "execution_count": 182,
   "metadata": {},
   "outputs": [],
   "source": [
    "url = 'C:/Users/oache/Desktop/KI_ML/vehicles/vehicles.csv'\n",
    "#url= 'C:/Users/nicof/OneDrive/Dokumente/FH-München/KI\\Modularbeit/archive/vehicles.csv'\n",
    "df = pd.read_csv(url)\n"
   ]
  },
  {
   "cell_type": "markdown",
   "metadata": {},
   "source": [
    "Als nächstes lassen wir uns die ersten fünf Einträge anzeigen, um einen Überblick über die Daten zu erlangen. Es fällt auf, dass einige der Spalten für die Vorhersage des Preises nicht von nutzen sein werden."
   ]
  },
  {
   "cell_type": "code",
   "execution_count": 183,
   "metadata": {},
   "outputs": [
    {
     "data": {
      "text/html": [
       "<div>\n",
       "<style scoped>\n",
       "    .dataframe tbody tr th:only-of-type {\n",
       "        vertical-align: middle;\n",
       "    }\n",
       "\n",
       "    .dataframe tbody tr th {\n",
       "        vertical-align: top;\n",
       "    }\n",
       "\n",
       "    .dataframe thead th {\n",
       "        text-align: right;\n",
       "    }\n",
       "</style>\n",
       "<table border=\"1\" class=\"dataframe\">\n",
       "  <thead>\n",
       "    <tr style=\"text-align: right;\">\n",
       "      <th></th>\n",
       "      <th>id</th>\n",
       "      <th>url</th>\n",
       "      <th>region</th>\n",
       "      <th>region_url</th>\n",
       "      <th>price</th>\n",
       "      <th>year</th>\n",
       "      <th>manufacturer</th>\n",
       "      <th>model</th>\n",
       "      <th>condition</th>\n",
       "      <th>cylinders</th>\n",
       "      <th>...</th>\n",
       "      <th>size</th>\n",
       "      <th>type</th>\n",
       "      <th>paint_color</th>\n",
       "      <th>image_url</th>\n",
       "      <th>description</th>\n",
       "      <th>county</th>\n",
       "      <th>state</th>\n",
       "      <th>lat</th>\n",
       "      <th>long</th>\n",
       "      <th>posting_date</th>\n",
       "    </tr>\n",
       "  </thead>\n",
       "  <tbody>\n",
       "    <tr>\n",
       "      <th>0</th>\n",
       "      <td>7222695916</td>\n",
       "      <td>https://prescott.craigslist.org/cto/d/prescott...</td>\n",
       "      <td>prescott</td>\n",
       "      <td>https://prescott.craigslist.org</td>\n",
       "      <td>6000</td>\n",
       "      <td>NaN</td>\n",
       "      <td>NaN</td>\n",
       "      <td>NaN</td>\n",
       "      <td>NaN</td>\n",
       "      <td>NaN</td>\n",
       "      <td>...</td>\n",
       "      <td>NaN</td>\n",
       "      <td>NaN</td>\n",
       "      <td>NaN</td>\n",
       "      <td>NaN</td>\n",
       "      <td>NaN</td>\n",
       "      <td>NaN</td>\n",
       "      <td>az</td>\n",
       "      <td>NaN</td>\n",
       "      <td>NaN</td>\n",
       "      <td>NaN</td>\n",
       "    </tr>\n",
       "    <tr>\n",
       "      <th>1</th>\n",
       "      <td>7218891961</td>\n",
       "      <td>https://fayar.craigslist.org/ctd/d/bentonville...</td>\n",
       "      <td>fayetteville</td>\n",
       "      <td>https://fayar.craigslist.org</td>\n",
       "      <td>11900</td>\n",
       "      <td>NaN</td>\n",
       "      <td>NaN</td>\n",
       "      <td>NaN</td>\n",
       "      <td>NaN</td>\n",
       "      <td>NaN</td>\n",
       "      <td>...</td>\n",
       "      <td>NaN</td>\n",
       "      <td>NaN</td>\n",
       "      <td>NaN</td>\n",
       "      <td>NaN</td>\n",
       "      <td>NaN</td>\n",
       "      <td>NaN</td>\n",
       "      <td>ar</td>\n",
       "      <td>NaN</td>\n",
       "      <td>NaN</td>\n",
       "      <td>NaN</td>\n",
       "    </tr>\n",
       "    <tr>\n",
       "      <th>2</th>\n",
       "      <td>7221797935</td>\n",
       "      <td>https://keys.craigslist.org/cto/d/summerland-k...</td>\n",
       "      <td>florida keys</td>\n",
       "      <td>https://keys.craigslist.org</td>\n",
       "      <td>21000</td>\n",
       "      <td>NaN</td>\n",
       "      <td>NaN</td>\n",
       "      <td>NaN</td>\n",
       "      <td>NaN</td>\n",
       "      <td>NaN</td>\n",
       "      <td>...</td>\n",
       "      <td>NaN</td>\n",
       "      <td>NaN</td>\n",
       "      <td>NaN</td>\n",
       "      <td>NaN</td>\n",
       "      <td>NaN</td>\n",
       "      <td>NaN</td>\n",
       "      <td>fl</td>\n",
       "      <td>NaN</td>\n",
       "      <td>NaN</td>\n",
       "      <td>NaN</td>\n",
       "    </tr>\n",
       "    <tr>\n",
       "      <th>3</th>\n",
       "      <td>7222270760</td>\n",
       "      <td>https://worcester.craigslist.org/cto/d/west-br...</td>\n",
       "      <td>worcester / central MA</td>\n",
       "      <td>https://worcester.craigslist.org</td>\n",
       "      <td>1500</td>\n",
       "      <td>NaN</td>\n",
       "      <td>NaN</td>\n",
       "      <td>NaN</td>\n",
       "      <td>NaN</td>\n",
       "      <td>NaN</td>\n",
       "      <td>...</td>\n",
       "      <td>NaN</td>\n",
       "      <td>NaN</td>\n",
       "      <td>NaN</td>\n",
       "      <td>NaN</td>\n",
       "      <td>NaN</td>\n",
       "      <td>NaN</td>\n",
       "      <td>ma</td>\n",
       "      <td>NaN</td>\n",
       "      <td>NaN</td>\n",
       "      <td>NaN</td>\n",
       "    </tr>\n",
       "    <tr>\n",
       "      <th>4</th>\n",
       "      <td>7210384030</td>\n",
       "      <td>https://greensboro.craigslist.org/cto/d/trinit...</td>\n",
       "      <td>greensboro</td>\n",
       "      <td>https://greensboro.craigslist.org</td>\n",
       "      <td>4900</td>\n",
       "      <td>NaN</td>\n",
       "      <td>NaN</td>\n",
       "      <td>NaN</td>\n",
       "      <td>NaN</td>\n",
       "      <td>NaN</td>\n",
       "      <td>...</td>\n",
       "      <td>NaN</td>\n",
       "      <td>NaN</td>\n",
       "      <td>NaN</td>\n",
       "      <td>NaN</td>\n",
       "      <td>NaN</td>\n",
       "      <td>NaN</td>\n",
       "      <td>nc</td>\n",
       "      <td>NaN</td>\n",
       "      <td>NaN</td>\n",
       "      <td>NaN</td>\n",
       "    </tr>\n",
       "  </tbody>\n",
       "</table>\n",
       "<p>5 rows × 26 columns</p>\n",
       "</div>"
      ],
      "text/plain": [
       "           id                                                url  \\\n",
       "0  7222695916  https://prescott.craigslist.org/cto/d/prescott...   \n",
       "1  7218891961  https://fayar.craigslist.org/ctd/d/bentonville...   \n",
       "2  7221797935  https://keys.craigslist.org/cto/d/summerland-k...   \n",
       "3  7222270760  https://worcester.craigslist.org/cto/d/west-br...   \n",
       "4  7210384030  https://greensboro.craigslist.org/cto/d/trinit...   \n",
       "\n",
       "                   region                         region_url  price  year  \\\n",
       "0                prescott    https://prescott.craigslist.org   6000   NaN   \n",
       "1            fayetteville       https://fayar.craigslist.org  11900   NaN   \n",
       "2            florida keys        https://keys.craigslist.org  21000   NaN   \n",
       "3  worcester / central MA   https://worcester.craigslist.org   1500   NaN   \n",
       "4              greensboro  https://greensboro.craigslist.org   4900   NaN   \n",
       "\n",
       "  manufacturer model condition cylinders  ... size  type paint_color  \\\n",
       "0          NaN   NaN       NaN       NaN  ...  NaN   NaN         NaN   \n",
       "1          NaN   NaN       NaN       NaN  ...  NaN   NaN         NaN   \n",
       "2          NaN   NaN       NaN       NaN  ...  NaN   NaN         NaN   \n",
       "3          NaN   NaN       NaN       NaN  ...  NaN   NaN         NaN   \n",
       "4          NaN   NaN       NaN       NaN  ...  NaN   NaN         NaN   \n",
       "\n",
       "  image_url description county state lat long posting_date  \n",
       "0       NaN         NaN    NaN    az NaN  NaN          NaN  \n",
       "1       NaN         NaN    NaN    ar NaN  NaN          NaN  \n",
       "2       NaN         NaN    NaN    fl NaN  NaN          NaN  \n",
       "3       NaN         NaN    NaN    ma NaN  NaN          NaN  \n",
       "4       NaN         NaN    NaN    nc NaN  NaN          NaN  \n",
       "\n",
       "[5 rows x 26 columns]"
      ]
     },
     "execution_count": 183,
     "metadata": {},
     "output_type": "execute_result"
    }
   ],
   "source": [
    "df.head()\n"
   ]
  },
  {
   "cell_type": "markdown",
   "metadata": {},
   "source": [
    "Um einen Überblick zu bekommen mit wievielen Daten wir uns beschäftigen lassen wir uns die Dimensionen des Dataframes anzeigen. Wir haben ein Datenfeld in der größe 426880 x 26"
   ]
  },
  {
   "cell_type": "code",
   "execution_count": 184,
   "metadata": {},
   "outputs": [
    {
     "data": {
      "text/plain": [
       "(426880, 26)"
      ]
     },
     "execution_count": 184,
     "metadata": {},
     "output_type": "execute_result"
    }
   ],
   "source": [
    "df.shape"
   ]
  },
  {
   "cell_type": "markdown",
   "metadata": {},
   "source": [
    "Um eine Überblick über die Fahrzeughersteller und deren Inseratanteilen zu bekommen lassen wir uns dies anhande der Stückzahlen anzeigen."
   ]
  },
  {
   "cell_type": "code",
   "execution_count": 185,
   "metadata": {},
   "outputs": [
    {
     "data": {
      "text/plain": [
       "<BarContainer object of 42 artists>"
      ]
     },
     "execution_count": 185,
     "metadata": {},
     "output_type": "execute_result"
    },
    {
     "data": {
      "image/png": "[encoded data removed]",
      "text/plain": [
       "<Figure size 1080x720 with 1 Axes>"
      ]
     },
     "metadata": {
      "needs_background": "light"
     },
     "output_type": "display_data"
    }
   ],
   "source": [
    "x = (df.groupby(['manufacturer'],as_index = False).count().sort_values('price', ascending = False))['manufacturer'].tolist()\n",
    "y = (df.groupby(['manufacturer'],as_index = False).count().sort_values('price', ascending = False))['price'].tolist()\n",
    "fig = plt.figure(figsize=(15,10))\n",
    "plt.xticks(rotation = 90)\n",
    "plt.bar(x, y, width=1)"
   ]
  },
  {
   "cell_type": "markdown",
   "metadata": {},
   "source": [
    "Wir lassen uns die unterschiedlichen Angaben zu den jeweiligen Kategorien anzeigen."
   ]
  },
  {
   "cell_type": "code",
   "execution_count": 186,
   "metadata": {},
   "outputs": [
    {
     "name": "stdout",
     "output_type": "stream",
     "text": [
      "[nan 'white' 'blue' 'red' 'black' 'silver' 'grey' 'brown' 'yellow'\n",
      " 'orange' 'green' 'custom' 'purple']\n",
      "[nan 'good' 'excellent' 'fair' 'like new' 'new' 'salvage']\n",
      "[nan 'pickup' 'truck' 'other' 'coupe' 'SUV' 'hatchback' 'mini-van' 'sedan'\n",
      " 'offroad' 'bus' 'van' 'convertible' 'wagon']\n",
      "[nan 'gas' 'other' 'diesel' 'hybrid' 'electric']\n",
      "[nan '8 cylinders' '6 cylinders' '4 cylinders' '5 cylinders' 'other'\n",
      " '3 cylinders' '10 cylinders' '12 cylinders']\n",
      "[nan 'clean' 'rebuilt' 'lien' 'salvage' 'missing' 'parts only']\n",
      "[nan 'pickup' 'truck' 'other' 'coupe' 'SUV' 'hatchback' 'mini-van' 'sedan'\n",
      " 'offroad' 'bus' 'van' 'convertible' 'wagon']\n",
      "[nan 'rwd' '4wd' 'fwd']\n",
      "[nan 'other' 'automatic' 'manual']\n"
     ]
    }
   ],
   "source": [
    "#Information about the categorical variables\n",
    "\n",
    "print(df[\"paint_color\"].unique())\n",
    "print(df[\"condition\"].unique())\n",
    "print(df[\"type\"].unique())\n",
    "print(df[\"fuel\"].unique())\n",
    "print(df[\"cylinders\"].unique())\n",
    "print(df[\"title_status\"].unique())\n",
    "print(df[\"type\"].unique())\n",
    "print(df[\"drive\"].unique())\n",
    "print(df[\"transmission\"].unique())"
   ]
  },
  {
   "cell_type": "markdown",
   "metadata": {},
   "source": [
    "Um einen Überblick zu erhalten, wie oft in der jeweiligen Kategorie kein Eintrag vorhanden ist lassen wir uns dies Anzeigen."
   ]
  },
  {
   "cell_type": "code",
   "execution_count": 187,
   "metadata": {},
   "outputs": [
    {
     "data": {
      "text/plain": [
       "county          426880\n",
       "size            306361\n",
       "cylinders       177678\n",
       "condition       174104\n",
       "VIN             161042\n",
       "drive           130567\n",
       "paint_color     130203\n",
       "type             92858\n",
       "manufacturer     17646\n",
       "title_status      8242\n",
       "lat               6549\n",
       "long              6549\n",
       "model             5277\n",
       "odometer          4400\n",
       "fuel              3013\n",
       "transmission      2556\n",
       "year              1205\n",
       "description         70\n",
       "image_url           68\n",
       "posting_date        68\n",
       "url                  0\n",
       "price                0\n",
       "state                0\n",
       "region_url           0\n",
       "region               0\n",
       "id                   0\n",
       "dtype: int64"
      ]
     },
     "execution_count": 187,
     "metadata": {},
     "output_type": "execute_result"
    }
   ],
   "source": [
    "df.isnull().sum().sort_values(ascending = False)"
   ]
  },
  {
   "cell_type": "markdown",
   "metadata": {},
   "source": [
    "Um die Vorhersage des Preises präziser zu ermöglichen, entfernen wir die Spalten aus dem Dataframe die wir für unnötige erachten:\n",
    "- county: extrem hohe Anzahl ein Nan einträgen.\n",
    "- size: extrem hohe Anzahl ein Nan einträgen.\n",
    "- id, url, region_url, lat, long, vin, image_url, description, geometry: Diese Angaben sind teilweise sehr individuell (z.B. description), oder für eine Preisvorhersage nicht relevant.\n",
    "- size: Die \"größe\" des Fahrzeugs ist Modellabhängig und kann somit ebenfalls entfernt werden.\n",
    "- region: Diese Angabe ist sehr präzise wir nutzen die Angaben in der Kategorie 'state' zur örtlichen Einschränkung."
   ]
  },
  {
   "cell_type": "code",
   "execution_count": 188,
   "metadata": {},
   "outputs": [
    {
     "data": {
      "text/html": [
       "<div>\n",
       "<style scoped>\n",
       "    .dataframe tbody tr th:only-of-type {\n",
       "        vertical-align: middle;\n",
       "    }\n",
       "\n",
       "    .dataframe tbody tr th {\n",
       "        vertical-align: top;\n",
       "    }\n",
       "\n",
       "    .dataframe thead th {\n",
       "        text-align: right;\n",
       "    }\n",
       "</style>\n",
       "<table border=\"1\" class=\"dataframe\">\n",
       "  <thead>\n",
       "    <tr style=\"text-align: right;\">\n",
       "      <th></th>\n",
       "      <th>price</th>\n",
       "      <th>year</th>\n",
       "      <th>manufacturer</th>\n",
       "      <th>model</th>\n",
       "      <th>condition</th>\n",
       "      <th>cylinders</th>\n",
       "      <th>fuel</th>\n",
       "      <th>odometer</th>\n",
       "      <th>title_status</th>\n",
       "      <th>transmission</th>\n",
       "      <th>drive</th>\n",
       "      <th>type</th>\n",
       "      <th>paint_color</th>\n",
       "      <th>state</th>\n",
       "      <th>posting_date</th>\n",
       "    </tr>\n",
       "  </thead>\n",
       "  <tbody>\n",
       "    <tr>\n",
       "      <th>0</th>\n",
       "      <td>6000</td>\n",
       "      <td>NaN</td>\n",
       "      <td>NaN</td>\n",
       "      <td>NaN</td>\n",
       "      <td>NaN</td>\n",
       "      <td>NaN</td>\n",
       "      <td>NaN</td>\n",
       "      <td>NaN</td>\n",
       "      <td>NaN</td>\n",
       "      <td>NaN</td>\n",
       "      <td>NaN</td>\n",
       "      <td>NaN</td>\n",
       "      <td>NaN</td>\n",
       "      <td>az</td>\n",
       "      <td>NaN</td>\n",
       "    </tr>\n",
       "    <tr>\n",
       "      <th>1</th>\n",
       "      <td>11900</td>\n",
       "      <td>NaN</td>\n",
       "      <td>NaN</td>\n",
       "      <td>NaN</td>\n",
       "      <td>NaN</td>\n",
       "      <td>NaN</td>\n",
       "      <td>NaN</td>\n",
       "      <td>NaN</td>\n",
       "      <td>NaN</td>\n",
       "      <td>NaN</td>\n",
       "      <td>NaN</td>\n",
       "      <td>NaN</td>\n",
       "      <td>NaN</td>\n",
       "      <td>ar</td>\n",
       "      <td>NaN</td>\n",
       "    </tr>\n",
       "    <tr>\n",
       "      <th>2</th>\n",
       "      <td>21000</td>\n",
       "      <td>NaN</td>\n",
       "      <td>NaN</td>\n",
       "      <td>NaN</td>\n",
       "      <td>NaN</td>\n",
       "      <td>NaN</td>\n",
       "      <td>NaN</td>\n",
       "      <td>NaN</td>\n",
       "      <td>NaN</td>\n",
       "      <td>NaN</td>\n",
       "      <td>NaN</td>\n",
       "      <td>NaN</td>\n",
       "      <td>NaN</td>\n",
       "      <td>fl</td>\n",
       "      <td>NaN</td>\n",
       "    </tr>\n",
       "    <tr>\n",
       "      <th>3</th>\n",
       "      <td>1500</td>\n",
       "      <td>NaN</td>\n",
       "      <td>NaN</td>\n",
       "      <td>NaN</td>\n",
       "      <td>NaN</td>\n",
       "      <td>NaN</td>\n",
       "      <td>NaN</td>\n",
       "      <td>NaN</td>\n",
       "      <td>NaN</td>\n",
       "      <td>NaN</td>\n",
       "      <td>NaN</td>\n",
       "      <td>NaN</td>\n",
       "      <td>NaN</td>\n",
       "      <td>ma</td>\n",
       "      <td>NaN</td>\n",
       "    </tr>\n",
       "    <tr>\n",
       "      <th>4</th>\n",
       "      <td>4900</td>\n",
       "      <td>NaN</td>\n",
       "      <td>NaN</td>\n",
       "      <td>NaN</td>\n",
       "      <td>NaN</td>\n",
       "      <td>NaN</td>\n",
       "      <td>NaN</td>\n",
       "      <td>NaN</td>\n",
       "      <td>NaN</td>\n",
       "      <td>NaN</td>\n",
       "      <td>NaN</td>\n",
       "      <td>NaN</td>\n",
       "      <td>NaN</td>\n",
       "      <td>nc</td>\n",
       "      <td>NaN</td>\n",
       "    </tr>\n",
       "  </tbody>\n",
       "</table>\n",
       "</div>"
      ],
      "text/plain": [
       "   price  year manufacturer model condition cylinders fuel  odometer  \\\n",
       "0   6000   NaN          NaN   NaN       NaN       NaN  NaN       NaN   \n",
       "1  11900   NaN          NaN   NaN       NaN       NaN  NaN       NaN   \n",
       "2  21000   NaN          NaN   NaN       NaN       NaN  NaN       NaN   \n",
       "3   1500   NaN          NaN   NaN       NaN       NaN  NaN       NaN   \n",
       "4   4900   NaN          NaN   NaN       NaN       NaN  NaN       NaN   \n",
       "\n",
       "  title_status transmission drive type paint_color state posting_date  \n",
       "0          NaN          NaN   NaN  NaN         NaN    az          NaN  \n",
       "1          NaN          NaN   NaN  NaN         NaN    ar          NaN  \n",
       "2          NaN          NaN   NaN  NaN         NaN    fl          NaN  \n",
       "3          NaN          NaN   NaN  NaN         NaN    ma          NaN  \n",
       "4          NaN          NaN   NaN  NaN         NaN    nc          NaN  "
      ]
     },
     "execution_count": 188,
     "metadata": {},
     "output_type": "execute_result"
    }
   ],
   "source": [
    "\n",
    "\n",
    "df.drop([ 'id', 'url', 'region_url', 'lat', 'long', 'VIN', 'image_url',\n",
    "         'description', 'county','size','region'], axis = 1, inplace = True)\n",
    "df.head()"
   ]
  },
  {
   "cell_type": "markdown",
   "metadata": {},
   "source": [
    "In der Kategorie \"title_status\" sind die Angaben [nan 'clean' 'rebuilt' 'lien' 'salvage' 'missing' 'parts only'] vorhanden.(siehe oben) Für eine Preisvorhersage von Fahrzeugen, können die Inserate mit dem Titel 'rebuilt' 'lien' 'salvage' 'missing' 'parts only' jedoch nicht verwendet werden. "
   ]
  },
  {
   "cell_type": "code",
   "execution_count": 189,
   "metadata": {},
   "outputs": [],
   "source": [
    "\n",
    "df = df[((df['title_status'] != 'missing') & (df['title_status'] != 'parts only') \n",
    "    & (df['title_status'] != 'salvage') & (df['title_status'] != 'rebuilt')\n",
    "   & (df['title_status'] != 'lien'))]\n"
   ]
  },
  {
   "cell_type": "markdown",
   "metadata": {},
   "source": [
    "Aussortieren von Inseraten mit unrealistischen Preisen"
   ]
  },
  {
   "cell_type": "code",
   "execution_count": 190,
   "metadata": {},
   "outputs": [],
   "source": [
    "df = df[((df['price'] < 500000) & (df['price'] > 100))]"
   ]
  },
  {
   "cell_type": "markdown",
   "metadata": {},
   "source": [
    "Jetzt lassen wir uns die Fahrzeuginserate anhand der Baujahre und des zugehörigen Preises anzeigen."
   ]
  },
  {
   "cell_type": "code",
   "execution_count": 191,
   "metadata": {},
   "outputs": [
    {
     "data": {
      "text/plain": [
       "<matplotlib.lines.Line2D at 0x16e8046aef0>"
      ]
     },
     "execution_count": 191,
     "metadata": {},
     "output_type": "execute_result"
    },
    {
     "data": {
      "image/png": "[encoded data removed]",
      "text/plain": [
       "<Figure size 720x360 with 1 Axes>"
      ]
     },
     "metadata": {
      "needs_background": "light"
     },
     "output_type": "display_data"
    }
   ],
   "source": [
    "starting_year = 1960\n",
    "x = (df.groupby(['year'],as_index = False).count())['year'].tolist()\n",
    "y = (df.groupby(['year'],as_index = False).count())['price'].tolist()\n",
    "fig = plt.figure(figsize=(10,5))\n",
    "plt.bar(x, y, width=1)\n",
    "plt.axvline(starting_year, color = 'red')"
   ]
  },
  {
   "cell_type": "markdown",
   "metadata": {},
   "source": [
    "Die Anzahl an Fahrzeugen die vor 1960 gebaut wurden ist sehr gering und die Preise niedrig, für diese Fahrzeuge ist keine genau Preis Ermittlung möglich."
   ]
  },
  {
   "cell_type": "code",
   "execution_count": 192,
   "metadata": {},
   "outputs": [],
   "source": [
    "\n",
    "df = df[df['year'] > 1960]\n"
   ]
  },
  {
   "cell_type": "markdown",
   "metadata": {},
   "source": [
    "Fahrzeuge mit sehr hohen Tachostand (höchsten 1%) können ebenfalls ignoriert werden."
   ]
  },
  {
   "cell_type": "code",
   "execution_count": 193,
   "metadata": {},
   "outputs": [],
   "source": [
    "top1 = np.nanpercentile(df['odometer'], 99)\n",
    "df = df[df['odometer'] < top1]"
   ]
  },
  {
   "cell_type": "markdown",
   "metadata": {},
   "source": [
    "Fahrzeuge die keine Angeben in den Spalten fuel, transmission, manufacturer und model können ebenfalls vernächlässigt werden, da diese Angaben hohe Priorität haben."
   ]
  },
  {
   "cell_type": "code",
   "execution_count": 194,
   "metadata": {},
   "outputs": [
    {
     "data": {
      "text/plain": [
       "(341590, 15)"
      ]
     },
     "execution_count": 194,
     "metadata": {},
     "output_type": "execute_result"
    }
   ],
   "source": [
    "#delete unknown fuel, transmission and title_status instances\n",
    "\n",
    "df.dropna(subset = ['fuel', 'transmission', 'title_status'], axis = 0, inplace = True)\n",
    "df = df[~df['manufacturer'].isnull()]\n",
    "df = df[~df['model'].isnull()]\n",
    "df.shape"
   ]
  },
  {
   "cell_type": "markdown",
   "metadata": {},
   "source": [
    "Um im späteren Verlauf eine Prediction zu ermöglichen ersetzen wir in den restlichen Spalten die Nan Angaben durch unknowen bzw. not specified"
   ]
  },
  {
   "cell_type": "code",
   "execution_count": 195,
   "metadata": {},
   "outputs": [],
   "source": [
    "#replace missing condition values with 'not specified'\n",
    "\n",
    "df['condition'].fillna('not specified', inplace = True)\n",
    "df['paint_color'].fillna('unknown', inplace = True)\n"
   ]
  },
  {
   "cell_type": "markdown",
   "metadata": {},
   "source": [
    "Da in einigen inseraten Modell verschieden beschrieben werden z.B. F150, F150 good condition, F-150 beschränken wir uns auf das erste Wort in der Beschreibung und entfernen alle Modelle die anschließend weniger als 150 mal auftreten. Desweitern fügen wir den manufacturer in der Spalte model hinzu, um zu vermeiden, dass Fahrzeuge die den gleichen Modellnamen jedoch von unterschiedlichen Herstellern sind, zusammengfügt werden. Dies machen wir in einem speraten Dataframe um uns die Unterschiede anzeigen lassen zu können"
   ]
  },
  {
   "cell_type": "code",
   "execution_count": 196,
   "metadata": {},
   "outputs": [
    {
     "name": "stdout",
     "output_type": "stream",
     "text": [
      "Alle models  2948\n",
      "models mit mehr als 150 Einträgen:  310\n",
      "Prozentualeranteil an gelöschten models: 89.48\n",
      "\n",
      "Gesamtanzahl an Inseraten:  341590\n",
      "Verbleibende Inserate:  311179\n",
      "Prozentualeranteil an gelöschten Inseraten  8.9\n"
     ]
    }
   ],
   "source": [
    "\n",
    "\n",
    "model_list = df['model'].tolist()\n",
    "model_list = map(str, model_list)\n",
    "model_list = [x.lower().strip() for x in model_list]\n",
    "my_list = [car_model.split()[0] for car_model in model_list]\n",
    "my_list = [x.replace(' ', '').replace('-', '').replace('/', '') for x in my_list]\n",
    "\n",
    "df['car_model'] = my_list\n",
    "df['car_model'] = df['manufacturer'] + \" \" + df['car_model']\n",
    "\n",
    "new_car_models = (df.groupby(['car_model'], as_index= False).count())[['manufacturer', 'car_model', 'price']]\n",
    "new_car_models = new_car_models.rename(columns={'price': 'count'})\n",
    "only_common_models = new_car_models[new_car_models['count'] > 150]\n",
    "#evtl löschen\n",
    "print('Alle models ', len(new_car_models['count']))\n",
    "print('models mit mehr als 150 Einträgen: ', len(only_common_models['count']))\n",
    "print('Prozentualeranteil an gelöschten models:', round((1-len(only_common_models['count'])/len(new_car_models['count'])) * 100, 2))\n",
    "print()\n",
    "print('Gesamtanzahl an Inseraten: ', len(df['price']))\n",
    "print('Verbleibende Inserate: ', sum(only_common_models['count']))\n",
    "print('Prozentualeranteil an gelöschten Inseraten ', round((1-sum(only_common_models['count'])/len(df['price'])) * 100, 2))"
   ]
  },
  {
   "cell_type": "markdown",
   "metadata": {},
   "source": [
    "Um einen graphischen Überblick zu erhalten wieviele Fahrzeugemodell und Inserate gelöscht werden, wenn wir die mindest Anzahl auf 150 setzen lassen wir uns dies Anzeigen."
   ]
  },
  {
   "cell_type": "code",
   "execution_count": 197,
   "metadata": {},
   "outputs": [
    {
     "data": {
      "text/plain": [
       "<matplotlib.legend.Legend at 0x16b01320c70>"
      ]
     },
     "execution_count": 197,
     "metadata": {},
     "output_type": "execute_result"
    },
    {
     "data": {
      "image/png": "[encoded data removed]",
      "text/plain": [
       "<Figure size 504x504 with 1 Axes>"
      ]
     },
     "metadata": {
      "needs_background": "light"
     },
     "output_type": "display_data"
    }
   ],
   "source": [
    "removed_models_list = []\n",
    "removed_instances_list = []\n",
    "\n",
    "for i in range(0,1000):\n",
    "    only_common_models_v2 = new_car_models[new_car_models['count']>i]\n",
    "    models_removed = 1-len(only_common_models_v2['count'])/len(new_car_models['count'])\n",
    "    instances_removed = 1-sum(only_common_models_v2['count'])/len(df['price'])\n",
    "    \n",
    "    removed_models_list.append(models_removed)\n",
    "    removed_instances_list.append(instances_removed)\n",
    "\n",
    "fig = plt.figure(figsize=(7,7))\n",
    "plt.plot(removed_models_list, label = 'Prozentzahl der gelöschten Modelle')\n",
    "plt.plot(removed_instances_list, label = 'Prozentzahl der gelöschten Inserate')\n",
    "plt.axvline(150 , color = 'red', label = 'Cut-off')\n",
    "plt.ylabel('Prozentualeranteil der verbleibenden Inserate bzw. Modelle')\n",
    "plt.xlabel('Anzahl an Anzeigen pro Modell')\n",
    "plt.legend()"
   ]
  },
  {
   "cell_type": "markdown",
   "metadata": {},
   "source": [
    "Wir sind mit unsere Grenze von min. 150 Fahrzeugen zufrieden, da noch genügend Daten für eine Preisvorhersage vorhanden sind und trotzdem stark genüg reduziert wurde um die Gefahr des overfittings zu veringern.\n",
    "Wir übernehmen unsere Änderungen im Hauptdataframe."
   ]
  },
  {
   "cell_type": "code",
   "execution_count": 198,
   "metadata": {},
   "outputs": [],
   "source": [
    "df = df[df['car_model'].isin(only_common_models['car_model'].tolist())]\n",
    "df.drop('model', axis = 1, inplace = True)\n"
   ]
  },
  {
   "cell_type": "markdown",
   "metadata": {},
   "source": [
    "Wir lassen uns das aktuelle Datafield anzeigen um einen Überblick zubekommen."
   ]
  },
  {
   "cell_type": "code",
   "execution_count": 199,
   "metadata": {},
   "outputs": [
    {
     "data": {
      "text/html": [
       "<div>\n",
       "<style scoped>\n",
       "    .dataframe tbody tr th:only-of-type {\n",
       "        vertical-align: middle;\n",
       "    }\n",
       "\n",
       "    .dataframe tbody tr th {\n",
       "        vertical-align: top;\n",
       "    }\n",
       "\n",
       "    .dataframe thead th {\n",
       "        text-align: right;\n",
       "    }\n",
       "</style>\n",
       "<table border=\"1\" class=\"dataframe\">\n",
       "  <thead>\n",
       "    <tr style=\"text-align: right;\">\n",
       "      <th></th>\n",
       "      <th>price</th>\n",
       "      <th>year</th>\n",
       "      <th>manufacturer</th>\n",
       "      <th>condition</th>\n",
       "      <th>cylinders</th>\n",
       "      <th>fuel</th>\n",
       "      <th>odometer</th>\n",
       "      <th>title_status</th>\n",
       "      <th>transmission</th>\n",
       "      <th>drive</th>\n",
       "      <th>type</th>\n",
       "      <th>paint_color</th>\n",
       "      <th>state</th>\n",
       "      <th>posting_date</th>\n",
       "      <th>car_model</th>\n",
       "    </tr>\n",
       "  </thead>\n",
       "  <tbody>\n",
       "    <tr>\n",
       "      <th>27</th>\n",
       "      <td>33590</td>\n",
       "      <td>2014.0</td>\n",
       "      <td>gmc</td>\n",
       "      <td>good</td>\n",
       "      <td>8 cylinders</td>\n",
       "      <td>gas</td>\n",
       "      <td>57923.0</td>\n",
       "      <td>clean</td>\n",
       "      <td>other</td>\n",
       "      <td>NaN</td>\n",
       "      <td>pickup</td>\n",
       "      <td>white</td>\n",
       "      <td>al</td>\n",
       "      <td>2021-05-04T12:31:18-0500</td>\n",
       "      <td>gmc sierra</td>\n",
       "    </tr>\n",
       "    <tr>\n",
       "      <th>28</th>\n",
       "      <td>22590</td>\n",
       "      <td>2010.0</td>\n",
       "      <td>chevrolet</td>\n",
       "      <td>good</td>\n",
       "      <td>8 cylinders</td>\n",
       "      <td>gas</td>\n",
       "      <td>71229.0</td>\n",
       "      <td>clean</td>\n",
       "      <td>other</td>\n",
       "      <td>NaN</td>\n",
       "      <td>pickup</td>\n",
       "      <td>blue</td>\n",
       "      <td>al</td>\n",
       "      <td>2021-05-04T12:31:08-0500</td>\n",
       "      <td>chevrolet silverado</td>\n",
       "    </tr>\n",
       "    <tr>\n",
       "      <th>29</th>\n",
       "      <td>39590</td>\n",
       "      <td>2020.0</td>\n",
       "      <td>chevrolet</td>\n",
       "      <td>good</td>\n",
       "      <td>8 cylinders</td>\n",
       "      <td>gas</td>\n",
       "      <td>19160.0</td>\n",
       "      <td>clean</td>\n",
       "      <td>other</td>\n",
       "      <td>NaN</td>\n",
       "      <td>pickup</td>\n",
       "      <td>red</td>\n",
       "      <td>al</td>\n",
       "      <td>2021-05-04T12:31:25-0500</td>\n",
       "      <td>chevrolet silverado</td>\n",
       "    </tr>\n",
       "    <tr>\n",
       "      <th>30</th>\n",
       "      <td>30990</td>\n",
       "      <td>2017.0</td>\n",
       "      <td>toyota</td>\n",
       "      <td>good</td>\n",
       "      <td>8 cylinders</td>\n",
       "      <td>gas</td>\n",
       "      <td>41124.0</td>\n",
       "      <td>clean</td>\n",
       "      <td>other</td>\n",
       "      <td>NaN</td>\n",
       "      <td>pickup</td>\n",
       "      <td>red</td>\n",
       "      <td>al</td>\n",
       "      <td>2021-05-04T10:41:31-0500</td>\n",
       "      <td>toyota tundra</td>\n",
       "    </tr>\n",
       "    <tr>\n",
       "      <th>31</th>\n",
       "      <td>15000</td>\n",
       "      <td>2013.0</td>\n",
       "      <td>ford</td>\n",
       "      <td>excellent</td>\n",
       "      <td>6 cylinders</td>\n",
       "      <td>gas</td>\n",
       "      <td>128000.0</td>\n",
       "      <td>clean</td>\n",
       "      <td>automatic</td>\n",
       "      <td>rwd</td>\n",
       "      <td>truck</td>\n",
       "      <td>black</td>\n",
       "      <td>al</td>\n",
       "      <td>2021-05-03T14:02:03-0500</td>\n",
       "      <td>ford f150</td>\n",
       "    </tr>\n",
       "  </tbody>\n",
       "</table>\n",
       "</div>"
      ],
      "text/plain": [
       "    price    year manufacturer  condition    cylinders fuel  odometer  \\\n",
       "27  33590  2014.0          gmc       good  8 cylinders  gas   57923.0   \n",
       "28  22590  2010.0    chevrolet       good  8 cylinders  gas   71229.0   \n",
       "29  39590  2020.0    chevrolet       good  8 cylinders  gas   19160.0   \n",
       "30  30990  2017.0       toyota       good  8 cylinders  gas   41124.0   \n",
       "31  15000  2013.0         ford  excellent  6 cylinders  gas  128000.0   \n",
       "\n",
       "   title_status transmission drive    type paint_color state  \\\n",
       "27        clean        other   NaN  pickup       white    al   \n",
       "28        clean        other   NaN  pickup        blue    al   \n",
       "29        clean        other   NaN  pickup         red    al   \n",
       "30        clean        other   NaN  pickup         red    al   \n",
       "31        clean    automatic   rwd   truck       black    al   \n",
       "\n",
       "                posting_date            car_model  \n",
       "27  2021-05-04T12:31:18-0500           gmc sierra  \n",
       "28  2021-05-04T12:31:08-0500  chevrolet silverado  \n",
       "29  2021-05-04T12:31:25-0500  chevrolet silverado  \n",
       "30  2021-05-04T10:41:31-0500        toyota tundra  \n",
       "31  2021-05-03T14:02:03-0500            ford f150  "
      ]
     },
     "execution_count": 199,
     "metadata": {},
     "output_type": "execute_result"
    }
   ],
   "source": [
    "df.head()"
   ]
  },
  {
   "cell_type": "markdown",
   "metadata": {},
   "source": [
    "In der Splate cylinders ersetzen wir die Werte Nan durch den Median und löschen die Einträge mit der Angabe 'others'."
   ]
  },
  {
   "cell_type": "code",
   "execution_count": 200,
   "metadata": {},
   "outputs": [],
   "source": [
    "df = df[df['cylinders'] != 'other']\n",
    "dftest = df.copy()\n",
    "test = df[df['cylinders'].notnull()].copy()\n",
    "test['cylinders'] = [int(cyl.split()[0]) for cyl in test['cylinders']]\n",
    "med = test.groupby('car_model')['cylinders'].median()\n",
    "merged = pd.merge(dftest, med, on = 'car_model', how = 'left')\n",
    "merged['cylinders_y'].fillna(med.median(), inplace = True)\n",
    "merged['cylinders_x'].fillna(merged['cylinders_y'], inplace = True)\n",
    "\n",
    "li = []\n",
    "for cyl in merged['cylinders_x']:\n",
    "    if type(cyl) == str:\n",
    "        li.append(cyl)\n",
    "    else:\n",
    "        li.append(str(int(cyl)) + \" cylinders\")\n",
    "\n",
    "df['cylinders'] = li\n"
   ]
  },
  {
   "cell_type": "markdown",
   "metadata": {},
   "source": [
    "Wir fügen in der Spalte \"drive\" bei Einträgen ohne Anagbe den am häuigst auftretenden Werte ein."
   ]
  },
  {
   "cell_type": "code",
   "execution_count": 201,
   "metadata": {},
   "outputs": [
    {
     "data": {
      "text/plain": [
       "array(['4wd', 'rwd', 'fwd'], dtype=object)"
      ]
     },
     "execution_count": 201,
     "metadata": {},
     "output_type": "execute_result"
    }
   ],
   "source": [
    "dftest = df.copy()\n",
    "test = df[df['drive'].notnull()].copy()\n",
    "mode = test.groupby('car_model')['drive'].agg(pd.Series.mode)\n",
    "merged = pd.merge(dftest, mode, on = 'car_model', how = 'left')\n",
    "merged['drive_x'].fillna(merged['drive_y'], inplace = True)\n",
    "\n",
    "df['drive'] = merged['drive_x'].tolist()\n",
    "df['drive'].unique()"
   ]
  },
  {
   "cell_type": "markdown",
   "metadata": {},
   "source": [
    "Selbiges führen wir für die Spalte \"type\" druch."
   ]
  },
  {
   "cell_type": "code",
   "execution_count": 202,
   "metadata": {},
   "outputs": [],
   "source": [
    "dftest = df.copy()\n",
    "test = df[df['type'].notnull()].copy()\n",
    "mode = test.groupby('car_model')['type'].agg(pd.Series.mode)\n",
    "merged = pd.merge(dftest, mode, on = 'car_model', how = 'left')\n",
    "merged['type_x'].fillna(merged['type_y'], inplace = True)\n",
    "\n",
    "df['type'] = merged['type_x'].tolist()\n"
   ]
  },
  {
   "cell_type": "markdown",
   "metadata": {},
   "source": [
    "Um zu überprüfen, ob keine weiteren Nan einträge in den Spalten vorhanden sind zählen wir die Einträge mit Nan in allen Kategorien"
   ]
  },
  {
   "cell_type": "code",
   "execution_count": 203,
   "metadata": {},
   "outputs": [
    {
     "data": {
      "text/plain": [
       "price           0\n",
       "year            0\n",
       "manufacturer    0\n",
       "condition       0\n",
       "cylinders       0\n",
       "fuel            0\n",
       "odometer        0\n",
       "title_status    0\n",
       "transmission    0\n",
       "drive           0\n",
       "type            0\n",
       "paint_color     0\n",
       "state           0\n",
       "posting_date    0\n",
       "car_model       0\n",
       "dtype: int64"
      ]
     },
     "execution_count": 203,
     "metadata": {},
     "output_type": "execute_result"
    }
   ],
   "source": [
    "#all the missing values are handled\n",
    "\n",
    "df.isnull().sum()"
   ]
  },
  {
   "cell_type": "markdown",
   "metadata": {},
   "source": [
    "Einträge die einen untypisch hohen Preis (dreifcher Durchschnittspreis) haben, entfernen wir ebenfalls aus dem Datensatz."
   ]
  },
  {
   "cell_type": "code",
   "execution_count": 204,
   "metadata": {},
   "outputs": [],
   "source": [
    "df = df[df['price'] < (3 * df.groupby('car_model')['price'].transform('mean'))]"
   ]
  },
  {
   "cell_type": "markdown",
   "metadata": {},
   "source": [
    "Um eine Vorstellung zu bekommen wieviele Einträge und Spalten wir durch unsere Eingrenzungsmaßnahemn entferen konnten lassen wir uns erneut die Dimensionen des Dataframes anzeigen. Wir konnten von einem die Einträge im Dataframe von 426880 x 26 auf 309189 x 15 reduzieren.\n",
    "Dies entspricht einer Kürzung von 117691 Zeilen und 11 Spalten."
   ]
  },
  {
   "cell_type": "code",
   "execution_count": 205,
   "metadata": {},
   "outputs": [
    {
     "data": {
      "text/plain": [
       "(309189, 15)"
      ]
     },
     "execution_count": 205,
     "metadata": {},
     "output_type": "execute_result"
    }
   ],
   "source": [
    "df.shape"
   ]
  },
  {
   "cell_type": "markdown",
   "metadata": {},
   "source": [
    "Wir erstellen eine Kopie des Dataframes um es erneut herstellen zukönnen. Und erstellen die csv Datei clean."
   ]
  },
  {
   "cell_type": "code",
   "execution_count": 206,
   "metadata": {},
   "outputs": [],
   "source": [
    "clean = df.copy()"
   ]
  },
  {
   "cell_type": "code",
   "execution_count": 207,
   "metadata": {},
   "outputs": [],
   "source": [
    "df.to_csv('clean.csv', index = False)"
   ]
  },
  {
   "cell_type": "code",
   "execution_count": 208,
   "metadata": {},
   "outputs": [],
   "source": [
    "#creates model as defined in 'reg' and returns test & train evaluation metrics\n",
    "#default is 80/20 train-test split: industry standard\n",
    "\n",
    "def updateModel(datafr, test_percentage = 0.2, seed = 7):\n",
    "    \n",
    "    #train-test split\n",
    "    X = datafr.drop('price', axis = 1)\n",
    "    y = datafr['price']\n",
    "    X_train, X_test, y_train, y_test = train_test_split(X, y, test_size = test_percentage, random_state = seed)\n",
    "    X_train = pd.get_dummies(X_train, drop_first = True)\n",
    "    X_test = pd.get_dummies(X_test, drop_first = True)\n",
    "    \n",
    "    #feature scaling\n",
    "    sc = StandardScaler()\n",
    "    X_train = sc.fit_transform(X_train)\n",
    "    X_test = sc.transform(X_test)\n",
    "    \n",
    "    #making model + predicting\n",
    "    reg.fit(X_train, y_train)\n",
    "    y_pred_test = reg.predict(X_test)\n",
    "    y_pred_train = reg.predict(X_train)\n",
    "    \n",
    "    #computing test & train metrics\n",
    "    test_metrics = {'r2': round(r2_score(y_test, y_pred_test) * 100, 2),\n",
    "           'mae': round(mean_absolute_error(y_test, y_pred_test), 2),\n",
    "           'mse': round(mean_squared_error(y_test, y_pred_test), 2),\n",
    "           'mape': round(mean_absolute_percentage_error(y_test, y_pred_test) * 100, 2)\n",
    "           }\n",
    "    train_metrics = {'r2': round(r2_score(y_train, y_pred_train) * 100, 2),\n",
    "           'mae': round(mean_absolute_error(y_train, y_pred_train), 2),\n",
    "           'mse': round(mean_squared_error(y_train, y_pred_train), 2),\n",
    "           'mape': round(mean_absolute_percentage_error(y_train, y_pred_train) * 100, 2)\n",
    "           }\n",
    "    \n",
    "    return {'test_metrics': test_metrics,\n",
    "            'train_metrics': train_metrics}"
   ]
  },
  {
   "cell_type": "code",
   "execution_count": 209,
   "metadata": {},
   "outputs": [],
   "source": [
    "#creates model as defined in 'reg' and returns k fold cross validation metrics\n",
    "#default is 5-fold CV: industry standard & default scoring is MAE because of easy interpretation\n",
    "\n",
    "def get_kCVscores(datafr, k = 5, scoring = 'neg_mean_absolute_error'):\n",
    "    X = datafr.drop('price', axis = 1)\n",
    "    X = pd.get_dummies(X, drop_first = True)\n",
    "    y = datafr['price']\n",
    "    return (cross_val_score(reg, X, y, cv = k, scoring = scoring) * (-1))"
   ]
  },
  {
   "cell_type": "code",
   "execution_count": 210,
   "metadata": {},
   "outputs": [],
   "source": [
    "#K-means clustering function\n",
    "def k_means_clustering(datafr, k):\n",
    "    df_to_return = datafr.copy()\n",
    "    df_with_dummies = pd.get_dummies(datafr, drop_first = True)\n",
    "    km = KMeans(n_clusters = k)\n",
    "    df_to_return['cluster'] = km.fit_predict(df_with_dummies)\n",
    "    \n",
    "    return df_to_return"
   ]
  },
  {
   "cell_type": "code",
   "execution_count": 211,
   "metadata": {},
   "outputs": [],
   "source": [
    "reg = LinearRegression()"
   ]
  },
  {
   "cell_type": "markdown",
   "metadata": {},
   "source": []
  },
  {
   "cell_type": "code",
   "execution_count": 212,
   "metadata": {},
   "outputs": [
    {
     "data": {
      "text/html": [
       "<div>\n",
       "<style scoped>\n",
       "    .dataframe tbody tr th:only-of-type {\n",
       "        vertical-align: middle;\n",
       "    }\n",
       "\n",
       "    .dataframe tbody tr th {\n",
       "        vertical-align: top;\n",
       "    }\n",
       "\n",
       "    .dataframe thead th {\n",
       "        text-align: right;\n",
       "    }\n",
       "</style>\n",
       "<table border=\"1\" class=\"dataframe\">\n",
       "  <thead>\n",
       "    <tr style=\"text-align: right;\">\n",
       "      <th></th>\n",
       "      <th>price</th>\n",
       "      <th>year</th>\n",
       "      <th>manufacturer</th>\n",
       "      <th>condition</th>\n",
       "      <th>cylinders</th>\n",
       "      <th>fuel</th>\n",
       "      <th>odometer</th>\n",
       "      <th>title_status</th>\n",
       "      <th>transmission</th>\n",
       "      <th>drive</th>\n",
       "      <th>paint_color</th>\n",
       "      <th>state</th>\n",
       "      <th>posting_date</th>\n",
       "      <th>car_model</th>\n",
       "    </tr>\n",
       "  </thead>\n",
       "  <tbody>\n",
       "  </tbody>\n",
       "</table>\n",
       "</div>"
      ],
      "text/plain": [
       "Empty DataFrame\n",
       "Columns: [price, year, manufacturer, condition, cylinders, fuel, odometer, title_status, transmission, drive, paint_color, state, posting_date, car_model]\n",
       "Index: []"
      ]
     },
     "execution_count": 212,
     "metadata": {},
     "output_type": "execute_result"
    }
   ],
   "source": [
    "df=df.drop(['type'], axis=1)\n",
    "df.fillna('unknown')\n",
    "df[df.isna().any(axis=1)]"
   ]
  },
  {
   "cell_type": "code",
   "execution_count": 213,
   "metadata": {},
   "outputs": [
    {
     "ename": "MemoryError",
     "evalue": "Unable to allocate 47.9 GiB for an array with shape (226787, 226787) and data type uint8",
     "output_type": "error",
     "traceback": [
      "\u001b[1;31m---------------------------------------------------------------------------\u001b[0m",
      "\u001b[1;31mMemoryError\u001b[0m                               Traceback (most recent call last)",
      "\u001b[1;32mc:\\Users\\oache\\Desktop\\KI_ML\\Code\\Manuel_komplettloesung.ipynb Cell 61'\u001b[0m in \u001b[0;36m<cell line: 3>\u001b[1;34m()\u001b[0m\n\u001b[0;32m      <a href='vscode-notebook-cell:/c%3A/Users/oache/Desktop/KI_ML/Code/Manuel_komplettloesung.ipynb#ch0000040?line=0'>1</a>\u001b[0m \u001b[39m#initial linear regression model\u001b[39;00m\n\u001b[1;32m----> <a href='vscode-notebook-cell:/c%3A/Users/oache/Desktop/KI_ML/Code/Manuel_komplettloesung.ipynb#ch0000040?line=2'>3</a>\u001b[0m init_metrics \u001b[39m=\u001b[39m updateModel(df)\n\u001b[0;32m      <a href='vscode-notebook-cell:/c%3A/Users/oache/Desktop/KI_ML/Code/Manuel_komplettloesung.ipynb#ch0000040?line=3'>4</a>\u001b[0m \u001b[39mdef\u001b[39;00m \u001b[39mprint_metrics\u001b[39m(metrics):\n\u001b[0;32m      <a href='vscode-notebook-cell:/c%3A/Users/oache/Desktop/KI_ML/Code/Manuel_komplettloesung.ipynb#ch0000040?line=4'>5</a>\u001b[0m     \u001b[39mprint\u001b[39m(\u001b[39m'\u001b[39m\u001b[39mtest performance:\u001b[39m\u001b[39m'\u001b[39m, metrics[\u001b[39m'\u001b[39m\u001b[39mtest_metrics\u001b[39m\u001b[39m'\u001b[39m])\n",
      "\u001b[1;32mc:\\Users\\oache\\Desktop\\KI_ML\\Code\\Manuel_komplettloesung.ipynb Cell 55'\u001b[0m in \u001b[0;36mupdateModel\u001b[1;34m(datafr, test_percentage, seed)\u001b[0m\n\u001b[0;32m      <a href='vscode-notebook-cell:/c%3A/Users/oache/Desktop/KI_ML/Code/Manuel_komplettloesung.ipynb#ch0000034?line=7'>8</a>\u001b[0m y \u001b[39m=\u001b[39m datafr[\u001b[39m'\u001b[39m\u001b[39mprice\u001b[39m\u001b[39m'\u001b[39m]\n\u001b[0;32m      <a href='vscode-notebook-cell:/c%3A/Users/oache/Desktop/KI_ML/Code/Manuel_komplettloesung.ipynb#ch0000034?line=8'>9</a>\u001b[0m X_train, X_test, y_train, y_test \u001b[39m=\u001b[39m train_test_split(X, y, test_size \u001b[39m=\u001b[39m test_percentage, random_state \u001b[39m=\u001b[39m seed)\n\u001b[1;32m---> <a href='vscode-notebook-cell:/c%3A/Users/oache/Desktop/KI_ML/Code/Manuel_komplettloesung.ipynb#ch0000034?line=9'>10</a>\u001b[0m X_train \u001b[39m=\u001b[39m pd\u001b[39m.\u001b[39;49mget_dummies(X_train, drop_first \u001b[39m=\u001b[39;49m \u001b[39mTrue\u001b[39;49;00m)\n\u001b[0;32m     <a href='vscode-notebook-cell:/c%3A/Users/oache/Desktop/KI_ML/Code/Manuel_komplettloesung.ipynb#ch0000034?line=10'>11</a>\u001b[0m X_test \u001b[39m=\u001b[39m pd\u001b[39m.\u001b[39mget_dummies(X_test, drop_first \u001b[39m=\u001b[39m \u001b[39mTrue\u001b[39;00m)\n\u001b[0;32m     <a href='vscode-notebook-cell:/c%3A/Users/oache/Desktop/KI_ML/Code/Manuel_komplettloesung.ipynb#ch0000034?line=12'>13</a>\u001b[0m \u001b[39m#feature scaling\u001b[39;00m\n",
      "File \u001b[1;32mf:\\Python\\Python310\\lib\\site-packages\\pandas\\core\\reshape\\reshape.py:977\u001b[0m, in \u001b[0;36mget_dummies\u001b[1;34m(data, prefix, prefix_sep, dummy_na, columns, sparse, drop_first, dtype)\u001b[0m\n\u001b[0;32m    973\u001b[0m     with_dummies \u001b[39m=\u001b[39m [data\u001b[39m.\u001b[39mselect_dtypes(exclude\u001b[39m=\u001b[39mdtypes_to_encode)]\n\u001b[0;32m    975\u001b[0m \u001b[39mfor\u001b[39;00m (col, pre, sep) \u001b[39min\u001b[39;00m \u001b[39mzip\u001b[39m(data_to_encode\u001b[39m.\u001b[39mitems(), prefix, prefix_sep):\n\u001b[0;32m    976\u001b[0m     \u001b[39m# col is (column_name, column), use just column data here\u001b[39;00m\n\u001b[1;32m--> 977\u001b[0m     dummy \u001b[39m=\u001b[39m _get_dummies_1d(\n\u001b[0;32m    978\u001b[0m         col[\u001b[39m1\u001b[39;49m],\n\u001b[0;32m    979\u001b[0m         prefix\u001b[39m=\u001b[39;49mpre,\n\u001b[0;32m    980\u001b[0m         prefix_sep\u001b[39m=\u001b[39;49msep,\n\u001b[0;32m    981\u001b[0m         dummy_na\u001b[39m=\u001b[39;49mdummy_na,\n\u001b[0;32m    982\u001b[0m         sparse\u001b[39m=\u001b[39;49msparse,\n\u001b[0;32m    983\u001b[0m         drop_first\u001b[39m=\u001b[39;49mdrop_first,\n\u001b[0;32m    984\u001b[0m         dtype\u001b[39m=\u001b[39;49mdtype,\n\u001b[0;32m    985\u001b[0m     )\n\u001b[0;32m    986\u001b[0m     with_dummies\u001b[39m.\u001b[39mappend(dummy)\n\u001b[0;32m    987\u001b[0m result \u001b[39m=\u001b[39m concat(with_dummies, axis\u001b[39m=\u001b[39m\u001b[39m1\u001b[39m)\n",
      "File \u001b[1;32mf:\\Python\\Python310\\lib\\site-packages\\pandas\\core\\reshape\\reshape.py:1096\u001b[0m, in \u001b[0;36m_get_dummies_1d\u001b[1;34m(data, prefix, prefix_sep, dummy_na, sparse, drop_first, dtype)\u001b[0m\n\u001b[0;32m   1092\u001b[0m     \u001b[39mreturn\u001b[39;00m concat(sparse_series, axis\u001b[39m=\u001b[39m\u001b[39m1\u001b[39m, copy\u001b[39m=\u001b[39m\u001b[39mFalse\u001b[39;00m)\n\u001b[0;32m   1094\u001b[0m \u001b[39melse\u001b[39;00m:\n\u001b[0;32m   1095\u001b[0m     \u001b[39m# take on axis=1 + transpose to ensure ndarray layout is column-major\u001b[39;00m\n\u001b[1;32m-> 1096\u001b[0m     dummy_mat \u001b[39m=\u001b[39m np\u001b[39m.\u001b[39;49meye(number_of_cols, dtype\u001b[39m=\u001b[39;49mdtype)\u001b[39m.\u001b[39mtake(codes, axis\u001b[39m=\u001b[39m\u001b[39m1\u001b[39m)\u001b[39m.\u001b[39mT\n\u001b[0;32m   1098\u001b[0m     \u001b[39mif\u001b[39;00m \u001b[39mnot\u001b[39;00m dummy_na:\n\u001b[0;32m   1099\u001b[0m         \u001b[39m# reset NaN GH4446\u001b[39;00m\n\u001b[0;32m   1100\u001b[0m         dummy_mat[codes \u001b[39m==\u001b[39m \u001b[39m-\u001b[39m\u001b[39m1\u001b[39m] \u001b[39m=\u001b[39m \u001b[39m0\u001b[39m\n",
      "File \u001b[1;32mf:\\Python\\Python310\\lib\\site-packages\\numpy\\lib\\twodim_base.py:214\u001b[0m, in \u001b[0;36meye\u001b[1;34m(N, M, k, dtype, order, like)\u001b[0m\n\u001b[0;32m    212\u001b[0m \u001b[39mif\u001b[39;00m M \u001b[39mis\u001b[39;00m \u001b[39mNone\u001b[39;00m:\n\u001b[0;32m    213\u001b[0m     M \u001b[39m=\u001b[39m N\n\u001b[1;32m--> 214\u001b[0m m \u001b[39m=\u001b[39m zeros((N, M), dtype\u001b[39m=\u001b[39;49mdtype, order\u001b[39m=\u001b[39;49morder)\n\u001b[0;32m    215\u001b[0m \u001b[39mif\u001b[39;00m k \u001b[39m>\u001b[39m\u001b[39m=\u001b[39m M:\n\u001b[0;32m    216\u001b[0m     \u001b[39mreturn\u001b[39;00m m\n",
      "\u001b[1;31mMemoryError\u001b[0m: Unable to allocate 47.9 GiB for an array with shape (226787, 226787) and data type uint8"
     ]
    }
   ],
   "source": [
    "#initial linear regression model\n",
    "\n",
    "init_metrics = updateModel(df)\n",
    "def print_metrics(metrics):\n",
    "    print('test performance:', metrics['test_metrics'])\n",
    "    print('initial test performance:', init_metrics['test_metrics'])\n",
    "    print()\n",
    "    print('train performance:', metrics['train_metrics'])\n",
    "    print('initial train performance:', init_metrics['train_metrics'])\n",
    "    print()\n",
    "    print('change in test MAE:', round((init_metrics['test_metrics']['mae'] - metrics['test_metrics']['mae']) / \n",
    "      (init_metrics['test_metrics']['mae']) * 100, 2), '%')\n",
    "print_metrics(init_metrics)"
   ]
  },
  {
   "cell_type": "code",
   "execution_count": 214,
   "metadata": {},
   "outputs": [
    {
     "data": {
      "text/html": [
       "<div>\n",
       "<style scoped>\n",
       "    .dataframe tbody tr th:only-of-type {\n",
       "        vertical-align: middle;\n",
       "    }\n",
       "\n",
       "    .dataframe tbody tr th {\n",
       "        vertical-align: top;\n",
       "    }\n",
       "\n",
       "    .dataframe thead th {\n",
       "        text-align: right;\n",
       "    }\n",
       "</style>\n",
       "<table border=\"1\" class=\"dataframe\">\n",
       "  <thead>\n",
       "    <tr style=\"text-align: right;\">\n",
       "      <th></th>\n",
       "      <th>price</th>\n",
       "      <th>year</th>\n",
       "      <th>manufacturer</th>\n",
       "      <th>condition</th>\n",
       "      <th>cylinders</th>\n",
       "      <th>fuel</th>\n",
       "      <th>odometer</th>\n",
       "      <th>title_status</th>\n",
       "      <th>transmission</th>\n",
       "      <th>drive</th>\n",
       "      <th>paint_color</th>\n",
       "      <th>posting_date</th>\n",
       "      <th>car_model</th>\n",
       "      <th>region</th>\n",
       "    </tr>\n",
       "  </thead>\n",
       "  <tbody>\n",
       "    <tr>\n",
       "      <th>0</th>\n",
       "      <td>33590</td>\n",
       "      <td>2014.0</td>\n",
       "      <td>gmc</td>\n",
       "      <td>good</td>\n",
       "      <td>8 cylinders</td>\n",
       "      <td>gas</td>\n",
       "      <td>57923.0</td>\n",
       "      <td>clean</td>\n",
       "      <td>other</td>\n",
       "      <td>4wd</td>\n",
       "      <td>white</td>\n",
       "      <td>2021-05-04T12:31:18-0500</td>\n",
       "      <td>gmc sierra</td>\n",
       "      <td>south</td>\n",
       "    </tr>\n",
       "    <tr>\n",
       "      <th>1</th>\n",
       "      <td>22590</td>\n",
       "      <td>2010.0</td>\n",
       "      <td>chevrolet</td>\n",
       "      <td>good</td>\n",
       "      <td>8 cylinders</td>\n",
       "      <td>gas</td>\n",
       "      <td>71229.0</td>\n",
       "      <td>clean</td>\n",
       "      <td>other</td>\n",
       "      <td>4wd</td>\n",
       "      <td>blue</td>\n",
       "      <td>2021-05-04T12:31:08-0500</td>\n",
       "      <td>chevrolet silverado</td>\n",
       "      <td>south</td>\n",
       "    </tr>\n",
       "    <tr>\n",
       "      <th>2</th>\n",
       "      <td>39590</td>\n",
       "      <td>2020.0</td>\n",
       "      <td>chevrolet</td>\n",
       "      <td>good</td>\n",
       "      <td>8 cylinders</td>\n",
       "      <td>gas</td>\n",
       "      <td>19160.0</td>\n",
       "      <td>clean</td>\n",
       "      <td>other</td>\n",
       "      <td>4wd</td>\n",
       "      <td>red</td>\n",
       "      <td>2021-05-04T12:31:25-0500</td>\n",
       "      <td>chevrolet silverado</td>\n",
       "      <td>south</td>\n",
       "    </tr>\n",
       "    <tr>\n",
       "      <th>3</th>\n",
       "      <td>30990</td>\n",
       "      <td>2017.0</td>\n",
       "      <td>toyota</td>\n",
       "      <td>good</td>\n",
       "      <td>8 cylinders</td>\n",
       "      <td>gas</td>\n",
       "      <td>41124.0</td>\n",
       "      <td>clean</td>\n",
       "      <td>other</td>\n",
       "      <td>4wd</td>\n",
       "      <td>red</td>\n",
       "      <td>2021-05-04T10:41:31-0500</td>\n",
       "      <td>toyota tundra</td>\n",
       "      <td>south</td>\n",
       "    </tr>\n",
       "    <tr>\n",
       "      <th>4</th>\n",
       "      <td>15000</td>\n",
       "      <td>2013.0</td>\n",
       "      <td>ford</td>\n",
       "      <td>excellent</td>\n",
       "      <td>6 cylinders</td>\n",
       "      <td>gas</td>\n",
       "      <td>128000.0</td>\n",
       "      <td>clean</td>\n",
       "      <td>automatic</td>\n",
       "      <td>rwd</td>\n",
       "      <td>black</td>\n",
       "      <td>2021-05-03T14:02:03-0500</td>\n",
       "      <td>ford f150</td>\n",
       "      <td>south</td>\n",
       "    </tr>\n",
       "    <tr>\n",
       "      <th>...</th>\n",
       "      <td>...</td>\n",
       "      <td>...</td>\n",
       "      <td>...</td>\n",
       "      <td>...</td>\n",
       "      <td>...</td>\n",
       "      <td>...</td>\n",
       "      <td>...</td>\n",
       "      <td>...</td>\n",
       "      <td>...</td>\n",
       "      <td>...</td>\n",
       "      <td>...</td>\n",
       "      <td>...</td>\n",
       "      <td>...</td>\n",
       "      <td>...</td>\n",
       "    </tr>\n",
       "    <tr>\n",
       "      <th>309184</th>\n",
       "      <td>23590</td>\n",
       "      <td>2019.0</td>\n",
       "      <td>nissan</td>\n",
       "      <td>good</td>\n",
       "      <td>6 cylinders</td>\n",
       "      <td>gas</td>\n",
       "      <td>32226.0</td>\n",
       "      <td>clean</td>\n",
       "      <td>other</td>\n",
       "      <td>fwd</td>\n",
       "      <td>unknown</td>\n",
       "      <td>2021-04-04T03:21:31-0600</td>\n",
       "      <td>nissan maxima</td>\n",
       "      <td>west</td>\n",
       "    </tr>\n",
       "    <tr>\n",
       "      <th>309185</th>\n",
       "      <td>30590</td>\n",
       "      <td>2020.0</td>\n",
       "      <td>volvo</td>\n",
       "      <td>good</td>\n",
       "      <td>5 cylinders</td>\n",
       "      <td>gas</td>\n",
       "      <td>12029.0</td>\n",
       "      <td>clean</td>\n",
       "      <td>other</td>\n",
       "      <td>fwd</td>\n",
       "      <td>red</td>\n",
       "      <td>2021-04-04T03:21:29-0600</td>\n",
       "      <td>volvo s60</td>\n",
       "      <td>west</td>\n",
       "    </tr>\n",
       "    <tr>\n",
       "      <th>309186</th>\n",
       "      <td>34990</td>\n",
       "      <td>2020.0</td>\n",
       "      <td>cadillac</td>\n",
       "      <td>good</td>\n",
       "      <td>4 cylinders</td>\n",
       "      <td>diesel</td>\n",
       "      <td>4174.0</td>\n",
       "      <td>clean</td>\n",
       "      <td>other</td>\n",
       "      <td>fwd</td>\n",
       "      <td>white</td>\n",
       "      <td>2021-04-04T03:21:17-0600</td>\n",
       "      <td>cadillac xt4</td>\n",
       "      <td>west</td>\n",
       "    </tr>\n",
       "    <tr>\n",
       "      <th>309187</th>\n",
       "      <td>28990</td>\n",
       "      <td>2018.0</td>\n",
       "      <td>lexus</td>\n",
       "      <td>good</td>\n",
       "      <td>6 cylinders</td>\n",
       "      <td>gas</td>\n",
       "      <td>30112.0</td>\n",
       "      <td>clean</td>\n",
       "      <td>other</td>\n",
       "      <td>fwd</td>\n",
       "      <td>silver</td>\n",
       "      <td>2021-04-04T03:21:11-0600</td>\n",
       "      <td>lexus es</td>\n",
       "      <td>west</td>\n",
       "    </tr>\n",
       "    <tr>\n",
       "      <th>309188</th>\n",
       "      <td>30590</td>\n",
       "      <td>2019.0</td>\n",
       "      <td>bmw</td>\n",
       "      <td>good</td>\n",
       "      <td>4 cylinders</td>\n",
       "      <td>gas</td>\n",
       "      <td>22716.0</td>\n",
       "      <td>clean</td>\n",
       "      <td>other</td>\n",
       "      <td>rwd</td>\n",
       "      <td>unknown</td>\n",
       "      <td>2021-04-04T03:21:07-0600</td>\n",
       "      <td>bmw 4</td>\n",
       "      <td>west</td>\n",
       "    </tr>\n",
       "  </tbody>\n",
       "</table>\n",
       "<p>309189 rows × 14 columns</p>\n",
       "</div>"
      ],
      "text/plain": [
       "        price    year manufacturer  condition    cylinders    fuel  odometer  \\\n",
       "0       33590  2014.0          gmc       good  8 cylinders     gas   57923.0   \n",
       "1       22590  2010.0    chevrolet       good  8 cylinders     gas   71229.0   \n",
       "2       39590  2020.0    chevrolet       good  8 cylinders     gas   19160.0   \n",
       "3       30990  2017.0       toyota       good  8 cylinders     gas   41124.0   \n",
       "4       15000  2013.0         ford  excellent  6 cylinders     gas  128000.0   \n",
       "...       ...     ...          ...        ...          ...     ...       ...   \n",
       "309184  23590  2019.0       nissan       good  6 cylinders     gas   32226.0   \n",
       "309185  30590  2020.0        volvo       good  5 cylinders     gas   12029.0   \n",
       "309186  34990  2020.0     cadillac       good  4 cylinders  diesel    4174.0   \n",
       "309187  28990  2018.0        lexus       good  6 cylinders     gas   30112.0   \n",
       "309188  30590  2019.0          bmw       good  4 cylinders     gas   22716.0   \n",
       "\n",
       "       title_status transmission drive paint_color              posting_date  \\\n",
       "0             clean        other   4wd       white  2021-05-04T12:31:18-0500   \n",
       "1             clean        other   4wd        blue  2021-05-04T12:31:08-0500   \n",
       "2             clean        other   4wd         red  2021-05-04T12:31:25-0500   \n",
       "3             clean        other   4wd         red  2021-05-04T10:41:31-0500   \n",
       "4             clean    automatic   rwd       black  2021-05-03T14:02:03-0500   \n",
       "...             ...          ...   ...         ...                       ...   \n",
       "309184        clean        other   fwd     unknown  2021-04-04T03:21:31-0600   \n",
       "309185        clean        other   fwd         red  2021-04-04T03:21:29-0600   \n",
       "309186        clean        other   fwd       white  2021-04-04T03:21:17-0600   \n",
       "309187        clean        other   fwd      silver  2021-04-04T03:21:11-0600   \n",
       "309188        clean        other   rwd     unknown  2021-04-04T03:21:07-0600   \n",
       "\n",
       "                  car_model region  \n",
       "0                gmc sierra  south  \n",
       "1       chevrolet silverado  south  \n",
       "2       chevrolet silverado  south  \n",
       "3             toyota tundra  south  \n",
       "4                 ford f150  south  \n",
       "...                     ...    ...  \n",
       "309184        nissan maxima   west  \n",
       "309185            volvo s60   west  \n",
       "309186         cadillac xt4   west  \n",
       "309187             lexus es   west  \n",
       "309188                bmw 4   west  \n",
       "\n",
       "[309189 rows x 14 columns]"
      ]
     },
     "execution_count": 214,
     "metadata": {},
     "output_type": "execute_result"
    }
   ],
   "source": [
    "regions_dict = {\"state\": [\"al\",\"ak\",\"az\",\"ar\",\"ca\",\"co\",\"ct\",\"de\",\"dc\",\"fl\",\"ga\",\"hi\",\"id\",\"il\",\"in\",\"ia\",\"ks\",\"ky\",\"la\",\"me\",\"md\",\"ma\",\"mi\",\"mn\",\"ms\",\"mo\",\"mt\",\"ne\",\"nv\",\"nh\",\"nj\",\"nm\",\"ny\",\"nc\",\"nd\",\"oh\",\"ok\",\"or\",\"pa\",\"ri\",\"sc\",\"sd\",\"tn\",\"tx\",\"ut\",\"vt\",\"va\",\"wa\",\"wv\",\"wi\",\"wy\"], \n",
    "         \"region\": [\"south\",\"west\",\"west\",\"south\",\"west\",\"west\",\"north-east\",\"south\",\"south\",\"south\",\"south\",\"west\",\"west\",\"mid-west\",\"mid-west\",\"mid-west\",\"mid-west\",\"south\",\"south\",\"north-east\",\"south\",\"north-east\",\"mid-west\",\"mid-west\",\"south\",\"mid-west\",\"west\",\"mid-west\",\"west\",\"north-east\",\"north-east\",\"west\",\"north-east\",\"south\",\"mid-west\",\"mid-west\",\"south\",\"west\",\"north-east\",\"north-east\",\"south\",\"mid-west\",\"south\",\"south\",\"west\",\"north-east\",\"south\",\"west\",\"south\",\"mid-west\",\"west\"]}\n",
    "dfState = pd.merge(df, pd.DataFrame(regions_dict), on = 'state', how = 'left').drop('state', axis = 1)\n",
    "dfState"
   ]
  },
  {
   "cell_type": "code",
   "execution_count": 215,
   "metadata": {},
   "outputs": [
    {
     "ename": "MemoryError",
     "evalue": "Unable to allocate 47.9 GiB for an array with shape (226787, 226787) and data type uint8",
     "output_type": "error",
     "traceback": [
      "\u001b[1;31m---------------------------------------------------------------------------\u001b[0m",
      "\u001b[1;31mMemoryError\u001b[0m                               Traceback (most recent call last)",
      "\u001b[1;32mc:\\Users\\oache\\Desktop\\KI_ML\\Code\\Manuel_komplettloesung.ipynb Cell 63'\u001b[0m in \u001b[0;36m<cell line: 3>\u001b[1;34m()\u001b[0m\n\u001b[0;32m      <a href='vscode-notebook-cell:/c%3A/Users/oache/Desktop/KI_ML/Code/Manuel_komplettloesung.ipynb#ch0000042?line=0'>1</a>\u001b[0m \u001b[39m#new metrics\u001b[39;00m\n\u001b[1;32m----> <a href='vscode-notebook-cell:/c%3A/Users/oache/Desktop/KI_ML/Code/Manuel_komplettloesung.ipynb#ch0000042?line=2'>3</a>\u001b[0m binned_states_metrics \u001b[39m=\u001b[39m updateModel(dfState)\n\u001b[0;32m      <a href='vscode-notebook-cell:/c%3A/Users/oache/Desktop/KI_ML/Code/Manuel_komplettloesung.ipynb#ch0000042?line=3'>4</a>\u001b[0m print_metrics(binned_states_metrics)\n",
      "\u001b[1;32mc:\\Users\\oache\\Desktop\\KI_ML\\Code\\Manuel_komplettloesung.ipynb Cell 55'\u001b[0m in \u001b[0;36mupdateModel\u001b[1;34m(datafr, test_percentage, seed)\u001b[0m\n\u001b[0;32m      <a href='vscode-notebook-cell:/c%3A/Users/oache/Desktop/KI_ML/Code/Manuel_komplettloesung.ipynb#ch0000034?line=7'>8</a>\u001b[0m y \u001b[39m=\u001b[39m datafr[\u001b[39m'\u001b[39m\u001b[39mprice\u001b[39m\u001b[39m'\u001b[39m]\n\u001b[0;32m      <a href='vscode-notebook-cell:/c%3A/Users/oache/Desktop/KI_ML/Code/Manuel_komplettloesung.ipynb#ch0000034?line=8'>9</a>\u001b[0m X_train, X_test, y_train, y_test \u001b[39m=\u001b[39m train_test_split(X, y, test_size \u001b[39m=\u001b[39m test_percentage, random_state \u001b[39m=\u001b[39m seed)\n\u001b[1;32m---> <a href='vscode-notebook-cell:/c%3A/Users/oache/Desktop/KI_ML/Code/Manuel_komplettloesung.ipynb#ch0000034?line=9'>10</a>\u001b[0m X_train \u001b[39m=\u001b[39m pd\u001b[39m.\u001b[39;49mget_dummies(X_train, drop_first \u001b[39m=\u001b[39;49m \u001b[39mTrue\u001b[39;49;00m)\n\u001b[0;32m     <a href='vscode-notebook-cell:/c%3A/Users/oache/Desktop/KI_ML/Code/Manuel_komplettloesung.ipynb#ch0000034?line=10'>11</a>\u001b[0m X_test \u001b[39m=\u001b[39m pd\u001b[39m.\u001b[39mget_dummies(X_test, drop_first \u001b[39m=\u001b[39m \u001b[39mTrue\u001b[39;00m)\n\u001b[0;32m     <a href='vscode-notebook-cell:/c%3A/Users/oache/Desktop/KI_ML/Code/Manuel_komplettloesung.ipynb#ch0000034?line=12'>13</a>\u001b[0m \u001b[39m#feature scaling\u001b[39;00m\n",
      "File \u001b[1;32mf:\\Python\\Python310\\lib\\site-packages\\pandas\\core\\reshape\\reshape.py:977\u001b[0m, in \u001b[0;36mget_dummies\u001b[1;34m(data, prefix, prefix_sep, dummy_na, columns, sparse, drop_first, dtype)\u001b[0m\n\u001b[0;32m    973\u001b[0m     with_dummies \u001b[39m=\u001b[39m [data\u001b[39m.\u001b[39mselect_dtypes(exclude\u001b[39m=\u001b[39mdtypes_to_encode)]\n\u001b[0;32m    975\u001b[0m \u001b[39mfor\u001b[39;00m (col, pre, sep) \u001b[39min\u001b[39;00m \u001b[39mzip\u001b[39m(data_to_encode\u001b[39m.\u001b[39mitems(), prefix, prefix_sep):\n\u001b[0;32m    976\u001b[0m     \u001b[39m# col is (column_name, column), use just column data here\u001b[39;00m\n\u001b[1;32m--> 977\u001b[0m     dummy \u001b[39m=\u001b[39m _get_dummies_1d(\n\u001b[0;32m    978\u001b[0m         col[\u001b[39m1\u001b[39;49m],\n\u001b[0;32m    979\u001b[0m         prefix\u001b[39m=\u001b[39;49mpre,\n\u001b[0;32m    980\u001b[0m         prefix_sep\u001b[39m=\u001b[39;49msep,\n\u001b[0;32m    981\u001b[0m         dummy_na\u001b[39m=\u001b[39;49mdummy_na,\n\u001b[0;32m    982\u001b[0m         sparse\u001b[39m=\u001b[39;49msparse,\n\u001b[0;32m    983\u001b[0m         drop_first\u001b[39m=\u001b[39;49mdrop_first,\n\u001b[0;32m    984\u001b[0m         dtype\u001b[39m=\u001b[39;49mdtype,\n\u001b[0;32m    985\u001b[0m     )\n\u001b[0;32m    986\u001b[0m     with_dummies\u001b[39m.\u001b[39mappend(dummy)\n\u001b[0;32m    987\u001b[0m result \u001b[39m=\u001b[39m concat(with_dummies, axis\u001b[39m=\u001b[39m\u001b[39m1\u001b[39m)\n",
      "File \u001b[1;32mf:\\Python\\Python310\\lib\\site-packages\\pandas\\core\\reshape\\reshape.py:1096\u001b[0m, in \u001b[0;36m_get_dummies_1d\u001b[1;34m(data, prefix, prefix_sep, dummy_na, sparse, drop_first, dtype)\u001b[0m\n\u001b[0;32m   1092\u001b[0m     \u001b[39mreturn\u001b[39;00m concat(sparse_series, axis\u001b[39m=\u001b[39m\u001b[39m1\u001b[39m, copy\u001b[39m=\u001b[39m\u001b[39mFalse\u001b[39;00m)\n\u001b[0;32m   1094\u001b[0m \u001b[39melse\u001b[39;00m:\n\u001b[0;32m   1095\u001b[0m     \u001b[39m# take on axis=1 + transpose to ensure ndarray layout is column-major\u001b[39;00m\n\u001b[1;32m-> 1096\u001b[0m     dummy_mat \u001b[39m=\u001b[39m np\u001b[39m.\u001b[39;49meye(number_of_cols, dtype\u001b[39m=\u001b[39;49mdtype)\u001b[39m.\u001b[39mtake(codes, axis\u001b[39m=\u001b[39m\u001b[39m1\u001b[39m)\u001b[39m.\u001b[39mT\n\u001b[0;32m   1098\u001b[0m     \u001b[39mif\u001b[39;00m \u001b[39mnot\u001b[39;00m dummy_na:\n\u001b[0;32m   1099\u001b[0m         \u001b[39m# reset NaN GH4446\u001b[39;00m\n\u001b[0;32m   1100\u001b[0m         dummy_mat[codes \u001b[39m==\u001b[39m \u001b[39m-\u001b[39m\u001b[39m1\u001b[39m] \u001b[39m=\u001b[39m \u001b[39m0\u001b[39m\n",
      "File \u001b[1;32mf:\\Python\\Python310\\lib\\site-packages\\numpy\\lib\\twodim_base.py:214\u001b[0m, in \u001b[0;36meye\u001b[1;34m(N, M, k, dtype, order, like)\u001b[0m\n\u001b[0;32m    212\u001b[0m \u001b[39mif\u001b[39;00m M \u001b[39mis\u001b[39;00m \u001b[39mNone\u001b[39;00m:\n\u001b[0;32m    213\u001b[0m     M \u001b[39m=\u001b[39m N\n\u001b[1;32m--> 214\u001b[0m m \u001b[39m=\u001b[39m zeros((N, M), dtype\u001b[39m=\u001b[39;49mdtype, order\u001b[39m=\u001b[39;49morder)\n\u001b[0;32m    215\u001b[0m \u001b[39mif\u001b[39;00m k \u001b[39m>\u001b[39m\u001b[39m=\u001b[39m M:\n\u001b[0;32m    216\u001b[0m     \u001b[39mreturn\u001b[39;00m m\n",
      "\u001b[1;31mMemoryError\u001b[0m: Unable to allocate 47.9 GiB for an array with shape (226787, 226787) and data type uint8"
     ]
    }
   ],
   "source": [
    "#new metrics\n",
    "\n",
    "binned_states_metrics = updateModel(dfState)\n",
    "print_metrics(binned_states_metrics)"
   ]
  },
  {
   "cell_type": "code",
   "execution_count": 216,
   "metadata": {},
   "outputs": [
    {
     "data": {
      "text/html": [
       "<div>\n",
       "<style scoped>\n",
       "    .dataframe tbody tr th:only-of-type {\n",
       "        vertical-align: middle;\n",
       "    }\n",
       "\n",
       "    .dataframe tbody tr th {\n",
       "        vertical-align: top;\n",
       "    }\n",
       "\n",
       "    .dataframe thead th {\n",
       "        text-align: right;\n",
       "    }\n",
       "</style>\n",
       "<table border=\"1\" class=\"dataframe\">\n",
       "  <thead>\n",
       "    <tr style=\"text-align: right;\">\n",
       "      <th></th>\n",
       "      <th>price</th>\n",
       "      <th>year</th>\n",
       "      <th>manufacturer</th>\n",
       "      <th>condition</th>\n",
       "      <th>cylinders</th>\n",
       "      <th>fuel</th>\n",
       "      <th>odometer</th>\n",
       "      <th>title_status</th>\n",
       "      <th>transmission</th>\n",
       "      <th>drive</th>\n",
       "      <th>paint_color</th>\n",
       "      <th>posting_date</th>\n",
       "      <th>car_model</th>\n",
       "    </tr>\n",
       "  </thead>\n",
       "  <tbody>\n",
       "    <tr>\n",
       "      <th>27</th>\n",
       "      <td>33590</td>\n",
       "      <td>2014.0</td>\n",
       "      <td>gmc</td>\n",
       "      <td>good</td>\n",
       "      <td>8 cylinders</td>\n",
       "      <td>gas</td>\n",
       "      <td>57923.0</td>\n",
       "      <td>clean</td>\n",
       "      <td>other</td>\n",
       "      <td>4wd</td>\n",
       "      <td>white</td>\n",
       "      <td>2021-05-04T12:31:18-0500</td>\n",
       "      <td>gmc sierra</td>\n",
       "    </tr>\n",
       "    <tr>\n",
       "      <th>28</th>\n",
       "      <td>22590</td>\n",
       "      <td>2010.0</td>\n",
       "      <td>chevrolet</td>\n",
       "      <td>good</td>\n",
       "      <td>8 cylinders</td>\n",
       "      <td>gas</td>\n",
       "      <td>71229.0</td>\n",
       "      <td>clean</td>\n",
       "      <td>other</td>\n",
       "      <td>4wd</td>\n",
       "      <td>blue</td>\n",
       "      <td>2021-05-04T12:31:08-0500</td>\n",
       "      <td>chevrolet silverado</td>\n",
       "    </tr>\n",
       "    <tr>\n",
       "      <th>29</th>\n",
       "      <td>39590</td>\n",
       "      <td>2020.0</td>\n",
       "      <td>chevrolet</td>\n",
       "      <td>good</td>\n",
       "      <td>8 cylinders</td>\n",
       "      <td>gas</td>\n",
       "      <td>19160.0</td>\n",
       "      <td>clean</td>\n",
       "      <td>other</td>\n",
       "      <td>4wd</td>\n",
       "      <td>red</td>\n",
       "      <td>2021-05-04T12:31:25-0500</td>\n",
       "      <td>chevrolet silverado</td>\n",
       "    </tr>\n",
       "    <tr>\n",
       "      <th>30</th>\n",
       "      <td>30990</td>\n",
       "      <td>2017.0</td>\n",
       "      <td>toyota</td>\n",
       "      <td>good</td>\n",
       "      <td>8 cylinders</td>\n",
       "      <td>gas</td>\n",
       "      <td>41124.0</td>\n",
       "      <td>clean</td>\n",
       "      <td>other</td>\n",
       "      <td>4wd</td>\n",
       "      <td>red</td>\n",
       "      <td>2021-05-04T10:41:31-0500</td>\n",
       "      <td>toyota tundra</td>\n",
       "    </tr>\n",
       "    <tr>\n",
       "      <th>31</th>\n",
       "      <td>15000</td>\n",
       "      <td>2013.0</td>\n",
       "      <td>ford</td>\n",
       "      <td>excellent</td>\n",
       "      <td>6 cylinders</td>\n",
       "      <td>gas</td>\n",
       "      <td>128000.0</td>\n",
       "      <td>clean</td>\n",
       "      <td>automatic</td>\n",
       "      <td>rwd</td>\n",
       "      <td>black</td>\n",
       "      <td>2021-05-03T14:02:03-0500</td>\n",
       "      <td>ford f150</td>\n",
       "    </tr>\n",
       "    <tr>\n",
       "      <th>...</th>\n",
       "      <td>...</td>\n",
       "      <td>...</td>\n",
       "      <td>...</td>\n",
       "      <td>...</td>\n",
       "      <td>...</td>\n",
       "      <td>...</td>\n",
       "      <td>...</td>\n",
       "      <td>...</td>\n",
       "      <td>...</td>\n",
       "      <td>...</td>\n",
       "      <td>...</td>\n",
       "      <td>...</td>\n",
       "      <td>...</td>\n",
       "    </tr>\n",
       "    <tr>\n",
       "      <th>426875</th>\n",
       "      <td>23590</td>\n",
       "      <td>2019.0</td>\n",
       "      <td>nissan</td>\n",
       "      <td>good</td>\n",
       "      <td>6 cylinders</td>\n",
       "      <td>gas</td>\n",
       "      <td>32226.0</td>\n",
       "      <td>clean</td>\n",
       "      <td>other</td>\n",
       "      <td>fwd</td>\n",
       "      <td>unknown</td>\n",
       "      <td>2021-04-04T03:21:31-0600</td>\n",
       "      <td>nissan maxima</td>\n",
       "    </tr>\n",
       "    <tr>\n",
       "      <th>426876</th>\n",
       "      <td>30590</td>\n",
       "      <td>2020.0</td>\n",
       "      <td>volvo</td>\n",
       "      <td>good</td>\n",
       "      <td>5 cylinders</td>\n",
       "      <td>gas</td>\n",
       "      <td>12029.0</td>\n",
       "      <td>clean</td>\n",
       "      <td>other</td>\n",
       "      <td>fwd</td>\n",
       "      <td>red</td>\n",
       "      <td>2021-04-04T03:21:29-0600</td>\n",
       "      <td>volvo s60</td>\n",
       "    </tr>\n",
       "    <tr>\n",
       "      <th>426877</th>\n",
       "      <td>34990</td>\n",
       "      <td>2020.0</td>\n",
       "      <td>cadillac</td>\n",
       "      <td>good</td>\n",
       "      <td>4 cylinders</td>\n",
       "      <td>diesel</td>\n",
       "      <td>4174.0</td>\n",
       "      <td>clean</td>\n",
       "      <td>other</td>\n",
       "      <td>fwd</td>\n",
       "      <td>white</td>\n",
       "      <td>2021-04-04T03:21:17-0600</td>\n",
       "      <td>cadillac xt4</td>\n",
       "    </tr>\n",
       "    <tr>\n",
       "      <th>426878</th>\n",
       "      <td>28990</td>\n",
       "      <td>2018.0</td>\n",
       "      <td>lexus</td>\n",
       "      <td>good</td>\n",
       "      <td>6 cylinders</td>\n",
       "      <td>gas</td>\n",
       "      <td>30112.0</td>\n",
       "      <td>clean</td>\n",
       "      <td>other</td>\n",
       "      <td>fwd</td>\n",
       "      <td>silver</td>\n",
       "      <td>2021-04-04T03:21:11-0600</td>\n",
       "      <td>lexus es</td>\n",
       "    </tr>\n",
       "    <tr>\n",
       "      <th>426879</th>\n",
       "      <td>30590</td>\n",
       "      <td>2019.0</td>\n",
       "      <td>bmw</td>\n",
       "      <td>good</td>\n",
       "      <td>4 cylinders</td>\n",
       "      <td>gas</td>\n",
       "      <td>22716.0</td>\n",
       "      <td>clean</td>\n",
       "      <td>other</td>\n",
       "      <td>rwd</td>\n",
       "      <td>unknown</td>\n",
       "      <td>2021-04-04T03:21:07-0600</td>\n",
       "      <td>bmw 4</td>\n",
       "    </tr>\n",
       "  </tbody>\n",
       "</table>\n",
       "<p>309189 rows × 13 columns</p>\n",
       "</div>"
      ],
      "text/plain": [
       "        price    year manufacturer  condition    cylinders    fuel  odometer  \\\n",
       "27      33590  2014.0          gmc       good  8 cylinders     gas   57923.0   \n",
       "28      22590  2010.0    chevrolet       good  8 cylinders     gas   71229.0   \n",
       "29      39590  2020.0    chevrolet       good  8 cylinders     gas   19160.0   \n",
       "30      30990  2017.0       toyota       good  8 cylinders     gas   41124.0   \n",
       "31      15000  2013.0         ford  excellent  6 cylinders     gas  128000.0   \n",
       "...       ...     ...          ...        ...          ...     ...       ...   \n",
       "426875  23590  2019.0       nissan       good  6 cylinders     gas   32226.0   \n",
       "426876  30590  2020.0        volvo       good  5 cylinders     gas   12029.0   \n",
       "426877  34990  2020.0     cadillac       good  4 cylinders  diesel    4174.0   \n",
       "426878  28990  2018.0        lexus       good  6 cylinders     gas   30112.0   \n",
       "426879  30590  2019.0          bmw       good  4 cylinders     gas   22716.0   \n",
       "\n",
       "       title_status transmission drive paint_color              posting_date  \\\n",
       "27            clean        other   4wd       white  2021-05-04T12:31:18-0500   \n",
       "28            clean        other   4wd        blue  2021-05-04T12:31:08-0500   \n",
       "29            clean        other   4wd         red  2021-05-04T12:31:25-0500   \n",
       "30            clean        other   4wd         red  2021-05-04T10:41:31-0500   \n",
       "31            clean    automatic   rwd       black  2021-05-03T14:02:03-0500   \n",
       "...             ...          ...   ...         ...                       ...   \n",
       "426875        clean        other   fwd     unknown  2021-04-04T03:21:31-0600   \n",
       "426876        clean        other   fwd         red  2021-04-04T03:21:29-0600   \n",
       "426877        clean        other   fwd       white  2021-04-04T03:21:17-0600   \n",
       "426878        clean        other   fwd      silver  2021-04-04T03:21:11-0600   \n",
       "426879        clean        other   rwd     unknown  2021-04-04T03:21:07-0600   \n",
       "\n",
       "                  car_model  \n",
       "27               gmc sierra  \n",
       "28      chevrolet silverado  \n",
       "29      chevrolet silverado  \n",
       "30            toyota tundra  \n",
       "31                ford f150  \n",
       "...                     ...  \n",
       "426875        nissan maxima  \n",
       "426876            volvo s60  \n",
       "426877         cadillac xt4  \n",
       "426878             lexus es  \n",
       "426879                bmw 4  \n",
       "\n",
       "[309189 rows x 13 columns]"
      ]
     },
     "execution_count": 216,
     "metadata": {},
     "output_type": "execute_result"
    }
   ],
   "source": [
    "dfDropState = df.drop('state', axis = 1)\n",
    "dfDropState"
   ]
  },
  {
   "cell_type": "code",
   "execution_count": 217,
   "metadata": {},
   "outputs": [
    {
     "ename": "MemoryError",
     "evalue": "Unable to allocate 47.9 GiB for an array with shape (226787, 226787) and data type uint8",
     "output_type": "error",
     "traceback": [
      "\u001b[1;31m---------------------------------------------------------------------------\u001b[0m",
      "\u001b[1;31mMemoryError\u001b[0m                               Traceback (most recent call last)",
      "\u001b[1;32mc:\\Users\\oache\\Desktop\\KI_ML\\Code\\Manuel_komplettloesung.ipynb Cell 65'\u001b[0m in \u001b[0;36m<cell line: 3>\u001b[1;34m()\u001b[0m\n\u001b[0;32m      <a href='vscode-notebook-cell:/c%3A/Users/oache/Desktop/KI_ML/Code/Manuel_komplettloesung.ipynb#ch0000044?line=0'>1</a>\u001b[0m \u001b[39m#new metrics\u001b[39;00m\n\u001b[1;32m----> <a href='vscode-notebook-cell:/c%3A/Users/oache/Desktop/KI_ML/Code/Manuel_komplettloesung.ipynb#ch0000044?line=2'>3</a>\u001b[0m drop_state_metrics \u001b[39m=\u001b[39m updateModel(dfDropState)\n\u001b[0;32m      <a href='vscode-notebook-cell:/c%3A/Users/oache/Desktop/KI_ML/Code/Manuel_komplettloesung.ipynb#ch0000044?line=3'>4</a>\u001b[0m print_metrics(drop_state_metrics)\n",
      "\u001b[1;32mc:\\Users\\oache\\Desktop\\KI_ML\\Code\\Manuel_komplettloesung.ipynb Cell 55'\u001b[0m in \u001b[0;36mupdateModel\u001b[1;34m(datafr, test_percentage, seed)\u001b[0m\n\u001b[0;32m      <a href='vscode-notebook-cell:/c%3A/Users/oache/Desktop/KI_ML/Code/Manuel_komplettloesung.ipynb#ch0000034?line=7'>8</a>\u001b[0m y \u001b[39m=\u001b[39m datafr[\u001b[39m'\u001b[39m\u001b[39mprice\u001b[39m\u001b[39m'\u001b[39m]\n\u001b[0;32m      <a href='vscode-notebook-cell:/c%3A/Users/oache/Desktop/KI_ML/Code/Manuel_komplettloesung.ipynb#ch0000034?line=8'>9</a>\u001b[0m X_train, X_test, y_train, y_test \u001b[39m=\u001b[39m train_test_split(X, y, test_size \u001b[39m=\u001b[39m test_percentage, random_state \u001b[39m=\u001b[39m seed)\n\u001b[1;32m---> <a href='vscode-notebook-cell:/c%3A/Users/oache/Desktop/KI_ML/Code/Manuel_komplettloesung.ipynb#ch0000034?line=9'>10</a>\u001b[0m X_train \u001b[39m=\u001b[39m pd\u001b[39m.\u001b[39;49mget_dummies(X_train, drop_first \u001b[39m=\u001b[39;49m \u001b[39mTrue\u001b[39;49;00m)\n\u001b[0;32m     <a href='vscode-notebook-cell:/c%3A/Users/oache/Desktop/KI_ML/Code/Manuel_komplettloesung.ipynb#ch0000034?line=10'>11</a>\u001b[0m X_test \u001b[39m=\u001b[39m pd\u001b[39m.\u001b[39mget_dummies(X_test, drop_first \u001b[39m=\u001b[39m \u001b[39mTrue\u001b[39;00m)\n\u001b[0;32m     <a href='vscode-notebook-cell:/c%3A/Users/oache/Desktop/KI_ML/Code/Manuel_komplettloesung.ipynb#ch0000034?line=12'>13</a>\u001b[0m \u001b[39m#feature scaling\u001b[39;00m\n",
      "File \u001b[1;32mf:\\Python\\Python310\\lib\\site-packages\\pandas\\core\\reshape\\reshape.py:977\u001b[0m, in \u001b[0;36mget_dummies\u001b[1;34m(data, prefix, prefix_sep, dummy_na, columns, sparse, drop_first, dtype)\u001b[0m\n\u001b[0;32m    973\u001b[0m     with_dummies \u001b[39m=\u001b[39m [data\u001b[39m.\u001b[39mselect_dtypes(exclude\u001b[39m=\u001b[39mdtypes_to_encode)]\n\u001b[0;32m    975\u001b[0m \u001b[39mfor\u001b[39;00m (col, pre, sep) \u001b[39min\u001b[39;00m \u001b[39mzip\u001b[39m(data_to_encode\u001b[39m.\u001b[39mitems(), prefix, prefix_sep):\n\u001b[0;32m    976\u001b[0m     \u001b[39m# col is (column_name, column), use just column data here\u001b[39;00m\n\u001b[1;32m--> 977\u001b[0m     dummy \u001b[39m=\u001b[39m _get_dummies_1d(\n\u001b[0;32m    978\u001b[0m         col[\u001b[39m1\u001b[39;49m],\n\u001b[0;32m    979\u001b[0m         prefix\u001b[39m=\u001b[39;49mpre,\n\u001b[0;32m    980\u001b[0m         prefix_sep\u001b[39m=\u001b[39;49msep,\n\u001b[0;32m    981\u001b[0m         dummy_na\u001b[39m=\u001b[39;49mdummy_na,\n\u001b[0;32m    982\u001b[0m         sparse\u001b[39m=\u001b[39;49msparse,\n\u001b[0;32m    983\u001b[0m         drop_first\u001b[39m=\u001b[39;49mdrop_first,\n\u001b[0;32m    984\u001b[0m         dtype\u001b[39m=\u001b[39;49mdtype,\n\u001b[0;32m    985\u001b[0m     )\n\u001b[0;32m    986\u001b[0m     with_dummies\u001b[39m.\u001b[39mappend(dummy)\n\u001b[0;32m    987\u001b[0m result \u001b[39m=\u001b[39m concat(with_dummies, axis\u001b[39m=\u001b[39m\u001b[39m1\u001b[39m)\n",
      "File \u001b[1;32mf:\\Python\\Python310\\lib\\site-packages\\pandas\\core\\reshape\\reshape.py:1096\u001b[0m, in \u001b[0;36m_get_dummies_1d\u001b[1;34m(data, prefix, prefix_sep, dummy_na, sparse, drop_first, dtype)\u001b[0m\n\u001b[0;32m   1092\u001b[0m     \u001b[39mreturn\u001b[39;00m concat(sparse_series, axis\u001b[39m=\u001b[39m\u001b[39m1\u001b[39m, copy\u001b[39m=\u001b[39m\u001b[39mFalse\u001b[39;00m)\n\u001b[0;32m   1094\u001b[0m \u001b[39melse\u001b[39;00m:\n\u001b[0;32m   1095\u001b[0m     \u001b[39m# take on axis=1 + transpose to ensure ndarray layout is column-major\u001b[39;00m\n\u001b[1;32m-> 1096\u001b[0m     dummy_mat \u001b[39m=\u001b[39m np\u001b[39m.\u001b[39;49meye(number_of_cols, dtype\u001b[39m=\u001b[39;49mdtype)\u001b[39m.\u001b[39mtake(codes, axis\u001b[39m=\u001b[39m\u001b[39m1\u001b[39m)\u001b[39m.\u001b[39mT\n\u001b[0;32m   1098\u001b[0m     \u001b[39mif\u001b[39;00m \u001b[39mnot\u001b[39;00m dummy_na:\n\u001b[0;32m   1099\u001b[0m         \u001b[39m# reset NaN GH4446\u001b[39;00m\n\u001b[0;32m   1100\u001b[0m         dummy_mat[codes \u001b[39m==\u001b[39m \u001b[39m-\u001b[39m\u001b[39m1\u001b[39m] \u001b[39m=\u001b[39m \u001b[39m0\u001b[39m\n",
      "File \u001b[1;32mf:\\Python\\Python310\\lib\\site-packages\\numpy\\lib\\twodim_base.py:214\u001b[0m, in \u001b[0;36meye\u001b[1;34m(N, M, k, dtype, order, like)\u001b[0m\n\u001b[0;32m    212\u001b[0m \u001b[39mif\u001b[39;00m M \u001b[39mis\u001b[39;00m \u001b[39mNone\u001b[39;00m:\n\u001b[0;32m    213\u001b[0m     M \u001b[39m=\u001b[39m N\n\u001b[1;32m--> 214\u001b[0m m \u001b[39m=\u001b[39m zeros((N, M), dtype\u001b[39m=\u001b[39;49mdtype, order\u001b[39m=\u001b[39;49morder)\n\u001b[0;32m    215\u001b[0m \u001b[39mif\u001b[39;00m k \u001b[39m>\u001b[39m\u001b[39m=\u001b[39m M:\n\u001b[0;32m    216\u001b[0m     \u001b[39mreturn\u001b[39;00m m\n",
      "\u001b[1;31mMemoryError\u001b[0m: Unable to allocate 47.9 GiB for an array with shape (226787, 226787) and data type uint8"
     ]
    }
   ],
   "source": [
    "#new metrics\n",
    "\n",
    "drop_state_metrics = updateModel(dfDropState)\n",
    "print_metrics(drop_state_metrics)"
   ]
  },
  {
   "cell_type": "code",
   "execution_count": 218,
   "metadata": {},
   "outputs": [
    {
     "data": {
      "text/html": [
       "<div>\n",
       "<style scoped>\n",
       "    .dataframe tbody tr th:only-of-type {\n",
       "        vertical-align: middle;\n",
       "    }\n",
       "\n",
       "    .dataframe tbody tr th {\n",
       "        vertical-align: top;\n",
       "    }\n",
       "\n",
       "    .dataframe thead th {\n",
       "        text-align: right;\n",
       "    }\n",
       "</style>\n",
       "<table border=\"1\" class=\"dataframe\">\n",
       "  <thead>\n",
       "    <tr style=\"text-align: right;\">\n",
       "      <th></th>\n",
       "      <th>price</th>\n",
       "      <th>year</th>\n",
       "      <th>manufacturer</th>\n",
       "      <th>condition</th>\n",
       "      <th>cylinders</th>\n",
       "      <th>fuel</th>\n",
       "      <th>odometer</th>\n",
       "      <th>title_status</th>\n",
       "      <th>transmission</th>\n",
       "      <th>drive</th>\n",
       "      <th>paint_color</th>\n",
       "      <th>state</th>\n",
       "      <th>posting_date</th>\n",
       "    </tr>\n",
       "  </thead>\n",
       "  <tbody>\n",
       "    <tr>\n",
       "      <th>27</th>\n",
       "      <td>33590</td>\n",
       "      <td>2014.0</td>\n",
       "      <td>gmc</td>\n",
       "      <td>good</td>\n",
       "      <td>8 cylinders</td>\n",
       "      <td>gas</td>\n",
       "      <td>57923.0</td>\n",
       "      <td>clean</td>\n",
       "      <td>other</td>\n",
       "      <td>4wd</td>\n",
       "      <td>white</td>\n",
       "      <td>al</td>\n",
       "      <td>2021-05-04T12:31:18-0500</td>\n",
       "    </tr>\n",
       "    <tr>\n",
       "      <th>28</th>\n",
       "      <td>22590</td>\n",
       "      <td>2010.0</td>\n",
       "      <td>chevrolet</td>\n",
       "      <td>good</td>\n",
       "      <td>8 cylinders</td>\n",
       "      <td>gas</td>\n",
       "      <td>71229.0</td>\n",
       "      <td>clean</td>\n",
       "      <td>other</td>\n",
       "      <td>4wd</td>\n",
       "      <td>blue</td>\n",
       "      <td>al</td>\n",
       "      <td>2021-05-04T12:31:08-0500</td>\n",
       "    </tr>\n",
       "    <tr>\n",
       "      <th>29</th>\n",
       "      <td>39590</td>\n",
       "      <td>2020.0</td>\n",
       "      <td>chevrolet</td>\n",
       "      <td>good</td>\n",
       "      <td>8 cylinders</td>\n",
       "      <td>gas</td>\n",
       "      <td>19160.0</td>\n",
       "      <td>clean</td>\n",
       "      <td>other</td>\n",
       "      <td>4wd</td>\n",
       "      <td>red</td>\n",
       "      <td>al</td>\n",
       "      <td>2021-05-04T12:31:25-0500</td>\n",
       "    </tr>\n",
       "    <tr>\n",
       "      <th>30</th>\n",
       "      <td>30990</td>\n",
       "      <td>2017.0</td>\n",
       "      <td>toyota</td>\n",
       "      <td>good</td>\n",
       "      <td>8 cylinders</td>\n",
       "      <td>gas</td>\n",
       "      <td>41124.0</td>\n",
       "      <td>clean</td>\n",
       "      <td>other</td>\n",
       "      <td>4wd</td>\n",
       "      <td>red</td>\n",
       "      <td>al</td>\n",
       "      <td>2021-05-04T10:41:31-0500</td>\n",
       "    </tr>\n",
       "    <tr>\n",
       "      <th>31</th>\n",
       "      <td>15000</td>\n",
       "      <td>2013.0</td>\n",
       "      <td>ford</td>\n",
       "      <td>excellent</td>\n",
       "      <td>6 cylinders</td>\n",
       "      <td>gas</td>\n",
       "      <td>128000.0</td>\n",
       "      <td>clean</td>\n",
       "      <td>automatic</td>\n",
       "      <td>rwd</td>\n",
       "      <td>black</td>\n",
       "      <td>al</td>\n",
       "      <td>2021-05-03T14:02:03-0500</td>\n",
       "    </tr>\n",
       "    <tr>\n",
       "      <th>...</th>\n",
       "      <td>...</td>\n",
       "      <td>...</td>\n",
       "      <td>...</td>\n",
       "      <td>...</td>\n",
       "      <td>...</td>\n",
       "      <td>...</td>\n",
       "      <td>...</td>\n",
       "      <td>...</td>\n",
       "      <td>...</td>\n",
       "      <td>...</td>\n",
       "      <td>...</td>\n",
       "      <td>...</td>\n",
       "      <td>...</td>\n",
       "    </tr>\n",
       "    <tr>\n",
       "      <th>426875</th>\n",
       "      <td>23590</td>\n",
       "      <td>2019.0</td>\n",
       "      <td>nissan</td>\n",
       "      <td>good</td>\n",
       "      <td>6 cylinders</td>\n",
       "      <td>gas</td>\n",
       "      <td>32226.0</td>\n",
       "      <td>clean</td>\n",
       "      <td>other</td>\n",
       "      <td>fwd</td>\n",
       "      <td>unknown</td>\n",
       "      <td>wy</td>\n",
       "      <td>2021-04-04T03:21:31-0600</td>\n",
       "    </tr>\n",
       "    <tr>\n",
       "      <th>426876</th>\n",
       "      <td>30590</td>\n",
       "      <td>2020.0</td>\n",
       "      <td>volvo</td>\n",
       "      <td>good</td>\n",
       "      <td>5 cylinders</td>\n",
       "      <td>gas</td>\n",
       "      <td>12029.0</td>\n",
       "      <td>clean</td>\n",
       "      <td>other</td>\n",
       "      <td>fwd</td>\n",
       "      <td>red</td>\n",
       "      <td>wy</td>\n",
       "      <td>2021-04-04T03:21:29-0600</td>\n",
       "    </tr>\n",
       "    <tr>\n",
       "      <th>426877</th>\n",
       "      <td>34990</td>\n",
       "      <td>2020.0</td>\n",
       "      <td>cadillac</td>\n",
       "      <td>good</td>\n",
       "      <td>4 cylinders</td>\n",
       "      <td>diesel</td>\n",
       "      <td>4174.0</td>\n",
       "      <td>clean</td>\n",
       "      <td>other</td>\n",
       "      <td>fwd</td>\n",
       "      <td>white</td>\n",
       "      <td>wy</td>\n",
       "      <td>2021-04-04T03:21:17-0600</td>\n",
       "    </tr>\n",
       "    <tr>\n",
       "      <th>426878</th>\n",
       "      <td>28990</td>\n",
       "      <td>2018.0</td>\n",
       "      <td>lexus</td>\n",
       "      <td>good</td>\n",
       "      <td>6 cylinders</td>\n",
       "      <td>gas</td>\n",
       "      <td>30112.0</td>\n",
       "      <td>clean</td>\n",
       "      <td>other</td>\n",
       "      <td>fwd</td>\n",
       "      <td>silver</td>\n",
       "      <td>wy</td>\n",
       "      <td>2021-04-04T03:21:11-0600</td>\n",
       "    </tr>\n",
       "    <tr>\n",
       "      <th>426879</th>\n",
       "      <td>30590</td>\n",
       "      <td>2019.0</td>\n",
       "      <td>bmw</td>\n",
       "      <td>good</td>\n",
       "      <td>4 cylinders</td>\n",
       "      <td>gas</td>\n",
       "      <td>22716.0</td>\n",
       "      <td>clean</td>\n",
       "      <td>other</td>\n",
       "      <td>rwd</td>\n",
       "      <td>unknown</td>\n",
       "      <td>wy</td>\n",
       "      <td>2021-04-04T03:21:07-0600</td>\n",
       "    </tr>\n",
       "  </tbody>\n",
       "</table>\n",
       "<p>309189 rows × 13 columns</p>\n",
       "</div>"
      ],
      "text/plain": [
       "        price    year manufacturer  condition    cylinders    fuel  odometer  \\\n",
       "27      33590  2014.0          gmc       good  8 cylinders     gas   57923.0   \n",
       "28      22590  2010.0    chevrolet       good  8 cylinders     gas   71229.0   \n",
       "29      39590  2020.0    chevrolet       good  8 cylinders     gas   19160.0   \n",
       "30      30990  2017.0       toyota       good  8 cylinders     gas   41124.0   \n",
       "31      15000  2013.0         ford  excellent  6 cylinders     gas  128000.0   \n",
       "...       ...     ...          ...        ...          ...     ...       ...   \n",
       "426875  23590  2019.0       nissan       good  6 cylinders     gas   32226.0   \n",
       "426876  30590  2020.0        volvo       good  5 cylinders     gas   12029.0   \n",
       "426877  34990  2020.0     cadillac       good  4 cylinders  diesel    4174.0   \n",
       "426878  28990  2018.0        lexus       good  6 cylinders     gas   30112.0   \n",
       "426879  30590  2019.0          bmw       good  4 cylinders     gas   22716.0   \n",
       "\n",
       "       title_status transmission drive paint_color state  \\\n",
       "27            clean        other   4wd       white    al   \n",
       "28            clean        other   4wd        blue    al   \n",
       "29            clean        other   4wd         red    al   \n",
       "30            clean        other   4wd         red    al   \n",
       "31            clean    automatic   rwd       black    al   \n",
       "...             ...          ...   ...         ...   ...   \n",
       "426875        clean        other   fwd     unknown    wy   \n",
       "426876        clean        other   fwd         red    wy   \n",
       "426877        clean        other   fwd       white    wy   \n",
       "426878        clean        other   fwd      silver    wy   \n",
       "426879        clean        other   rwd     unknown    wy   \n",
       "\n",
       "                    posting_date  \n",
       "27      2021-05-04T12:31:18-0500  \n",
       "28      2021-05-04T12:31:08-0500  \n",
       "29      2021-05-04T12:31:25-0500  \n",
       "30      2021-05-04T10:41:31-0500  \n",
       "31      2021-05-03T14:02:03-0500  \n",
       "...                          ...  \n",
       "426875  2021-04-04T03:21:31-0600  \n",
       "426876  2021-04-04T03:21:29-0600  \n",
       "426877  2021-04-04T03:21:17-0600  \n",
       "426878  2021-04-04T03:21:11-0600  \n",
       "426879  2021-04-04T03:21:07-0600  \n",
       "\n",
       "[309189 rows x 13 columns]"
      ]
     },
     "execution_count": 218,
     "metadata": {},
     "output_type": "execute_result"
    }
   ],
   "source": [
    "dfNoCarModel = df.drop('car_model', axis = 1)\n",
    "dfNoCarModel"
   ]
  },
  {
   "cell_type": "code",
   "execution_count": 219,
   "metadata": {},
   "outputs": [
    {
     "ename": "MemoryError",
     "evalue": "Unable to allocate 47.9 GiB for an array with shape (226787, 226787) and data type uint8",
     "output_type": "error",
     "traceback": [
      "\u001b[1;31m---------------------------------------------------------------------------\u001b[0m",
      "\u001b[1;31mMemoryError\u001b[0m                               Traceback (most recent call last)",
      "\u001b[1;32mc:\\Users\\oache\\Desktop\\KI_ML\\Code\\Manuel_komplettloesung.ipynb Cell 67'\u001b[0m in \u001b[0;36m<cell line: 1>\u001b[1;34m()\u001b[0m\n\u001b[1;32m----> <a href='vscode-notebook-cell:/c%3A/Users/oache/Desktop/KI_ML/Code/Manuel_komplettloesung.ipynb#ch0000046?line=0'>1</a>\u001b[0m no_car_model_metrics \u001b[39m=\u001b[39m updateModel(dfNoCarModel)\n\u001b[0;32m      <a href='vscode-notebook-cell:/c%3A/Users/oache/Desktop/KI_ML/Code/Manuel_komplettloesung.ipynb#ch0000046?line=1'>2</a>\u001b[0m print_metrics(no_car_model_metrics)\n",
      "\u001b[1;32mc:\\Users\\oache\\Desktop\\KI_ML\\Code\\Manuel_komplettloesung.ipynb Cell 55'\u001b[0m in \u001b[0;36mupdateModel\u001b[1;34m(datafr, test_percentage, seed)\u001b[0m\n\u001b[0;32m      <a href='vscode-notebook-cell:/c%3A/Users/oache/Desktop/KI_ML/Code/Manuel_komplettloesung.ipynb#ch0000034?line=7'>8</a>\u001b[0m y \u001b[39m=\u001b[39m datafr[\u001b[39m'\u001b[39m\u001b[39mprice\u001b[39m\u001b[39m'\u001b[39m]\n\u001b[0;32m      <a href='vscode-notebook-cell:/c%3A/Users/oache/Desktop/KI_ML/Code/Manuel_komplettloesung.ipynb#ch0000034?line=8'>9</a>\u001b[0m X_train, X_test, y_train, y_test \u001b[39m=\u001b[39m train_test_split(X, y, test_size \u001b[39m=\u001b[39m test_percentage, random_state \u001b[39m=\u001b[39m seed)\n\u001b[1;32m---> <a href='vscode-notebook-cell:/c%3A/Users/oache/Desktop/KI_ML/Code/Manuel_komplettloesung.ipynb#ch0000034?line=9'>10</a>\u001b[0m X_train \u001b[39m=\u001b[39m pd\u001b[39m.\u001b[39;49mget_dummies(X_train, drop_first \u001b[39m=\u001b[39;49m \u001b[39mTrue\u001b[39;49;00m)\n\u001b[0;32m     <a href='vscode-notebook-cell:/c%3A/Users/oache/Desktop/KI_ML/Code/Manuel_komplettloesung.ipynb#ch0000034?line=10'>11</a>\u001b[0m X_test \u001b[39m=\u001b[39m pd\u001b[39m.\u001b[39mget_dummies(X_test, drop_first \u001b[39m=\u001b[39m \u001b[39mTrue\u001b[39;00m)\n\u001b[0;32m     <a href='vscode-notebook-cell:/c%3A/Users/oache/Desktop/KI_ML/Code/Manuel_komplettloesung.ipynb#ch0000034?line=12'>13</a>\u001b[0m \u001b[39m#feature scaling\u001b[39;00m\n",
      "File \u001b[1;32mf:\\Python\\Python310\\lib\\site-packages\\pandas\\core\\reshape\\reshape.py:977\u001b[0m, in \u001b[0;36mget_dummies\u001b[1;34m(data, prefix, prefix_sep, dummy_na, columns, sparse, drop_first, dtype)\u001b[0m\n\u001b[0;32m    973\u001b[0m     with_dummies \u001b[39m=\u001b[39m [data\u001b[39m.\u001b[39mselect_dtypes(exclude\u001b[39m=\u001b[39mdtypes_to_encode)]\n\u001b[0;32m    975\u001b[0m \u001b[39mfor\u001b[39;00m (col, pre, sep) \u001b[39min\u001b[39;00m \u001b[39mzip\u001b[39m(data_to_encode\u001b[39m.\u001b[39mitems(), prefix, prefix_sep):\n\u001b[0;32m    976\u001b[0m     \u001b[39m# col is (column_name, column), use just column data here\u001b[39;00m\n\u001b[1;32m--> 977\u001b[0m     dummy \u001b[39m=\u001b[39m _get_dummies_1d(\n\u001b[0;32m    978\u001b[0m         col[\u001b[39m1\u001b[39;49m],\n\u001b[0;32m    979\u001b[0m         prefix\u001b[39m=\u001b[39;49mpre,\n\u001b[0;32m    980\u001b[0m         prefix_sep\u001b[39m=\u001b[39;49msep,\n\u001b[0;32m    981\u001b[0m         dummy_na\u001b[39m=\u001b[39;49mdummy_na,\n\u001b[0;32m    982\u001b[0m         sparse\u001b[39m=\u001b[39;49msparse,\n\u001b[0;32m    983\u001b[0m         drop_first\u001b[39m=\u001b[39;49mdrop_first,\n\u001b[0;32m    984\u001b[0m         dtype\u001b[39m=\u001b[39;49mdtype,\n\u001b[0;32m    985\u001b[0m     )\n\u001b[0;32m    986\u001b[0m     with_dummies\u001b[39m.\u001b[39mappend(dummy)\n\u001b[0;32m    987\u001b[0m result \u001b[39m=\u001b[39m concat(with_dummies, axis\u001b[39m=\u001b[39m\u001b[39m1\u001b[39m)\n",
      "File \u001b[1;32mf:\\Python\\Python310\\lib\\site-packages\\pandas\\core\\reshape\\reshape.py:1096\u001b[0m, in \u001b[0;36m_get_dummies_1d\u001b[1;34m(data, prefix, prefix_sep, dummy_na, sparse, drop_first, dtype)\u001b[0m\n\u001b[0;32m   1092\u001b[0m     \u001b[39mreturn\u001b[39;00m concat(sparse_series, axis\u001b[39m=\u001b[39m\u001b[39m1\u001b[39m, copy\u001b[39m=\u001b[39m\u001b[39mFalse\u001b[39;00m)\n\u001b[0;32m   1094\u001b[0m \u001b[39melse\u001b[39;00m:\n\u001b[0;32m   1095\u001b[0m     \u001b[39m# take on axis=1 + transpose to ensure ndarray layout is column-major\u001b[39;00m\n\u001b[1;32m-> 1096\u001b[0m     dummy_mat \u001b[39m=\u001b[39m np\u001b[39m.\u001b[39;49meye(number_of_cols, dtype\u001b[39m=\u001b[39;49mdtype)\u001b[39m.\u001b[39mtake(codes, axis\u001b[39m=\u001b[39m\u001b[39m1\u001b[39m)\u001b[39m.\u001b[39mT\n\u001b[0;32m   1098\u001b[0m     \u001b[39mif\u001b[39;00m \u001b[39mnot\u001b[39;00m dummy_na:\n\u001b[0;32m   1099\u001b[0m         \u001b[39m# reset NaN GH4446\u001b[39;00m\n\u001b[0;32m   1100\u001b[0m         dummy_mat[codes \u001b[39m==\u001b[39m \u001b[39m-\u001b[39m\u001b[39m1\u001b[39m] \u001b[39m=\u001b[39m \u001b[39m0\u001b[39m\n",
      "File \u001b[1;32mf:\\Python\\Python310\\lib\\site-packages\\numpy\\lib\\twodim_base.py:214\u001b[0m, in \u001b[0;36meye\u001b[1;34m(N, M, k, dtype, order, like)\u001b[0m\n\u001b[0;32m    212\u001b[0m \u001b[39mif\u001b[39;00m M \u001b[39mis\u001b[39;00m \u001b[39mNone\u001b[39;00m:\n\u001b[0;32m    213\u001b[0m     M \u001b[39m=\u001b[39m N\n\u001b[1;32m--> 214\u001b[0m m \u001b[39m=\u001b[39m zeros((N, M), dtype\u001b[39m=\u001b[39;49mdtype, order\u001b[39m=\u001b[39;49morder)\n\u001b[0;32m    215\u001b[0m \u001b[39mif\u001b[39;00m k \u001b[39m>\u001b[39m\u001b[39m=\u001b[39m M:\n\u001b[0;32m    216\u001b[0m     \u001b[39mreturn\u001b[39;00m m\n",
      "\u001b[1;31mMemoryError\u001b[0m: Unable to allocate 47.9 GiB for an array with shape (226787, 226787) and data type uint8"
     ]
    }
   ],
   "source": [
    "no_car_model_metrics = updateModel(dfNoCarModel)\n",
    "print_metrics(no_car_model_metrics)"
   ]
  },
  {
   "cell_type": "code",
   "execution_count": 220,
   "metadata": {},
   "outputs": [
    {
     "data": {
      "text/html": [
       "<div>\n",
       "<style scoped>\n",
       "    .dataframe tbody tr th:only-of-type {\n",
       "        vertical-align: middle;\n",
       "    }\n",
       "\n",
       "    .dataframe tbody tr th {\n",
       "        vertical-align: top;\n",
       "    }\n",
       "\n",
       "    .dataframe thead th {\n",
       "        text-align: right;\n",
       "    }\n",
       "</style>\n",
       "<table border=\"1\" class=\"dataframe\">\n",
       "  <thead>\n",
       "    <tr style=\"text-align: right;\">\n",
       "      <th></th>\n",
       "      <th>price</th>\n",
       "      <th>year</th>\n",
       "      <th>manufacturer</th>\n",
       "      <th>condition</th>\n",
       "      <th>cylinders</th>\n",
       "      <th>fuel</th>\n",
       "      <th>odometer</th>\n",
       "      <th>title_status</th>\n",
       "      <th>transmission</th>\n",
       "      <th>drive</th>\n",
       "      <th>paint_color</th>\n",
       "      <th>state</th>\n",
       "      <th>posting_date</th>\n",
       "      <th>car_model</th>\n",
       "    </tr>\n",
       "  </thead>\n",
       "  <tbody>\n",
       "    <tr>\n",
       "      <th>27</th>\n",
       "      <td>33590</td>\n",
       "      <td>recent</td>\n",
       "      <td>gmc</td>\n",
       "      <td>good</td>\n",
       "      <td>8 cylinders</td>\n",
       "      <td>gas</td>\n",
       "      <td>57923.0</td>\n",
       "      <td>clean</td>\n",
       "      <td>other</td>\n",
       "      <td>4wd</td>\n",
       "      <td>white</td>\n",
       "      <td>al</td>\n",
       "      <td>2021-05-04T12:31:18-0500</td>\n",
       "      <td>gmc sierra</td>\n",
       "    </tr>\n",
       "    <tr>\n",
       "      <th>28</th>\n",
       "      <td>22590</td>\n",
       "      <td>recent</td>\n",
       "      <td>chevrolet</td>\n",
       "      <td>good</td>\n",
       "      <td>8 cylinders</td>\n",
       "      <td>gas</td>\n",
       "      <td>71229.0</td>\n",
       "      <td>clean</td>\n",
       "      <td>other</td>\n",
       "      <td>4wd</td>\n",
       "      <td>blue</td>\n",
       "      <td>al</td>\n",
       "      <td>2021-05-04T12:31:08-0500</td>\n",
       "      <td>chevrolet silverado</td>\n",
       "    </tr>\n",
       "    <tr>\n",
       "      <th>29</th>\n",
       "      <td>39590</td>\n",
       "      <td>recent</td>\n",
       "      <td>chevrolet</td>\n",
       "      <td>good</td>\n",
       "      <td>8 cylinders</td>\n",
       "      <td>gas</td>\n",
       "      <td>19160.0</td>\n",
       "      <td>clean</td>\n",
       "      <td>other</td>\n",
       "      <td>4wd</td>\n",
       "      <td>red</td>\n",
       "      <td>al</td>\n",
       "      <td>2021-05-04T12:31:25-0500</td>\n",
       "      <td>chevrolet silverado</td>\n",
       "    </tr>\n",
       "    <tr>\n",
       "      <th>30</th>\n",
       "      <td>30990</td>\n",
       "      <td>recent</td>\n",
       "      <td>toyota</td>\n",
       "      <td>good</td>\n",
       "      <td>8 cylinders</td>\n",
       "      <td>gas</td>\n",
       "      <td>41124.0</td>\n",
       "      <td>clean</td>\n",
       "      <td>other</td>\n",
       "      <td>4wd</td>\n",
       "      <td>red</td>\n",
       "      <td>al</td>\n",
       "      <td>2021-05-04T10:41:31-0500</td>\n",
       "      <td>toyota tundra</td>\n",
       "    </tr>\n",
       "    <tr>\n",
       "      <th>31</th>\n",
       "      <td>15000</td>\n",
       "      <td>recent</td>\n",
       "      <td>ford</td>\n",
       "      <td>excellent</td>\n",
       "      <td>6 cylinders</td>\n",
       "      <td>gas</td>\n",
       "      <td>128000.0</td>\n",
       "      <td>clean</td>\n",
       "      <td>automatic</td>\n",
       "      <td>rwd</td>\n",
       "      <td>black</td>\n",
       "      <td>al</td>\n",
       "      <td>2021-05-03T14:02:03-0500</td>\n",
       "      <td>ford f150</td>\n",
       "    </tr>\n",
       "    <tr>\n",
       "      <th>...</th>\n",
       "      <td>...</td>\n",
       "      <td>...</td>\n",
       "      <td>...</td>\n",
       "      <td>...</td>\n",
       "      <td>...</td>\n",
       "      <td>...</td>\n",
       "      <td>...</td>\n",
       "      <td>...</td>\n",
       "      <td>...</td>\n",
       "      <td>...</td>\n",
       "      <td>...</td>\n",
       "      <td>...</td>\n",
       "      <td>...</td>\n",
       "      <td>...</td>\n",
       "    </tr>\n",
       "    <tr>\n",
       "      <th>426875</th>\n",
       "      <td>23590</td>\n",
       "      <td>recent</td>\n",
       "      <td>nissan</td>\n",
       "      <td>good</td>\n",
       "      <td>6 cylinders</td>\n",
       "      <td>gas</td>\n",
       "      <td>32226.0</td>\n",
       "      <td>clean</td>\n",
       "      <td>other</td>\n",
       "      <td>fwd</td>\n",
       "      <td>unknown</td>\n",
       "      <td>wy</td>\n",
       "      <td>2021-04-04T03:21:31-0600</td>\n",
       "      <td>nissan maxima</td>\n",
       "    </tr>\n",
       "    <tr>\n",
       "      <th>426876</th>\n",
       "      <td>30590</td>\n",
       "      <td>recent</td>\n",
       "      <td>volvo</td>\n",
       "      <td>good</td>\n",
       "      <td>5 cylinders</td>\n",
       "      <td>gas</td>\n",
       "      <td>12029.0</td>\n",
       "      <td>clean</td>\n",
       "      <td>other</td>\n",
       "      <td>fwd</td>\n",
       "      <td>red</td>\n",
       "      <td>wy</td>\n",
       "      <td>2021-04-04T03:21:29-0600</td>\n",
       "      <td>volvo s60</td>\n",
       "    </tr>\n",
       "    <tr>\n",
       "      <th>426877</th>\n",
       "      <td>34990</td>\n",
       "      <td>recent</td>\n",
       "      <td>cadillac</td>\n",
       "      <td>good</td>\n",
       "      <td>4 cylinders</td>\n",
       "      <td>diesel</td>\n",
       "      <td>4174.0</td>\n",
       "      <td>clean</td>\n",
       "      <td>other</td>\n",
       "      <td>fwd</td>\n",
       "      <td>white</td>\n",
       "      <td>wy</td>\n",
       "      <td>2021-04-04T03:21:17-0600</td>\n",
       "      <td>cadillac xt4</td>\n",
       "    </tr>\n",
       "    <tr>\n",
       "      <th>426878</th>\n",
       "      <td>28990</td>\n",
       "      <td>recent</td>\n",
       "      <td>lexus</td>\n",
       "      <td>good</td>\n",
       "      <td>6 cylinders</td>\n",
       "      <td>gas</td>\n",
       "      <td>30112.0</td>\n",
       "      <td>clean</td>\n",
       "      <td>other</td>\n",
       "      <td>fwd</td>\n",
       "      <td>silver</td>\n",
       "      <td>wy</td>\n",
       "      <td>2021-04-04T03:21:11-0600</td>\n",
       "      <td>lexus es</td>\n",
       "    </tr>\n",
       "    <tr>\n",
       "      <th>426879</th>\n",
       "      <td>30590</td>\n",
       "      <td>recent</td>\n",
       "      <td>bmw</td>\n",
       "      <td>good</td>\n",
       "      <td>4 cylinders</td>\n",
       "      <td>gas</td>\n",
       "      <td>22716.0</td>\n",
       "      <td>clean</td>\n",
       "      <td>other</td>\n",
       "      <td>rwd</td>\n",
       "      <td>unknown</td>\n",
       "      <td>wy</td>\n",
       "      <td>2021-04-04T03:21:07-0600</td>\n",
       "      <td>bmw 4</td>\n",
       "    </tr>\n",
       "  </tbody>\n",
       "</table>\n",
       "<p>309189 rows × 14 columns</p>\n",
       "</div>"
      ],
      "text/plain": [
       "        price    year manufacturer  condition    cylinders    fuel  odometer  \\\n",
       "27      33590  recent          gmc       good  8 cylinders     gas   57923.0   \n",
       "28      22590  recent    chevrolet       good  8 cylinders     gas   71229.0   \n",
       "29      39590  recent    chevrolet       good  8 cylinders     gas   19160.0   \n",
       "30      30990  recent       toyota       good  8 cylinders     gas   41124.0   \n",
       "31      15000  recent         ford  excellent  6 cylinders     gas  128000.0   \n",
       "...       ...     ...          ...        ...          ...     ...       ...   \n",
       "426875  23590  recent       nissan       good  6 cylinders     gas   32226.0   \n",
       "426876  30590  recent        volvo       good  5 cylinders     gas   12029.0   \n",
       "426877  34990  recent     cadillac       good  4 cylinders  diesel    4174.0   \n",
       "426878  28990  recent        lexus       good  6 cylinders     gas   30112.0   \n",
       "426879  30590  recent          bmw       good  4 cylinders     gas   22716.0   \n",
       "\n",
       "       title_status transmission drive paint_color state  \\\n",
       "27            clean        other   4wd       white    al   \n",
       "28            clean        other   4wd        blue    al   \n",
       "29            clean        other   4wd         red    al   \n",
       "30            clean        other   4wd         red    al   \n",
       "31            clean    automatic   rwd       black    al   \n",
       "...             ...          ...   ...         ...   ...   \n",
       "426875        clean        other   fwd     unknown    wy   \n",
       "426876        clean        other   fwd         red    wy   \n",
       "426877        clean        other   fwd       white    wy   \n",
       "426878        clean        other   fwd      silver    wy   \n",
       "426879        clean        other   rwd     unknown    wy   \n",
       "\n",
       "                    posting_date            car_model  \n",
       "27      2021-05-04T12:31:18-0500           gmc sierra  \n",
       "28      2021-05-04T12:31:08-0500  chevrolet silverado  \n",
       "29      2021-05-04T12:31:25-0500  chevrolet silverado  \n",
       "30      2021-05-04T10:41:31-0500        toyota tundra  \n",
       "31      2021-05-03T14:02:03-0500            ford f150  \n",
       "...                          ...                  ...  \n",
       "426875  2021-04-04T03:21:31-0600        nissan maxima  \n",
       "426876  2021-04-04T03:21:29-0600            volvo s60  \n",
       "426877  2021-04-04T03:21:17-0600         cadillac xt4  \n",
       "426878  2021-04-04T03:21:11-0600             lexus es  \n",
       "426879  2021-04-04T03:21:07-0600                bmw 4  \n",
       "\n",
       "[309189 rows x 14 columns]"
      ]
     },
     "execution_count": 220,
     "metadata": {},
     "output_type": "execute_result"
    }
   ],
   "source": [
    "dfBinnedYear = df.copy()\n",
    "dfBinnedYear['year'] = pd.cut(df['year'], 3, labels = ['vintage', 'medium age', 'recent'])\n",
    "dfBinnedYear"
   ]
  },
  {
   "cell_type": "code",
   "execution_count": 221,
   "metadata": {},
   "outputs": [
    {
     "ename": "MemoryError",
     "evalue": "Unable to allocate 47.9 GiB for an array with shape (226787, 226787) and data type uint8",
     "output_type": "error",
     "traceback": [
      "\u001b[1;31m---------------------------------------------------------------------------\u001b[0m",
      "\u001b[1;31mMemoryError\u001b[0m                               Traceback (most recent call last)",
      "\u001b[1;32mc:\\Users\\oache\\Desktop\\KI_ML\\Code\\Manuel_komplettloesung.ipynb Cell 69'\u001b[0m in \u001b[0;36m<cell line: 1>\u001b[1;34m()\u001b[0m\n\u001b[1;32m----> <a href='vscode-notebook-cell:/c%3A/Users/oache/Desktop/KI_ML/Code/Manuel_komplettloesung.ipynb#ch0000048?line=0'>1</a>\u001b[0m binned_year_metrics \u001b[39m=\u001b[39m updateModel(dfBinnedYear)\n\u001b[0;32m      <a href='vscode-notebook-cell:/c%3A/Users/oache/Desktop/KI_ML/Code/Manuel_komplettloesung.ipynb#ch0000048?line=1'>2</a>\u001b[0m print_metrics(binned_year_metrics)\n",
      "\u001b[1;32mc:\\Users\\oache\\Desktop\\KI_ML\\Code\\Manuel_komplettloesung.ipynb Cell 55'\u001b[0m in \u001b[0;36mupdateModel\u001b[1;34m(datafr, test_percentage, seed)\u001b[0m\n\u001b[0;32m      <a href='vscode-notebook-cell:/c%3A/Users/oache/Desktop/KI_ML/Code/Manuel_komplettloesung.ipynb#ch0000034?line=7'>8</a>\u001b[0m y \u001b[39m=\u001b[39m datafr[\u001b[39m'\u001b[39m\u001b[39mprice\u001b[39m\u001b[39m'\u001b[39m]\n\u001b[0;32m      <a href='vscode-notebook-cell:/c%3A/Users/oache/Desktop/KI_ML/Code/Manuel_komplettloesung.ipynb#ch0000034?line=8'>9</a>\u001b[0m X_train, X_test, y_train, y_test \u001b[39m=\u001b[39m train_test_split(X, y, test_size \u001b[39m=\u001b[39m test_percentage, random_state \u001b[39m=\u001b[39m seed)\n\u001b[1;32m---> <a href='vscode-notebook-cell:/c%3A/Users/oache/Desktop/KI_ML/Code/Manuel_komplettloesung.ipynb#ch0000034?line=9'>10</a>\u001b[0m X_train \u001b[39m=\u001b[39m pd\u001b[39m.\u001b[39;49mget_dummies(X_train, drop_first \u001b[39m=\u001b[39;49m \u001b[39mTrue\u001b[39;49;00m)\n\u001b[0;32m     <a href='vscode-notebook-cell:/c%3A/Users/oache/Desktop/KI_ML/Code/Manuel_komplettloesung.ipynb#ch0000034?line=10'>11</a>\u001b[0m X_test \u001b[39m=\u001b[39m pd\u001b[39m.\u001b[39mget_dummies(X_test, drop_first \u001b[39m=\u001b[39m \u001b[39mTrue\u001b[39;00m)\n\u001b[0;32m     <a href='vscode-notebook-cell:/c%3A/Users/oache/Desktop/KI_ML/Code/Manuel_komplettloesung.ipynb#ch0000034?line=12'>13</a>\u001b[0m \u001b[39m#feature scaling\u001b[39;00m\n",
      "File \u001b[1;32mf:\\Python\\Python310\\lib\\site-packages\\pandas\\core\\reshape\\reshape.py:977\u001b[0m, in \u001b[0;36mget_dummies\u001b[1;34m(data, prefix, prefix_sep, dummy_na, columns, sparse, drop_first, dtype)\u001b[0m\n\u001b[0;32m    973\u001b[0m     with_dummies \u001b[39m=\u001b[39m [data\u001b[39m.\u001b[39mselect_dtypes(exclude\u001b[39m=\u001b[39mdtypes_to_encode)]\n\u001b[0;32m    975\u001b[0m \u001b[39mfor\u001b[39;00m (col, pre, sep) \u001b[39min\u001b[39;00m \u001b[39mzip\u001b[39m(data_to_encode\u001b[39m.\u001b[39mitems(), prefix, prefix_sep):\n\u001b[0;32m    976\u001b[0m     \u001b[39m# col is (column_name, column), use just column data here\u001b[39;00m\n\u001b[1;32m--> 977\u001b[0m     dummy \u001b[39m=\u001b[39m _get_dummies_1d(\n\u001b[0;32m    978\u001b[0m         col[\u001b[39m1\u001b[39;49m],\n\u001b[0;32m    979\u001b[0m         prefix\u001b[39m=\u001b[39;49mpre,\n\u001b[0;32m    980\u001b[0m         prefix_sep\u001b[39m=\u001b[39;49msep,\n\u001b[0;32m    981\u001b[0m         dummy_na\u001b[39m=\u001b[39;49mdummy_na,\n\u001b[0;32m    982\u001b[0m         sparse\u001b[39m=\u001b[39;49msparse,\n\u001b[0;32m    983\u001b[0m         drop_first\u001b[39m=\u001b[39;49mdrop_first,\n\u001b[0;32m    984\u001b[0m         dtype\u001b[39m=\u001b[39;49mdtype,\n\u001b[0;32m    985\u001b[0m     )\n\u001b[0;32m    986\u001b[0m     with_dummies\u001b[39m.\u001b[39mappend(dummy)\n\u001b[0;32m    987\u001b[0m result \u001b[39m=\u001b[39m concat(with_dummies, axis\u001b[39m=\u001b[39m\u001b[39m1\u001b[39m)\n",
      "File \u001b[1;32mf:\\Python\\Python310\\lib\\site-packages\\pandas\\core\\reshape\\reshape.py:1096\u001b[0m, in \u001b[0;36m_get_dummies_1d\u001b[1;34m(data, prefix, prefix_sep, dummy_na, sparse, drop_first, dtype)\u001b[0m\n\u001b[0;32m   1092\u001b[0m     \u001b[39mreturn\u001b[39;00m concat(sparse_series, axis\u001b[39m=\u001b[39m\u001b[39m1\u001b[39m, copy\u001b[39m=\u001b[39m\u001b[39mFalse\u001b[39;00m)\n\u001b[0;32m   1094\u001b[0m \u001b[39melse\u001b[39;00m:\n\u001b[0;32m   1095\u001b[0m     \u001b[39m# take on axis=1 + transpose to ensure ndarray layout is column-major\u001b[39;00m\n\u001b[1;32m-> 1096\u001b[0m     dummy_mat \u001b[39m=\u001b[39m np\u001b[39m.\u001b[39;49meye(number_of_cols, dtype\u001b[39m=\u001b[39;49mdtype)\u001b[39m.\u001b[39mtake(codes, axis\u001b[39m=\u001b[39m\u001b[39m1\u001b[39m)\u001b[39m.\u001b[39mT\n\u001b[0;32m   1098\u001b[0m     \u001b[39mif\u001b[39;00m \u001b[39mnot\u001b[39;00m dummy_na:\n\u001b[0;32m   1099\u001b[0m         \u001b[39m# reset NaN GH4446\u001b[39;00m\n\u001b[0;32m   1100\u001b[0m         dummy_mat[codes \u001b[39m==\u001b[39m \u001b[39m-\u001b[39m\u001b[39m1\u001b[39m] \u001b[39m=\u001b[39m \u001b[39m0\u001b[39m\n",
      "File \u001b[1;32mf:\\Python\\Python310\\lib\\site-packages\\numpy\\lib\\twodim_base.py:214\u001b[0m, in \u001b[0;36meye\u001b[1;34m(N, M, k, dtype, order, like)\u001b[0m\n\u001b[0;32m    212\u001b[0m \u001b[39mif\u001b[39;00m M \u001b[39mis\u001b[39;00m \u001b[39mNone\u001b[39;00m:\n\u001b[0;32m    213\u001b[0m     M \u001b[39m=\u001b[39m N\n\u001b[1;32m--> 214\u001b[0m m \u001b[39m=\u001b[39m zeros((N, M), dtype\u001b[39m=\u001b[39;49mdtype, order\u001b[39m=\u001b[39;49morder)\n\u001b[0;32m    215\u001b[0m \u001b[39mif\u001b[39;00m k \u001b[39m>\u001b[39m\u001b[39m=\u001b[39m M:\n\u001b[0;32m    216\u001b[0m     \u001b[39mreturn\u001b[39;00m m\n",
      "\u001b[1;31mMemoryError\u001b[0m: Unable to allocate 47.9 GiB for an array with shape (226787, 226787) and data type uint8"
     ]
    }
   ],
   "source": [
    "binned_year_metrics = updateModel(dfBinnedYear)\n",
    "print_metrics(binned_year_metrics)"
   ]
  },
  {
   "cell_type": "code",
   "execution_count": 222,
   "metadata": {},
   "outputs": [
    {
     "data": {
      "text/html": [
       "<div>\n",
       "<style scoped>\n",
       "    .dataframe tbody tr th:only-of-type {\n",
       "        vertical-align: middle;\n",
       "    }\n",
       "\n",
       "    .dataframe tbody tr th {\n",
       "        vertical-align: top;\n",
       "    }\n",
       "\n",
       "    .dataframe thead th {\n",
       "        text-align: right;\n",
       "    }\n",
       "</style>\n",
       "<table border=\"1\" class=\"dataframe\">\n",
       "  <thead>\n",
       "    <tr style=\"text-align: right;\">\n",
       "      <th></th>\n",
       "      <th>price</th>\n",
       "      <th>manufacturer</th>\n",
       "      <th>condition</th>\n",
       "      <th>cylinders</th>\n",
       "      <th>fuel</th>\n",
       "      <th>odometer</th>\n",
       "      <th>title_status</th>\n",
       "      <th>transmission</th>\n",
       "      <th>drive</th>\n",
       "      <th>paint_color</th>\n",
       "      <th>state</th>\n",
       "      <th>posting_date</th>\n",
       "      <th>car_model</th>\n",
       "      <th>age</th>\n",
       "    </tr>\n",
       "  </thead>\n",
       "  <tbody>\n",
       "    <tr>\n",
       "      <th>27</th>\n",
       "      <td>33590</td>\n",
       "      <td>gmc</td>\n",
       "      <td>good</td>\n",
       "      <td>8 cylinders</td>\n",
       "      <td>gas</td>\n",
       "      <td>57923.0</td>\n",
       "      <td>clean</td>\n",
       "      <td>other</td>\n",
       "      <td>4wd</td>\n",
       "      <td>white</td>\n",
       "      <td>al</td>\n",
       "      <td>2021-05-04T12:31:18-0500</td>\n",
       "      <td>gmc sierra</td>\n",
       "      <td>7.0</td>\n",
       "    </tr>\n",
       "    <tr>\n",
       "      <th>28</th>\n",
       "      <td>22590</td>\n",
       "      <td>chevrolet</td>\n",
       "      <td>good</td>\n",
       "      <td>8 cylinders</td>\n",
       "      <td>gas</td>\n",
       "      <td>71229.0</td>\n",
       "      <td>clean</td>\n",
       "      <td>other</td>\n",
       "      <td>4wd</td>\n",
       "      <td>blue</td>\n",
       "      <td>al</td>\n",
       "      <td>2021-05-04T12:31:08-0500</td>\n",
       "      <td>chevrolet silverado</td>\n",
       "      <td>11.0</td>\n",
       "    </tr>\n",
       "    <tr>\n",
       "      <th>29</th>\n",
       "      <td>39590</td>\n",
       "      <td>chevrolet</td>\n",
       "      <td>good</td>\n",
       "      <td>8 cylinders</td>\n",
       "      <td>gas</td>\n",
       "      <td>19160.0</td>\n",
       "      <td>clean</td>\n",
       "      <td>other</td>\n",
       "      <td>4wd</td>\n",
       "      <td>red</td>\n",
       "      <td>al</td>\n",
       "      <td>2021-05-04T12:31:25-0500</td>\n",
       "      <td>chevrolet silverado</td>\n",
       "      <td>1.0</td>\n",
       "    </tr>\n",
       "    <tr>\n",
       "      <th>30</th>\n",
       "      <td>30990</td>\n",
       "      <td>toyota</td>\n",
       "      <td>good</td>\n",
       "      <td>8 cylinders</td>\n",
       "      <td>gas</td>\n",
       "      <td>41124.0</td>\n",
       "      <td>clean</td>\n",
       "      <td>other</td>\n",
       "      <td>4wd</td>\n",
       "      <td>red</td>\n",
       "      <td>al</td>\n",
       "      <td>2021-05-04T10:41:31-0500</td>\n",
       "      <td>toyota tundra</td>\n",
       "      <td>4.0</td>\n",
       "    </tr>\n",
       "    <tr>\n",
       "      <th>31</th>\n",
       "      <td>15000</td>\n",
       "      <td>ford</td>\n",
       "      <td>excellent</td>\n",
       "      <td>6 cylinders</td>\n",
       "      <td>gas</td>\n",
       "      <td>128000.0</td>\n",
       "      <td>clean</td>\n",
       "      <td>automatic</td>\n",
       "      <td>rwd</td>\n",
       "      <td>black</td>\n",
       "      <td>al</td>\n",
       "      <td>2021-05-03T14:02:03-0500</td>\n",
       "      <td>ford f150</td>\n",
       "      <td>8.0</td>\n",
       "    </tr>\n",
       "    <tr>\n",
       "      <th>...</th>\n",
       "      <td>...</td>\n",
       "      <td>...</td>\n",
       "      <td>...</td>\n",
       "      <td>...</td>\n",
       "      <td>...</td>\n",
       "      <td>...</td>\n",
       "      <td>...</td>\n",
       "      <td>...</td>\n",
       "      <td>...</td>\n",
       "      <td>...</td>\n",
       "      <td>...</td>\n",
       "      <td>...</td>\n",
       "      <td>...</td>\n",
       "      <td>...</td>\n",
       "    </tr>\n",
       "    <tr>\n",
       "      <th>426875</th>\n",
       "      <td>23590</td>\n",
       "      <td>nissan</td>\n",
       "      <td>good</td>\n",
       "      <td>6 cylinders</td>\n",
       "      <td>gas</td>\n",
       "      <td>32226.0</td>\n",
       "      <td>clean</td>\n",
       "      <td>other</td>\n",
       "      <td>fwd</td>\n",
       "      <td>unknown</td>\n",
       "      <td>wy</td>\n",
       "      <td>2021-04-04T03:21:31-0600</td>\n",
       "      <td>nissan maxima</td>\n",
       "      <td>2.0</td>\n",
       "    </tr>\n",
       "    <tr>\n",
       "      <th>426876</th>\n",
       "      <td>30590</td>\n",
       "      <td>volvo</td>\n",
       "      <td>good</td>\n",
       "      <td>5 cylinders</td>\n",
       "      <td>gas</td>\n",
       "      <td>12029.0</td>\n",
       "      <td>clean</td>\n",
       "      <td>other</td>\n",
       "      <td>fwd</td>\n",
       "      <td>red</td>\n",
       "      <td>wy</td>\n",
       "      <td>2021-04-04T03:21:29-0600</td>\n",
       "      <td>volvo s60</td>\n",
       "      <td>1.0</td>\n",
       "    </tr>\n",
       "    <tr>\n",
       "      <th>426877</th>\n",
       "      <td>34990</td>\n",
       "      <td>cadillac</td>\n",
       "      <td>good</td>\n",
       "      <td>4 cylinders</td>\n",
       "      <td>diesel</td>\n",
       "      <td>4174.0</td>\n",
       "      <td>clean</td>\n",
       "      <td>other</td>\n",
       "      <td>fwd</td>\n",
       "      <td>white</td>\n",
       "      <td>wy</td>\n",
       "      <td>2021-04-04T03:21:17-0600</td>\n",
       "      <td>cadillac xt4</td>\n",
       "      <td>1.0</td>\n",
       "    </tr>\n",
       "    <tr>\n",
       "      <th>426878</th>\n",
       "      <td>28990</td>\n",
       "      <td>lexus</td>\n",
       "      <td>good</td>\n",
       "      <td>6 cylinders</td>\n",
       "      <td>gas</td>\n",
       "      <td>30112.0</td>\n",
       "      <td>clean</td>\n",
       "      <td>other</td>\n",
       "      <td>fwd</td>\n",
       "      <td>silver</td>\n",
       "      <td>wy</td>\n",
       "      <td>2021-04-04T03:21:11-0600</td>\n",
       "      <td>lexus es</td>\n",
       "      <td>3.0</td>\n",
       "    </tr>\n",
       "    <tr>\n",
       "      <th>426879</th>\n",
       "      <td>30590</td>\n",
       "      <td>bmw</td>\n",
       "      <td>good</td>\n",
       "      <td>4 cylinders</td>\n",
       "      <td>gas</td>\n",
       "      <td>22716.0</td>\n",
       "      <td>clean</td>\n",
       "      <td>other</td>\n",
       "      <td>rwd</td>\n",
       "      <td>unknown</td>\n",
       "      <td>wy</td>\n",
       "      <td>2021-04-04T03:21:07-0600</td>\n",
       "      <td>bmw 4</td>\n",
       "      <td>2.0</td>\n",
       "    </tr>\n",
       "  </tbody>\n",
       "</table>\n",
       "<p>309189 rows × 14 columns</p>\n",
       "</div>"
      ],
      "text/plain": [
       "        price manufacturer  condition    cylinders    fuel  odometer  \\\n",
       "27      33590          gmc       good  8 cylinders     gas   57923.0   \n",
       "28      22590    chevrolet       good  8 cylinders     gas   71229.0   \n",
       "29      39590    chevrolet       good  8 cylinders     gas   19160.0   \n",
       "30      30990       toyota       good  8 cylinders     gas   41124.0   \n",
       "31      15000         ford  excellent  6 cylinders     gas  128000.0   \n",
       "...       ...          ...        ...          ...     ...       ...   \n",
       "426875  23590       nissan       good  6 cylinders     gas   32226.0   \n",
       "426876  30590        volvo       good  5 cylinders     gas   12029.0   \n",
       "426877  34990     cadillac       good  4 cylinders  diesel    4174.0   \n",
       "426878  28990        lexus       good  6 cylinders     gas   30112.0   \n",
       "426879  30590          bmw       good  4 cylinders     gas   22716.0   \n",
       "\n",
       "       title_status transmission drive paint_color state  \\\n",
       "27            clean        other   4wd       white    al   \n",
       "28            clean        other   4wd        blue    al   \n",
       "29            clean        other   4wd         red    al   \n",
       "30            clean        other   4wd         red    al   \n",
       "31            clean    automatic   rwd       black    al   \n",
       "...             ...          ...   ...         ...   ...   \n",
       "426875        clean        other   fwd     unknown    wy   \n",
       "426876        clean        other   fwd         red    wy   \n",
       "426877        clean        other   fwd       white    wy   \n",
       "426878        clean        other   fwd      silver    wy   \n",
       "426879        clean        other   rwd     unknown    wy   \n",
       "\n",
       "                    posting_date            car_model   age  \n",
       "27      2021-05-04T12:31:18-0500           gmc sierra   7.0  \n",
       "28      2021-05-04T12:31:08-0500  chevrolet silverado  11.0  \n",
       "29      2021-05-04T12:31:25-0500  chevrolet silverado   1.0  \n",
       "30      2021-05-04T10:41:31-0500        toyota tundra   4.0  \n",
       "31      2021-05-03T14:02:03-0500            ford f150   8.0  \n",
       "...                          ...                  ...   ...  \n",
       "426875  2021-04-04T03:21:31-0600        nissan maxima   2.0  \n",
       "426876  2021-04-04T03:21:29-0600            volvo s60   1.0  \n",
       "426877  2021-04-04T03:21:17-0600         cadillac xt4   1.0  \n",
       "426878  2021-04-04T03:21:11-0600             lexus es   3.0  \n",
       "426879  2021-04-04T03:21:07-0600                bmw 4   2.0  \n",
       "\n",
       "[309189 rows x 14 columns]"
      ]
     },
     "execution_count": 222,
     "metadata": {},
     "output_type": "execute_result"
    }
   ],
   "source": [
    "dfAge = df.copy()\n",
    "dfAge['age'] = [2021 - x for x in df['year'].tolist()]\n",
    "dfAge.drop('year', axis=1, inplace = True)\n",
    "dfAge"
   ]
  },
  {
   "cell_type": "code",
   "execution_count": 223,
   "metadata": {},
   "outputs": [
    {
     "ename": "MemoryError",
     "evalue": "Unable to allocate 47.9 GiB for an array with shape (226787, 226787) and data type uint8",
     "output_type": "error",
     "traceback": [
      "\u001b[1;31m---------------------------------------------------------------------------\u001b[0m",
      "\u001b[1;31mMemoryError\u001b[0m                               Traceback (most recent call last)",
      "\u001b[1;32mc:\\Users\\oache\\Desktop\\KI_ML\\Code\\Manuel_komplettloesung.ipynb Cell 71'\u001b[0m in \u001b[0;36m<cell line: 1>\u001b[1;34m()\u001b[0m\n\u001b[1;32m----> <a href='vscode-notebook-cell:/c%3A/Users/oache/Desktop/KI_ML/Code/Manuel_komplettloesung.ipynb#ch0000050?line=0'>1</a>\u001b[0m age_metrics \u001b[39m=\u001b[39m updateModel(dfAge)\n\u001b[0;32m      <a href='vscode-notebook-cell:/c%3A/Users/oache/Desktop/KI_ML/Code/Manuel_komplettloesung.ipynb#ch0000050?line=1'>2</a>\u001b[0m print_metrics(age_metrics)\n",
      "\u001b[1;32mc:\\Users\\oache\\Desktop\\KI_ML\\Code\\Manuel_komplettloesung.ipynb Cell 55'\u001b[0m in \u001b[0;36mupdateModel\u001b[1;34m(datafr, test_percentage, seed)\u001b[0m\n\u001b[0;32m      <a href='vscode-notebook-cell:/c%3A/Users/oache/Desktop/KI_ML/Code/Manuel_komplettloesung.ipynb#ch0000034?line=7'>8</a>\u001b[0m y \u001b[39m=\u001b[39m datafr[\u001b[39m'\u001b[39m\u001b[39mprice\u001b[39m\u001b[39m'\u001b[39m]\n\u001b[0;32m      <a href='vscode-notebook-cell:/c%3A/Users/oache/Desktop/KI_ML/Code/Manuel_komplettloesung.ipynb#ch0000034?line=8'>9</a>\u001b[0m X_train, X_test, y_train, y_test \u001b[39m=\u001b[39m train_test_split(X, y, test_size \u001b[39m=\u001b[39m test_percentage, random_state \u001b[39m=\u001b[39m seed)\n\u001b[1;32m---> <a href='vscode-notebook-cell:/c%3A/Users/oache/Desktop/KI_ML/Code/Manuel_komplettloesung.ipynb#ch0000034?line=9'>10</a>\u001b[0m X_train \u001b[39m=\u001b[39m pd\u001b[39m.\u001b[39;49mget_dummies(X_train, drop_first \u001b[39m=\u001b[39;49m \u001b[39mTrue\u001b[39;49;00m)\n\u001b[0;32m     <a href='vscode-notebook-cell:/c%3A/Users/oache/Desktop/KI_ML/Code/Manuel_komplettloesung.ipynb#ch0000034?line=10'>11</a>\u001b[0m X_test \u001b[39m=\u001b[39m pd\u001b[39m.\u001b[39mget_dummies(X_test, drop_first \u001b[39m=\u001b[39m \u001b[39mTrue\u001b[39;00m)\n\u001b[0;32m     <a href='vscode-notebook-cell:/c%3A/Users/oache/Desktop/KI_ML/Code/Manuel_komplettloesung.ipynb#ch0000034?line=12'>13</a>\u001b[0m \u001b[39m#feature scaling\u001b[39;00m\n",
      "File \u001b[1;32mf:\\Python\\Python310\\lib\\site-packages\\pandas\\core\\reshape\\reshape.py:977\u001b[0m, in \u001b[0;36mget_dummies\u001b[1;34m(data, prefix, prefix_sep, dummy_na, columns, sparse, drop_first, dtype)\u001b[0m\n\u001b[0;32m    973\u001b[0m     with_dummies \u001b[39m=\u001b[39m [data\u001b[39m.\u001b[39mselect_dtypes(exclude\u001b[39m=\u001b[39mdtypes_to_encode)]\n\u001b[0;32m    975\u001b[0m \u001b[39mfor\u001b[39;00m (col, pre, sep) \u001b[39min\u001b[39;00m \u001b[39mzip\u001b[39m(data_to_encode\u001b[39m.\u001b[39mitems(), prefix, prefix_sep):\n\u001b[0;32m    976\u001b[0m     \u001b[39m# col is (column_name, column), use just column data here\u001b[39;00m\n\u001b[1;32m--> 977\u001b[0m     dummy \u001b[39m=\u001b[39m _get_dummies_1d(\n\u001b[0;32m    978\u001b[0m         col[\u001b[39m1\u001b[39;49m],\n\u001b[0;32m    979\u001b[0m         prefix\u001b[39m=\u001b[39;49mpre,\n\u001b[0;32m    980\u001b[0m         prefix_sep\u001b[39m=\u001b[39;49msep,\n\u001b[0;32m    981\u001b[0m         dummy_na\u001b[39m=\u001b[39;49mdummy_na,\n\u001b[0;32m    982\u001b[0m         sparse\u001b[39m=\u001b[39;49msparse,\n\u001b[0;32m    983\u001b[0m         drop_first\u001b[39m=\u001b[39;49mdrop_first,\n\u001b[0;32m    984\u001b[0m         dtype\u001b[39m=\u001b[39;49mdtype,\n\u001b[0;32m    985\u001b[0m     )\n\u001b[0;32m    986\u001b[0m     with_dummies\u001b[39m.\u001b[39mappend(dummy)\n\u001b[0;32m    987\u001b[0m result \u001b[39m=\u001b[39m concat(with_dummies, axis\u001b[39m=\u001b[39m\u001b[39m1\u001b[39m)\n",
      "File \u001b[1;32mf:\\Python\\Python310\\lib\\site-packages\\pandas\\core\\reshape\\reshape.py:1096\u001b[0m, in \u001b[0;36m_get_dummies_1d\u001b[1;34m(data, prefix, prefix_sep, dummy_na, sparse, drop_first, dtype)\u001b[0m\n\u001b[0;32m   1092\u001b[0m     \u001b[39mreturn\u001b[39;00m concat(sparse_series, axis\u001b[39m=\u001b[39m\u001b[39m1\u001b[39m, copy\u001b[39m=\u001b[39m\u001b[39mFalse\u001b[39;00m)\n\u001b[0;32m   1094\u001b[0m \u001b[39melse\u001b[39;00m:\n\u001b[0;32m   1095\u001b[0m     \u001b[39m# take on axis=1 + transpose to ensure ndarray layout is column-major\u001b[39;00m\n\u001b[1;32m-> 1096\u001b[0m     dummy_mat \u001b[39m=\u001b[39m np\u001b[39m.\u001b[39;49meye(number_of_cols, dtype\u001b[39m=\u001b[39;49mdtype)\u001b[39m.\u001b[39mtake(codes, axis\u001b[39m=\u001b[39m\u001b[39m1\u001b[39m)\u001b[39m.\u001b[39mT\n\u001b[0;32m   1098\u001b[0m     \u001b[39mif\u001b[39;00m \u001b[39mnot\u001b[39;00m dummy_na:\n\u001b[0;32m   1099\u001b[0m         \u001b[39m# reset NaN GH4446\u001b[39;00m\n\u001b[0;32m   1100\u001b[0m         dummy_mat[codes \u001b[39m==\u001b[39m \u001b[39m-\u001b[39m\u001b[39m1\u001b[39m] \u001b[39m=\u001b[39m \u001b[39m0\u001b[39m\n",
      "File \u001b[1;32mf:\\Python\\Python310\\lib\\site-packages\\numpy\\lib\\twodim_base.py:214\u001b[0m, in \u001b[0;36meye\u001b[1;34m(N, M, k, dtype, order, like)\u001b[0m\n\u001b[0;32m    212\u001b[0m \u001b[39mif\u001b[39;00m M \u001b[39mis\u001b[39;00m \u001b[39mNone\u001b[39;00m:\n\u001b[0;32m    213\u001b[0m     M \u001b[39m=\u001b[39m N\n\u001b[1;32m--> 214\u001b[0m m \u001b[39m=\u001b[39m zeros((N, M), dtype\u001b[39m=\u001b[39;49mdtype, order\u001b[39m=\u001b[39;49morder)\n\u001b[0;32m    215\u001b[0m \u001b[39mif\u001b[39;00m k \u001b[39m>\u001b[39m\u001b[39m=\u001b[39m M:\n\u001b[0;32m    216\u001b[0m     \u001b[39mreturn\u001b[39;00m m\n",
      "\u001b[1;31mMemoryError\u001b[0m: Unable to allocate 47.9 GiB for an array with shape (226787, 226787) and data type uint8"
     ]
    }
   ],
   "source": [
    "age_metrics = updateModel(dfAge)\n",
    "print_metrics(age_metrics)"
   ]
  },
  {
   "cell_type": "code",
   "execution_count": 224,
   "metadata": {},
   "outputs": [
    {
     "data": {
      "text/plain": [
       "<matplotlib.lines.Line2D at 0x16ee96d6f50>"
      ]
     },
     "execution_count": 224,
     "metadata": {},
     "output_type": "execute_result"
    },
    {
     "data": {
      "image/png": "[encoded data removed]",
      "text/plain": [
       "<Figure size 720x360 with 1 Axes>"
      ]
     },
     "metadata": {
      "needs_background": "light"
     },
     "output_type": "display_data"
    }
   ],
   "source": [
    "#we can clearly see a U-shaped pricing behavior in function of car age\n",
    "#in addition, we can identify age categories with similar pricing behavior\n",
    "\n",
    "dfAgeCat = dfAge.copy()\n",
    "thresholds = [50,40,30,15,14,13,12,11,10,9,8,7,6,5,4,3,2,1]\n",
    "groups = ['over 50','40-49','30-39','15-29','14','13','12','11','10','9','8','7','6','5','4','3','2','1']\n",
    "\n",
    "x = (dfAgeCat.groupby(['age'],as_index = False).mean())['age'].tolist()\n",
    "y = (dfAgeCat.groupby(['age'],as_index = False).mean())['price'].tolist()\n",
    "fig = plt.figure(figsize=[10,5])\n",
    "plt.ylabel('Mean price')\n",
    "plt.xlabel('Age (years)')\n",
    "plt.bar(x, y, width=1)\n",
    "for t in thresholds:\n",
    "    plt.axvline(t-0.5, color = 'red')\n",
    "\n",
    "plt.axvline(-0.5, color = 'red')\n",
    "plt.axvline(60.5, color = 'red')"
   ]
  },
  {
   "cell_type": "code",
   "execution_count": 225,
   "metadata": {},
   "outputs": [
    {
     "name": "stdout",
     "output_type": "stream",
     "text": [
      "['7' '11' '1' '4' '8' '9' '5' '2' '10' '15-29' '3' '6' '13' '14' '12'\n",
      " 'new' '40-49' 'over 50' '30-39']\n"
     ]
    },
    {
     "data": {
      "text/html": [
       "<div>\n",
       "<style scoped>\n",
       "    .dataframe tbody tr th:only-of-type {\n",
       "        vertical-align: middle;\n",
       "    }\n",
       "\n",
       "    .dataframe tbody tr th {\n",
       "        vertical-align: top;\n",
       "    }\n",
       "\n",
       "    .dataframe thead th {\n",
       "        text-align: right;\n",
       "    }\n",
       "</style>\n",
       "<table border=\"1\" class=\"dataframe\">\n",
       "  <thead>\n",
       "    <tr style=\"text-align: right;\">\n",
       "      <th></th>\n",
       "      <th>price</th>\n",
       "      <th>manufacturer</th>\n",
       "      <th>condition</th>\n",
       "      <th>cylinders</th>\n",
       "      <th>fuel</th>\n",
       "      <th>odometer</th>\n",
       "      <th>title_status</th>\n",
       "      <th>transmission</th>\n",
       "      <th>drive</th>\n",
       "      <th>paint_color</th>\n",
       "      <th>state</th>\n",
       "      <th>posting_date</th>\n",
       "      <th>car_model</th>\n",
       "      <th>age_group</th>\n",
       "    </tr>\n",
       "  </thead>\n",
       "  <tbody>\n",
       "    <tr>\n",
       "      <th>27</th>\n",
       "      <td>33590</td>\n",
       "      <td>gmc</td>\n",
       "      <td>good</td>\n",
       "      <td>8 cylinders</td>\n",
       "      <td>gas</td>\n",
       "      <td>57923.0</td>\n",
       "      <td>clean</td>\n",
       "      <td>other</td>\n",
       "      <td>4wd</td>\n",
       "      <td>white</td>\n",
       "      <td>al</td>\n",
       "      <td>2021-05-04T12:31:18-0500</td>\n",
       "      <td>gmc sierra</td>\n",
       "      <td>7</td>\n",
       "    </tr>\n",
       "    <tr>\n",
       "      <th>28</th>\n",
       "      <td>22590</td>\n",
       "      <td>chevrolet</td>\n",
       "      <td>good</td>\n",
       "      <td>8 cylinders</td>\n",
       "      <td>gas</td>\n",
       "      <td>71229.0</td>\n",
       "      <td>clean</td>\n",
       "      <td>other</td>\n",
       "      <td>4wd</td>\n",
       "      <td>blue</td>\n",
       "      <td>al</td>\n",
       "      <td>2021-05-04T12:31:08-0500</td>\n",
       "      <td>chevrolet silverado</td>\n",
       "      <td>11</td>\n",
       "    </tr>\n",
       "    <tr>\n",
       "      <th>29</th>\n",
       "      <td>39590</td>\n",
       "      <td>chevrolet</td>\n",
       "      <td>good</td>\n",
       "      <td>8 cylinders</td>\n",
       "      <td>gas</td>\n",
       "      <td>19160.0</td>\n",
       "      <td>clean</td>\n",
       "      <td>other</td>\n",
       "      <td>4wd</td>\n",
       "      <td>red</td>\n",
       "      <td>al</td>\n",
       "      <td>2021-05-04T12:31:25-0500</td>\n",
       "      <td>chevrolet silverado</td>\n",
       "      <td>1</td>\n",
       "    </tr>\n",
       "    <tr>\n",
       "      <th>30</th>\n",
       "      <td>30990</td>\n",
       "      <td>toyota</td>\n",
       "      <td>good</td>\n",
       "      <td>8 cylinders</td>\n",
       "      <td>gas</td>\n",
       "      <td>41124.0</td>\n",
       "      <td>clean</td>\n",
       "      <td>other</td>\n",
       "      <td>4wd</td>\n",
       "      <td>red</td>\n",
       "      <td>al</td>\n",
       "      <td>2021-05-04T10:41:31-0500</td>\n",
       "      <td>toyota tundra</td>\n",
       "      <td>4</td>\n",
       "    </tr>\n",
       "    <tr>\n",
       "      <th>31</th>\n",
       "      <td>15000</td>\n",
       "      <td>ford</td>\n",
       "      <td>excellent</td>\n",
       "      <td>6 cylinders</td>\n",
       "      <td>gas</td>\n",
       "      <td>128000.0</td>\n",
       "      <td>clean</td>\n",
       "      <td>automatic</td>\n",
       "      <td>rwd</td>\n",
       "      <td>black</td>\n",
       "      <td>al</td>\n",
       "      <td>2021-05-03T14:02:03-0500</td>\n",
       "      <td>ford f150</td>\n",
       "      <td>8</td>\n",
       "    </tr>\n",
       "    <tr>\n",
       "      <th>...</th>\n",
       "      <td>...</td>\n",
       "      <td>...</td>\n",
       "      <td>...</td>\n",
       "      <td>...</td>\n",
       "      <td>...</td>\n",
       "      <td>...</td>\n",
       "      <td>...</td>\n",
       "      <td>...</td>\n",
       "      <td>...</td>\n",
       "      <td>...</td>\n",
       "      <td>...</td>\n",
       "      <td>...</td>\n",
       "      <td>...</td>\n",
       "      <td>...</td>\n",
       "    </tr>\n",
       "    <tr>\n",
       "      <th>426875</th>\n",
       "      <td>23590</td>\n",
       "      <td>nissan</td>\n",
       "      <td>good</td>\n",
       "      <td>6 cylinders</td>\n",
       "      <td>gas</td>\n",
       "      <td>32226.0</td>\n",
       "      <td>clean</td>\n",
       "      <td>other</td>\n",
       "      <td>fwd</td>\n",
       "      <td>unknown</td>\n",
       "      <td>wy</td>\n",
       "      <td>2021-04-04T03:21:31-0600</td>\n",
       "      <td>nissan maxima</td>\n",
       "      <td>2</td>\n",
       "    </tr>\n",
       "    <tr>\n",
       "      <th>426876</th>\n",
       "      <td>30590</td>\n",
       "      <td>volvo</td>\n",
       "      <td>good</td>\n",
       "      <td>5 cylinders</td>\n",
       "      <td>gas</td>\n",
       "      <td>12029.0</td>\n",
       "      <td>clean</td>\n",
       "      <td>other</td>\n",
       "      <td>fwd</td>\n",
       "      <td>red</td>\n",
       "      <td>wy</td>\n",
       "      <td>2021-04-04T03:21:29-0600</td>\n",
       "      <td>volvo s60</td>\n",
       "      <td>1</td>\n",
       "    </tr>\n",
       "    <tr>\n",
       "      <th>426877</th>\n",
       "      <td>34990</td>\n",
       "      <td>cadillac</td>\n",
       "      <td>good</td>\n",
       "      <td>4 cylinders</td>\n",
       "      <td>diesel</td>\n",
       "      <td>4174.0</td>\n",
       "      <td>clean</td>\n",
       "      <td>other</td>\n",
       "      <td>fwd</td>\n",
       "      <td>white</td>\n",
       "      <td>wy</td>\n",
       "      <td>2021-04-04T03:21:17-0600</td>\n",
       "      <td>cadillac xt4</td>\n",
       "      <td>1</td>\n",
       "    </tr>\n",
       "    <tr>\n",
       "      <th>426878</th>\n",
       "      <td>28990</td>\n",
       "      <td>lexus</td>\n",
       "      <td>good</td>\n",
       "      <td>6 cylinders</td>\n",
       "      <td>gas</td>\n",
       "      <td>30112.0</td>\n",
       "      <td>clean</td>\n",
       "      <td>other</td>\n",
       "      <td>fwd</td>\n",
       "      <td>silver</td>\n",
       "      <td>wy</td>\n",
       "      <td>2021-04-04T03:21:11-0600</td>\n",
       "      <td>lexus es</td>\n",
       "      <td>3</td>\n",
       "    </tr>\n",
       "    <tr>\n",
       "      <th>426879</th>\n",
       "      <td>30590</td>\n",
       "      <td>bmw</td>\n",
       "      <td>good</td>\n",
       "      <td>4 cylinders</td>\n",
       "      <td>gas</td>\n",
       "      <td>22716.0</td>\n",
       "      <td>clean</td>\n",
       "      <td>other</td>\n",
       "      <td>rwd</td>\n",
       "      <td>unknown</td>\n",
       "      <td>wy</td>\n",
       "      <td>2021-04-04T03:21:07-0600</td>\n",
       "      <td>bmw 4</td>\n",
       "      <td>2</td>\n",
       "    </tr>\n",
       "  </tbody>\n",
       "</table>\n",
       "<p>309189 rows × 14 columns</p>\n",
       "</div>"
      ],
      "text/plain": [
       "        price manufacturer  condition    cylinders    fuel  odometer  \\\n",
       "27      33590          gmc       good  8 cylinders     gas   57923.0   \n",
       "28      22590    chevrolet       good  8 cylinders     gas   71229.0   \n",
       "29      39590    chevrolet       good  8 cylinders     gas   19160.0   \n",
       "30      30990       toyota       good  8 cylinders     gas   41124.0   \n",
       "31      15000         ford  excellent  6 cylinders     gas  128000.0   \n",
       "...       ...          ...        ...          ...     ...       ...   \n",
       "426875  23590       nissan       good  6 cylinders     gas   32226.0   \n",
       "426876  30590        volvo       good  5 cylinders     gas   12029.0   \n",
       "426877  34990     cadillac       good  4 cylinders  diesel    4174.0   \n",
       "426878  28990        lexus       good  6 cylinders     gas   30112.0   \n",
       "426879  30590          bmw       good  4 cylinders     gas   22716.0   \n",
       "\n",
       "       title_status transmission drive paint_color state  \\\n",
       "27            clean        other   4wd       white    al   \n",
       "28            clean        other   4wd        blue    al   \n",
       "29            clean        other   4wd         red    al   \n",
       "30            clean        other   4wd         red    al   \n",
       "31            clean    automatic   rwd       black    al   \n",
       "...             ...          ...   ...         ...   ...   \n",
       "426875        clean        other   fwd     unknown    wy   \n",
       "426876        clean        other   fwd         red    wy   \n",
       "426877        clean        other   fwd       white    wy   \n",
       "426878        clean        other   fwd      silver    wy   \n",
       "426879        clean        other   rwd     unknown    wy   \n",
       "\n",
       "                    posting_date            car_model age_group  \n",
       "27      2021-05-04T12:31:18-0500           gmc sierra         7  \n",
       "28      2021-05-04T12:31:08-0500  chevrolet silverado        11  \n",
       "29      2021-05-04T12:31:25-0500  chevrolet silverado         1  \n",
       "30      2021-05-04T10:41:31-0500        toyota tundra         4  \n",
       "31      2021-05-03T14:02:03-0500            ford f150         8  \n",
       "...                          ...                  ...       ...  \n",
       "426875  2021-04-04T03:21:31-0600        nissan maxima         2  \n",
       "426876  2021-04-04T03:21:29-0600            volvo s60         1  \n",
       "426877  2021-04-04T03:21:17-0600         cadillac xt4         1  \n",
       "426878  2021-04-04T03:21:11-0600             lexus es         3  \n",
       "426879  2021-04-04T03:21:07-0600                bmw 4         2  \n",
       "\n",
       "[309189 rows x 14 columns]"
      ]
     },
     "execution_count": 225,
     "metadata": {},
     "output_type": "execute_result"
    }
   ],
   "source": [
    "arr = np.array(dfAgeCat['age'].tolist())\n",
    "for t in thresholds:\n",
    "    prevArr = arr\n",
    "    arr = np.where(prevArr >= t, -t, prevArr)\n",
    "    \n",
    "prevArr = arr\n",
    "dfAgeCat['age_group'] = np.where(prevArr >= 0, 'new', prevArr).tolist()\n",
    "\n",
    "for i in range(len(thresholds)):\n",
    "     toReplace = str(float(-thresholds[i]))\n",
    "     dfAgeCat['age_group'].replace(toReplace, groups[i], inplace =  True)\n",
    "\n",
    "dfAgeCat.drop('age', axis=1, inplace=True)    \n",
    "print(dfAgeCat['age_group'].unique())\n",
    "dfAgeCat"
   ]
  },
  {
   "cell_type": "code",
   "execution_count": 226,
   "metadata": {},
   "outputs": [
    {
     "ename": "MemoryError",
     "evalue": "Unable to allocate 47.9 GiB for an array with shape (226787, 226787) and data type uint8",
     "output_type": "error",
     "traceback": [
      "\u001b[1;31m---------------------------------------------------------------------------\u001b[0m",
      "\u001b[1;31mMemoryError\u001b[0m                               Traceback (most recent call last)",
      "\u001b[1;32mc:\\Users\\oache\\Desktop\\KI_ML\\Code\\Manuel_komplettloesung.ipynb Cell 74'\u001b[0m in \u001b[0;36m<cell line: 1>\u001b[1;34m()\u001b[0m\n\u001b[1;32m----> <a href='vscode-notebook-cell:/c%3A/Users/oache/Desktop/KI_ML/Code/Manuel_komplettloesung.ipynb#ch0000053?line=0'>1</a>\u001b[0m age_cat_metrics \u001b[39m=\u001b[39m updateModel(dfAgeCat)\n\u001b[0;32m      <a href='vscode-notebook-cell:/c%3A/Users/oache/Desktop/KI_ML/Code/Manuel_komplettloesung.ipynb#ch0000053?line=1'>2</a>\u001b[0m print_metrics(age_cat_metrics)\n",
      "\u001b[1;32mc:\\Users\\oache\\Desktop\\KI_ML\\Code\\Manuel_komplettloesung.ipynb Cell 55'\u001b[0m in \u001b[0;36mupdateModel\u001b[1;34m(datafr, test_percentage, seed)\u001b[0m\n\u001b[0;32m      <a href='vscode-notebook-cell:/c%3A/Users/oache/Desktop/KI_ML/Code/Manuel_komplettloesung.ipynb#ch0000034?line=7'>8</a>\u001b[0m y \u001b[39m=\u001b[39m datafr[\u001b[39m'\u001b[39m\u001b[39mprice\u001b[39m\u001b[39m'\u001b[39m]\n\u001b[0;32m      <a href='vscode-notebook-cell:/c%3A/Users/oache/Desktop/KI_ML/Code/Manuel_komplettloesung.ipynb#ch0000034?line=8'>9</a>\u001b[0m X_train, X_test, y_train, y_test \u001b[39m=\u001b[39m train_test_split(X, y, test_size \u001b[39m=\u001b[39m test_percentage, random_state \u001b[39m=\u001b[39m seed)\n\u001b[1;32m---> <a href='vscode-notebook-cell:/c%3A/Users/oache/Desktop/KI_ML/Code/Manuel_komplettloesung.ipynb#ch0000034?line=9'>10</a>\u001b[0m X_train \u001b[39m=\u001b[39m pd\u001b[39m.\u001b[39;49mget_dummies(X_train, drop_first \u001b[39m=\u001b[39;49m \u001b[39mTrue\u001b[39;49;00m)\n\u001b[0;32m     <a href='vscode-notebook-cell:/c%3A/Users/oache/Desktop/KI_ML/Code/Manuel_komplettloesung.ipynb#ch0000034?line=10'>11</a>\u001b[0m X_test \u001b[39m=\u001b[39m pd\u001b[39m.\u001b[39mget_dummies(X_test, drop_first \u001b[39m=\u001b[39m \u001b[39mTrue\u001b[39;00m)\n\u001b[0;32m     <a href='vscode-notebook-cell:/c%3A/Users/oache/Desktop/KI_ML/Code/Manuel_komplettloesung.ipynb#ch0000034?line=12'>13</a>\u001b[0m \u001b[39m#feature scaling\u001b[39;00m\n",
      "File \u001b[1;32mf:\\Python\\Python310\\lib\\site-packages\\pandas\\core\\reshape\\reshape.py:977\u001b[0m, in \u001b[0;36mget_dummies\u001b[1;34m(data, prefix, prefix_sep, dummy_na, columns, sparse, drop_first, dtype)\u001b[0m\n\u001b[0;32m    973\u001b[0m     with_dummies \u001b[39m=\u001b[39m [data\u001b[39m.\u001b[39mselect_dtypes(exclude\u001b[39m=\u001b[39mdtypes_to_encode)]\n\u001b[0;32m    975\u001b[0m \u001b[39mfor\u001b[39;00m (col, pre, sep) \u001b[39min\u001b[39;00m \u001b[39mzip\u001b[39m(data_to_encode\u001b[39m.\u001b[39mitems(), prefix, prefix_sep):\n\u001b[0;32m    976\u001b[0m     \u001b[39m# col is (column_name, column), use just column data here\u001b[39;00m\n\u001b[1;32m--> 977\u001b[0m     dummy \u001b[39m=\u001b[39m _get_dummies_1d(\n\u001b[0;32m    978\u001b[0m         col[\u001b[39m1\u001b[39;49m],\n\u001b[0;32m    979\u001b[0m         prefix\u001b[39m=\u001b[39;49mpre,\n\u001b[0;32m    980\u001b[0m         prefix_sep\u001b[39m=\u001b[39;49msep,\n\u001b[0;32m    981\u001b[0m         dummy_na\u001b[39m=\u001b[39;49mdummy_na,\n\u001b[0;32m    982\u001b[0m         sparse\u001b[39m=\u001b[39;49msparse,\n\u001b[0;32m    983\u001b[0m         drop_first\u001b[39m=\u001b[39;49mdrop_first,\n\u001b[0;32m    984\u001b[0m         dtype\u001b[39m=\u001b[39;49mdtype,\n\u001b[0;32m    985\u001b[0m     )\n\u001b[0;32m    986\u001b[0m     with_dummies\u001b[39m.\u001b[39mappend(dummy)\n\u001b[0;32m    987\u001b[0m result \u001b[39m=\u001b[39m concat(with_dummies, axis\u001b[39m=\u001b[39m\u001b[39m1\u001b[39m)\n",
      "File \u001b[1;32mf:\\Python\\Python310\\lib\\site-packages\\pandas\\core\\reshape\\reshape.py:1096\u001b[0m, in \u001b[0;36m_get_dummies_1d\u001b[1;34m(data, prefix, prefix_sep, dummy_na, sparse, drop_first, dtype)\u001b[0m\n\u001b[0;32m   1092\u001b[0m     \u001b[39mreturn\u001b[39;00m concat(sparse_series, axis\u001b[39m=\u001b[39m\u001b[39m1\u001b[39m, copy\u001b[39m=\u001b[39m\u001b[39mFalse\u001b[39;00m)\n\u001b[0;32m   1094\u001b[0m \u001b[39melse\u001b[39;00m:\n\u001b[0;32m   1095\u001b[0m     \u001b[39m# take on axis=1 + transpose to ensure ndarray layout is column-major\u001b[39;00m\n\u001b[1;32m-> 1096\u001b[0m     dummy_mat \u001b[39m=\u001b[39m np\u001b[39m.\u001b[39;49meye(number_of_cols, dtype\u001b[39m=\u001b[39;49mdtype)\u001b[39m.\u001b[39mtake(codes, axis\u001b[39m=\u001b[39m\u001b[39m1\u001b[39m)\u001b[39m.\u001b[39mT\n\u001b[0;32m   1098\u001b[0m     \u001b[39mif\u001b[39;00m \u001b[39mnot\u001b[39;00m dummy_na:\n\u001b[0;32m   1099\u001b[0m         \u001b[39m# reset NaN GH4446\u001b[39;00m\n\u001b[0;32m   1100\u001b[0m         dummy_mat[codes \u001b[39m==\u001b[39m \u001b[39m-\u001b[39m\u001b[39m1\u001b[39m] \u001b[39m=\u001b[39m \u001b[39m0\u001b[39m\n",
      "File \u001b[1;32mf:\\Python\\Python310\\lib\\site-packages\\numpy\\lib\\twodim_base.py:214\u001b[0m, in \u001b[0;36meye\u001b[1;34m(N, M, k, dtype, order, like)\u001b[0m\n\u001b[0;32m    212\u001b[0m \u001b[39mif\u001b[39;00m M \u001b[39mis\u001b[39;00m \u001b[39mNone\u001b[39;00m:\n\u001b[0;32m    213\u001b[0m     M \u001b[39m=\u001b[39m N\n\u001b[1;32m--> 214\u001b[0m m \u001b[39m=\u001b[39m zeros((N, M), dtype\u001b[39m=\u001b[39;49mdtype, order\u001b[39m=\u001b[39;49morder)\n\u001b[0;32m    215\u001b[0m \u001b[39mif\u001b[39;00m k \u001b[39m>\u001b[39m\u001b[39m=\u001b[39m M:\n\u001b[0;32m    216\u001b[0m     \u001b[39mreturn\u001b[39;00m m\n",
      "\u001b[1;31mMemoryError\u001b[0m: Unable to allocate 47.9 GiB for an array with shape (226787, 226787) and data type uint8"
     ]
    }
   ],
   "source": [
    "age_cat_metrics = updateModel(dfAgeCat)\n",
    "print_metrics(age_cat_metrics)"
   ]
  },
  {
   "cell_type": "code",
   "execution_count": 227,
   "metadata": {},
   "outputs": [
    {
     "name": "stdout",
     "output_type": "stream",
     "text": [
      "manufacturer\n"
     ]
    },
    {
     "data": {
      "image/png": "[encoded data removed]",
      "text/plain": [
       "<Figure size 720x360 with 1 Axes>"
      ]
     },
     "metadata": {
      "needs_background": "light"
     },
     "output_type": "display_data"
    },
    {
     "name": "stdout",
     "output_type": "stream",
     "text": [
      "condition\n"
     ]
    },
    {
     "data": {
      "image/png": "[encoded data removed]",
      "text/plain": [
       "<Figure size 720x360 with 1 Axes>"
      ]
     },
     "metadata": {
      "needs_background": "light"
     },
     "output_type": "display_data"
    },
    {
     "name": "stdout",
     "output_type": "stream",
     "text": [
      "cylinders\n"
     ]
    },
    {
     "data": {
      "image/png": "[encoded data removed]",
      "text/plain": [
       "<Figure size 720x360 with 1 Axes>"
      ]
     },
     "metadata": {
      "needs_background": "light"
     },
     "output_type": "display_data"
    },
    {
     "name": "stdout",
     "output_type": "stream",
     "text": [
      "fuel\n"
     ]
    },
    {
     "data": {
      "image/png": "[encoded data removed]",
      "text/plain": [
       "<Figure size 720x360 with 1 Axes>"
      ]
     },
     "metadata": {
      "needs_background": "light"
     },
     "output_type": "display_data"
    },
    {
     "name": "stdout",
     "output_type": "stream",
     "text": [
      "title_status\n"
     ]
    },
    {
     "data": {
      "image/png": "[encoded data removed]",
      "text/plain": [
       "<Figure size 720x360 with 1 Axes>"
      ]
     },
     "metadata": {
      "needs_background": "light"
     },
     "output_type": "display_data"
    },
    {
     "name": "stdout",
     "output_type": "stream",
     "text": [
      "transmission\n"
     ]
    },
    {
     "data": {
      "image/png": "[encoded data removed]",
      "text/plain": [
       "<Figure size 720x360 with 1 Axes>"
      ]
     },
     "metadata": {
      "needs_background": "light"
     },
     "output_type": "display_data"
    },
    {
     "name": "stdout",
     "output_type": "stream",
     "text": [
      "drive\n"
     ]
    },
    {
     "data": {
      "image/png": "[encoded data removed]",
      "text/plain": [
       "<Figure size 720x360 with 1 Axes>"
      ]
     },
     "metadata": {
      "needs_background": "light"
     },
     "output_type": "display_data"
    },
    {
     "name": "stdout",
     "output_type": "stream",
     "text": [
      "paint_color\n"
     ]
    },
    {
     "data": {
      "image/png": "[encoded data removed]",
      "text/plain": [
       "<Figure size 720x360 with 1 Axes>"
      ]
     },
     "metadata": {
      "needs_background": "light"
     },
     "output_type": "display_data"
    },
    {
     "name": "stdout",
     "output_type": "stream",
     "text": [
      "state\n"
     ]
    },
    {
     "data": {
      "image/png": "[encoded data removed]",
      "text/plain": [
       "<Figure size 720x360 with 1 Axes>"
      ]
     },
     "metadata": {
      "needs_background": "light"
     },
     "output_type": "display_data"
    },
    {
     "name": "stdout",
     "output_type": "stream",
     "text": [
      "posting_date\n"
     ]
    }
   ],
   "source": [
    "dfPlots = dfAge.copy()\n",
    "for feat in dfAgeCat.drop(['price','odometer','car_model','age_group'], axis = 1).columns:\n",
    "    print(feat)\n",
    "    x = (dfPlots.groupby(feat, as_index = False).mean()).sort_values(by = ['price'])[feat]\n",
    "    y = (dfPlots.groupby(feat, as_index = False).mean()).sort_values(by = ['price'])['price']\n",
    "    fig = plt.figure(figsize=[10,5])\n",
    "    plt.xlabel(feat)\n",
    "    plt.ylabel('Mean price')\n",
    "    plt.xticks(rotation = 90)\n",
    "    plt.bar(x, y, width=1)\n",
    "    plt.show()"
   ]
  },
  {
   "cell_type": "code",
   "execution_count": null,
   "metadata": {},
   "outputs": [
    {
     "data": {
      "text/plain": [
       "array([3, 4, 2, 6, 5, 1], dtype=int64)"
      ]
     },
     "execution_count": 92,
     "metadata": {},
     "output_type": "execute_result"
    }
   ],
   "source": [
    "dfCondition = df.copy()\n",
    "\n",
    "dfCondition['condition'].replace('new', 6, inplace =  True)\n",
    "dfCondition['condition'].replace('like new', 5, inplace =  True)\n",
    "dfCondition['condition'].replace('excellent', 4, inplace =  True)\n",
    "dfCondition['condition'].replace('good', 3, inplace =  True)\n",
    "dfCondition['condition'].replace('fair', 2, inplace =  True)\n",
    "dfCondition['condition'].replace('salvage', 1, inplace =  True)\n",
    "dfCondition['condition'].replace('not specified', 3, inplace =  True)\n",
    "\n",
    "dfCondition['condition'].unique()"
   ]
  },
  {
   "cell_type": "code",
   "execution_count": null,
   "metadata": {},
   "outputs": [
    {
     "name": "stderr",
     "output_type": "stream",
     "text": [
      "f:\\Python\\Python310\\lib\\site-packages\\sklearn\\utils\\extmath.py:980: RuntimeWarning: invalid value encountered in true_divide\n",
      "  updated_mean = (last_sum + new_sum) / updated_sample_count\n",
      "f:\\Python\\Python310\\lib\\site-packages\\sklearn\\utils\\extmath.py:985: RuntimeWarning: invalid value encountered in true_divide\n",
      "  T = new_sum / new_sample_count\n",
      "f:\\Python\\Python310\\lib\\site-packages\\sklearn\\utils\\extmath.py:1005: RuntimeWarning: invalid value encountered in true_divide\n",
      "  new_unnormalized_variance -= correction**2 / new_sample_count\n"
     ]
    },
    {
     "ename": "ValueError",
     "evalue": "Input X contains NaN.\nLinearRegression does not accept missing values encoded as NaN natively. For supervised learning, you might want to consider sklearn.ensemble.HistGradientBoostingClassifier and Regressor which accept missing values encoded as NaNs natively. Alternatively, it is possible to preprocess the data, for instance by using an imputer transformer in a pipeline or drop samples with missing values. See https://scikit-learn.org/stable/modules/impute.html",
     "output_type": "error",
     "traceback": [
      "\u001b[1;31m---------------------------------------------------------------------------\u001b[0m",
      "\u001b[1;31mValueError\u001b[0m                                Traceback (most recent call last)",
      "\u001b[1;32mc:\\Users\\oache\\Desktop\\KI_ML\\Code\\Manuel_komplettloesung.ipynb Cell 55'\u001b[0m in \u001b[0;36m<cell line: 1>\u001b[1;34m()\u001b[0m\n\u001b[1;32m----> <a href='vscode-notebook-cell:/c%3A/Users/oache/Desktop/KI_ML/Code/Manuel_komplettloesung.ipynb#ch0000054?line=0'>1</a>\u001b[0m condition_metrics \u001b[39m=\u001b[39m updateModel(dfCondition)\n\u001b[0;32m      <a href='vscode-notebook-cell:/c%3A/Users/oache/Desktop/KI_ML/Code/Manuel_komplettloesung.ipynb#ch0000054?line=1'>2</a>\u001b[0m print_metrics(condition_metrics)\n",
      "\u001b[1;32mc:\\Users\\oache\\Desktop\\KI_ML\\Code\\Manuel_komplettloesung.ipynb Cell 35'\u001b[0m in \u001b[0;36mupdateModel\u001b[1;34m(datafr, test_percentage, seed)\u001b[0m\n\u001b[0;32m     <a href='vscode-notebook-cell:/c%3A/Users/oache/Desktop/KI_ML/Code/Manuel_komplettloesung.ipynb#ch0000034?line=15'>16</a>\u001b[0m X_test \u001b[39m=\u001b[39m sc\u001b[39m.\u001b[39mtransform(X_test)\n\u001b[0;32m     <a href='vscode-notebook-cell:/c%3A/Users/oache/Desktop/KI_ML/Code/Manuel_komplettloesung.ipynb#ch0000034?line=17'>18</a>\u001b[0m \u001b[39m#making model + predicting\u001b[39;00m\n\u001b[1;32m---> <a href='vscode-notebook-cell:/c%3A/Users/oache/Desktop/KI_ML/Code/Manuel_komplettloesung.ipynb#ch0000034?line=18'>19</a>\u001b[0m reg\u001b[39m.\u001b[39;49mfit(X_train, y_train)\n\u001b[0;32m     <a href='vscode-notebook-cell:/c%3A/Users/oache/Desktop/KI_ML/Code/Manuel_komplettloesung.ipynb#ch0000034?line=19'>20</a>\u001b[0m y_pred_test \u001b[39m=\u001b[39m reg\u001b[39m.\u001b[39mpredict(X_test)\n\u001b[0;32m     <a href='vscode-notebook-cell:/c%3A/Users/oache/Desktop/KI_ML/Code/Manuel_komplettloesung.ipynb#ch0000034?line=20'>21</a>\u001b[0m y_pred_train \u001b[39m=\u001b[39m reg\u001b[39m.\u001b[39mpredict(X_train)\n",
      "File \u001b[1;32mf:\\Python\\Python310\\lib\\site-packages\\sklearn\\linear_model\\_base.py:684\u001b[0m, in \u001b[0;36mLinearRegression.fit\u001b[1;34m(self, X, y, sample_weight)\u001b[0m\n\u001b[0;32m    680\u001b[0m n_jobs_ \u001b[39m=\u001b[39m \u001b[39mself\u001b[39m\u001b[39m.\u001b[39mn_jobs\n\u001b[0;32m    682\u001b[0m accept_sparse \u001b[39m=\u001b[39m \u001b[39mFalse\u001b[39;00m \u001b[39mif\u001b[39;00m \u001b[39mself\u001b[39m\u001b[39m.\u001b[39mpositive \u001b[39melse\u001b[39;00m [\u001b[39m\"\u001b[39m\u001b[39mcsr\u001b[39m\u001b[39m\"\u001b[39m, \u001b[39m\"\u001b[39m\u001b[39mcsc\u001b[39m\u001b[39m\"\u001b[39m, \u001b[39m\"\u001b[39m\u001b[39mcoo\u001b[39m\u001b[39m\"\u001b[39m]\n\u001b[1;32m--> 684\u001b[0m X, y \u001b[39m=\u001b[39m \u001b[39mself\u001b[39;49m\u001b[39m.\u001b[39;49m_validate_data(\n\u001b[0;32m    685\u001b[0m     X, y, accept_sparse\u001b[39m=\u001b[39;49maccept_sparse, y_numeric\u001b[39m=\u001b[39;49m\u001b[39mTrue\u001b[39;49;00m, multi_output\u001b[39m=\u001b[39;49m\u001b[39mTrue\u001b[39;49;00m\n\u001b[0;32m    686\u001b[0m )\n\u001b[0;32m    688\u001b[0m sample_weight \u001b[39m=\u001b[39m _check_sample_weight(\n\u001b[0;32m    689\u001b[0m     sample_weight, X, dtype\u001b[39m=\u001b[39mX\u001b[39m.\u001b[39mdtype, only_non_negative\u001b[39m=\u001b[39m\u001b[39mTrue\u001b[39;00m\n\u001b[0;32m    690\u001b[0m )\n\u001b[0;32m    692\u001b[0m X, y, X_offset, y_offset, X_scale \u001b[39m=\u001b[39m _preprocess_data(\n\u001b[0;32m    693\u001b[0m     X,\n\u001b[0;32m    694\u001b[0m     y,\n\u001b[1;32m   (...)\u001b[0m\n\u001b[0;32m    698\u001b[0m     sample_weight\u001b[39m=\u001b[39msample_weight,\n\u001b[0;32m    699\u001b[0m )\n",
      "File \u001b[1;32mf:\\Python\\Python310\\lib\\site-packages\\sklearn\\base.py:596\u001b[0m, in \u001b[0;36mBaseEstimator._validate_data\u001b[1;34m(self, X, y, reset, validate_separately, **check_params)\u001b[0m\n\u001b[0;32m    594\u001b[0m         y \u001b[39m=\u001b[39m check_array(y, input_name\u001b[39m=\u001b[39m\u001b[39m\"\u001b[39m\u001b[39my\u001b[39m\u001b[39m\"\u001b[39m, \u001b[39m*\u001b[39m\u001b[39m*\u001b[39mcheck_y_params)\n\u001b[0;32m    595\u001b[0m     \u001b[39melse\u001b[39;00m:\n\u001b[1;32m--> 596\u001b[0m         X, y \u001b[39m=\u001b[39m check_X_y(X, y, \u001b[39m*\u001b[39m\u001b[39m*\u001b[39mcheck_params)\n\u001b[0;32m    597\u001b[0m     out \u001b[39m=\u001b[39m X, y\n\u001b[0;32m    599\u001b[0m \u001b[39mif\u001b[39;00m \u001b[39mnot\u001b[39;00m no_val_X \u001b[39mand\u001b[39;00m check_params\u001b[39m.\u001b[39mget(\u001b[39m\"\u001b[39m\u001b[39mensure_2d\u001b[39m\u001b[39m\"\u001b[39m, \u001b[39mTrue\u001b[39;00m):\n",
      "File \u001b[1;32mf:\\Python\\Python310\\lib\\site-packages\\sklearn\\utils\\validation.py:1070\u001b[0m, in \u001b[0;36mcheck_X_y\u001b[1;34m(X, y, accept_sparse, accept_large_sparse, dtype, order, copy, force_all_finite, ensure_2d, allow_nd, multi_output, ensure_min_samples, ensure_min_features, y_numeric, estimator)\u001b[0m\n\u001b[0;32m   1065\u001b[0m         estimator_name \u001b[39m=\u001b[39m _check_estimator_name(estimator)\n\u001b[0;32m   1066\u001b[0m     \u001b[39mraise\u001b[39;00m \u001b[39mValueError\u001b[39;00m(\n\u001b[0;32m   1067\u001b[0m         \u001b[39mf\u001b[39m\u001b[39m\"\u001b[39m\u001b[39m{\u001b[39;00mestimator_name\u001b[39m}\u001b[39;00m\u001b[39m requires y to be passed, but the target y is None\u001b[39m\u001b[39m\"\u001b[39m\n\u001b[0;32m   1068\u001b[0m     )\n\u001b[1;32m-> 1070\u001b[0m X \u001b[39m=\u001b[39m check_array(\n\u001b[0;32m   1071\u001b[0m     X,\n\u001b[0;32m   1072\u001b[0m     accept_sparse\u001b[39m=\u001b[39;49maccept_sparse,\n\u001b[0;32m   1073\u001b[0m     accept_large_sparse\u001b[39m=\u001b[39;49maccept_large_sparse,\n\u001b[0;32m   1074\u001b[0m     dtype\u001b[39m=\u001b[39;49mdtype,\n\u001b[0;32m   1075\u001b[0m     order\u001b[39m=\u001b[39;49morder,\n\u001b[0;32m   1076\u001b[0m     copy\u001b[39m=\u001b[39;49mcopy,\n\u001b[0;32m   1077\u001b[0m     force_all_finite\u001b[39m=\u001b[39;49mforce_all_finite,\n\u001b[0;32m   1078\u001b[0m     ensure_2d\u001b[39m=\u001b[39;49mensure_2d,\n\u001b[0;32m   1079\u001b[0m     allow_nd\u001b[39m=\u001b[39;49mallow_nd,\n\u001b[0;32m   1080\u001b[0m     ensure_min_samples\u001b[39m=\u001b[39;49mensure_min_samples,\n\u001b[0;32m   1081\u001b[0m     ensure_min_features\u001b[39m=\u001b[39;49mensure_min_features,\n\u001b[0;32m   1082\u001b[0m     estimator\u001b[39m=\u001b[39;49mestimator,\n\u001b[0;32m   1083\u001b[0m     input_name\u001b[39m=\u001b[39;49m\u001b[39m\"\u001b[39;49m\u001b[39mX\u001b[39;49m\u001b[39m\"\u001b[39;49m,\n\u001b[0;32m   1084\u001b[0m )\n\u001b[0;32m   1086\u001b[0m y \u001b[39m=\u001b[39m _check_y(y, multi_output\u001b[39m=\u001b[39mmulti_output, y_numeric\u001b[39m=\u001b[39my_numeric, estimator\u001b[39m=\u001b[39mestimator)\n\u001b[0;32m   1088\u001b[0m check_consistent_length(X, y)\n",
      "File \u001b[1;32mf:\\Python\\Python310\\lib\\site-packages\\sklearn\\utils\\validation.py:895\u001b[0m, in \u001b[0;36mcheck_array\u001b[1;34m(array, accept_sparse, accept_large_sparse, dtype, order, copy, force_all_finite, ensure_2d, allow_nd, ensure_min_samples, ensure_min_features, estimator, input_name)\u001b[0m\n\u001b[0;32m    889\u001b[0m         \u001b[39mraise\u001b[39;00m \u001b[39mValueError\u001b[39;00m(\n\u001b[0;32m    890\u001b[0m             \u001b[39m\"\u001b[39m\u001b[39mFound array with dim \u001b[39m\u001b[39m%d\u001b[39;00m\u001b[39m. \u001b[39m\u001b[39m%s\u001b[39;00m\u001b[39m expected <= 2.\u001b[39m\u001b[39m\"\u001b[39m\n\u001b[0;32m    891\u001b[0m             \u001b[39m%\u001b[39m (array\u001b[39m.\u001b[39mndim, estimator_name)\n\u001b[0;32m    892\u001b[0m         )\n\u001b[0;32m    894\u001b[0m     \u001b[39mif\u001b[39;00m force_all_finite:\n\u001b[1;32m--> 895\u001b[0m         _assert_all_finite(\n\u001b[0;32m    896\u001b[0m             array,\n\u001b[0;32m    897\u001b[0m             input_name\u001b[39m=\u001b[39;49minput_name,\n\u001b[0;32m    898\u001b[0m             estimator_name\u001b[39m=\u001b[39;49mestimator_name,\n\u001b[0;32m    899\u001b[0m             allow_nan\u001b[39m=\u001b[39;49mforce_all_finite \u001b[39m==\u001b[39;49m \u001b[39m\"\u001b[39;49m\u001b[39mallow-nan\u001b[39;49m\u001b[39m\"\u001b[39;49m,\n\u001b[0;32m    900\u001b[0m         )\n\u001b[0;32m    902\u001b[0m \u001b[39mif\u001b[39;00m ensure_min_samples \u001b[39m>\u001b[39m \u001b[39m0\u001b[39m:\n\u001b[0;32m    903\u001b[0m     n_samples \u001b[39m=\u001b[39m _num_samples(array)\n",
      "File \u001b[1;32mf:\\Python\\Python310\\lib\\site-packages\\sklearn\\utils\\validation.py:142\u001b[0m, in \u001b[0;36m_assert_all_finite\u001b[1;34m(X, allow_nan, msg_dtype, estimator_name, input_name)\u001b[0m\n\u001b[0;32m    124\u001b[0m         \u001b[39mif\u001b[39;00m (\n\u001b[0;32m    125\u001b[0m             \u001b[39mnot\u001b[39;00m allow_nan\n\u001b[0;32m    126\u001b[0m             \u001b[39mand\u001b[39;00m estimator_name\n\u001b[1;32m   (...)\u001b[0m\n\u001b[0;32m    130\u001b[0m             \u001b[39m# Improve the error message on how to handle missing values in\u001b[39;00m\n\u001b[0;32m    131\u001b[0m             \u001b[39m# scikit-learn.\u001b[39;00m\n\u001b[0;32m    132\u001b[0m             msg_err \u001b[39m+\u001b[39m\u001b[39m=\u001b[39m (\n\u001b[0;32m    133\u001b[0m                 \u001b[39mf\u001b[39m\u001b[39m\"\u001b[39m\u001b[39m\\n\u001b[39;00m\u001b[39m{\u001b[39;00mestimator_name\u001b[39m}\u001b[39;00m\u001b[39m does not accept missing values\u001b[39m\u001b[39m\"\u001b[39m\n\u001b[0;32m    134\u001b[0m                 \u001b[39m\"\u001b[39m\u001b[39m encoded as NaN natively. For supervised learning, you might want\u001b[39m\u001b[39m\"\u001b[39m\n\u001b[1;32m   (...)\u001b[0m\n\u001b[0;32m    140\u001b[0m                 \u001b[39m\"\u001b[39m\u001b[39m https://scikit-learn.org/stable/modules/impute.html\u001b[39m\u001b[39m\"\u001b[39m\n\u001b[0;32m    141\u001b[0m             )\n\u001b[1;32m--> 142\u001b[0m         \u001b[39mraise\u001b[39;00m \u001b[39mValueError\u001b[39;00m(msg_err)\n\u001b[0;32m    144\u001b[0m \u001b[39m# for object dtype data, we only check for NaNs (GH-13254)\u001b[39;00m\n\u001b[0;32m    145\u001b[0m \u001b[39melif\u001b[39;00m X\u001b[39m.\u001b[39mdtype \u001b[39m==\u001b[39m np\u001b[39m.\u001b[39mdtype(\u001b[39m\"\u001b[39m\u001b[39mobject\u001b[39m\u001b[39m\"\u001b[39m) \u001b[39mand\u001b[39;00m \u001b[39mnot\u001b[39;00m allow_nan:\n",
      "\u001b[1;31mValueError\u001b[0m: Input X contains NaN.\nLinearRegression does not accept missing values encoded as NaN natively. For supervised learning, you might want to consider sklearn.ensemble.HistGradientBoostingClassifier and Regressor which accept missing values encoded as NaNs natively. Alternatively, it is possible to preprocess the data, for instance by using an imputer transformer in a pipeline or drop samples with missing values. See https://scikit-learn.org/stable/modules/impute.html"
     ]
    }
   ],
   "source": [
    "condition_metrics = updateModel(dfCondition)\n",
    "print_metrics(condition_metrics)"
   ]
  },
  {
   "cell_type": "code",
   "execution_count": null,
   "metadata": {},
   "outputs": [
    {
     "data": {
      "text/plain": [
       "array(['white', 'other_colors', 'red', 'black', 'orange'], dtype=object)"
      ]
     },
     "execution_count": 94,
     "metadata": {},
     "output_type": "execute_result"
    }
   ],
   "source": [
    "dfColors = df.copy()\n",
    "dfColors['paint_color'].replace(['unknown', 'blue', 'silver', 'grey', 'green', 'custom', 'yellow', 'brown', 'purple'], 'other_colors', inplace =  True)\n",
    "dfColors['paint_color'].unique()"
   ]
  },
  {
   "cell_type": "code",
   "execution_count": null,
   "metadata": {},
   "outputs": [
    {
     "name": "stderr",
     "output_type": "stream",
     "text": [
      "f:\\Python\\Python310\\lib\\site-packages\\sklearn\\utils\\extmath.py:980: RuntimeWarning: invalid value encountered in true_divide\n",
      "  updated_mean = (last_sum + new_sum) / updated_sample_count\n",
      "f:\\Python\\Python310\\lib\\site-packages\\sklearn\\utils\\extmath.py:985: RuntimeWarning: invalid value encountered in true_divide\n",
      "  T = new_sum / new_sample_count\n",
      "f:\\Python\\Python310\\lib\\site-packages\\sklearn\\utils\\extmath.py:1005: RuntimeWarning: invalid value encountered in true_divide\n",
      "  new_unnormalized_variance -= correction**2 / new_sample_count\n"
     ]
    },
    {
     "ename": "ValueError",
     "evalue": "Input X contains NaN.\nLinearRegression does not accept missing values encoded as NaN natively. For supervised learning, you might want to consider sklearn.ensemble.HistGradientBoostingClassifier and Regressor which accept missing values encoded as NaNs natively. Alternatively, it is possible to preprocess the data, for instance by using an imputer transformer in a pipeline or drop samples with missing values. See https://scikit-learn.org/stable/modules/impute.html",
     "output_type": "error",
     "traceback": [
      "\u001b[1;31m---------------------------------------------------------------------------\u001b[0m",
      "\u001b[1;31mValueError\u001b[0m                                Traceback (most recent call last)",
      "\u001b[1;32mc:\\Users\\oache\\Desktop\\KI_ML\\Code\\Manuel_komplettloesung.ipynb Cell 57'\u001b[0m in \u001b[0;36m<cell line: 1>\u001b[1;34m()\u001b[0m\n\u001b[1;32m----> <a href='vscode-notebook-cell:/c%3A/Users/oache/Desktop/KI_ML/Code/Manuel_komplettloesung.ipynb#ch0000056?line=0'>1</a>\u001b[0m color_metrics \u001b[39m=\u001b[39m updateModel(dfColors)\n\u001b[0;32m      <a href='vscode-notebook-cell:/c%3A/Users/oache/Desktop/KI_ML/Code/Manuel_komplettloesung.ipynb#ch0000056?line=1'>2</a>\u001b[0m print_metrics(color_metrics)\n",
      "\u001b[1;32mc:\\Users\\oache\\Desktop\\KI_ML\\Code\\Manuel_komplettloesung.ipynb Cell 35'\u001b[0m in \u001b[0;36mupdateModel\u001b[1;34m(datafr, test_percentage, seed)\u001b[0m\n\u001b[0;32m     <a href='vscode-notebook-cell:/c%3A/Users/oache/Desktop/KI_ML/Code/Manuel_komplettloesung.ipynb#ch0000034?line=15'>16</a>\u001b[0m X_test \u001b[39m=\u001b[39m sc\u001b[39m.\u001b[39mtransform(X_test)\n\u001b[0;32m     <a href='vscode-notebook-cell:/c%3A/Users/oache/Desktop/KI_ML/Code/Manuel_komplettloesung.ipynb#ch0000034?line=17'>18</a>\u001b[0m \u001b[39m#making model + predicting\u001b[39;00m\n\u001b[1;32m---> <a href='vscode-notebook-cell:/c%3A/Users/oache/Desktop/KI_ML/Code/Manuel_komplettloesung.ipynb#ch0000034?line=18'>19</a>\u001b[0m reg\u001b[39m.\u001b[39;49mfit(X_train, y_train)\n\u001b[0;32m     <a href='vscode-notebook-cell:/c%3A/Users/oache/Desktop/KI_ML/Code/Manuel_komplettloesung.ipynb#ch0000034?line=19'>20</a>\u001b[0m y_pred_test \u001b[39m=\u001b[39m reg\u001b[39m.\u001b[39mpredict(X_test)\n\u001b[0;32m     <a href='vscode-notebook-cell:/c%3A/Users/oache/Desktop/KI_ML/Code/Manuel_komplettloesung.ipynb#ch0000034?line=20'>21</a>\u001b[0m y_pred_train \u001b[39m=\u001b[39m reg\u001b[39m.\u001b[39mpredict(X_train)\n",
      "File \u001b[1;32mf:\\Python\\Python310\\lib\\site-packages\\sklearn\\linear_model\\_base.py:684\u001b[0m, in \u001b[0;36mLinearRegression.fit\u001b[1;34m(self, X, y, sample_weight)\u001b[0m\n\u001b[0;32m    680\u001b[0m n_jobs_ \u001b[39m=\u001b[39m \u001b[39mself\u001b[39m\u001b[39m.\u001b[39mn_jobs\n\u001b[0;32m    682\u001b[0m accept_sparse \u001b[39m=\u001b[39m \u001b[39mFalse\u001b[39;00m \u001b[39mif\u001b[39;00m \u001b[39mself\u001b[39m\u001b[39m.\u001b[39mpositive \u001b[39melse\u001b[39;00m [\u001b[39m\"\u001b[39m\u001b[39mcsr\u001b[39m\u001b[39m\"\u001b[39m, \u001b[39m\"\u001b[39m\u001b[39mcsc\u001b[39m\u001b[39m\"\u001b[39m, \u001b[39m\"\u001b[39m\u001b[39mcoo\u001b[39m\u001b[39m\"\u001b[39m]\n\u001b[1;32m--> 684\u001b[0m X, y \u001b[39m=\u001b[39m \u001b[39mself\u001b[39;49m\u001b[39m.\u001b[39;49m_validate_data(\n\u001b[0;32m    685\u001b[0m     X, y, accept_sparse\u001b[39m=\u001b[39;49maccept_sparse, y_numeric\u001b[39m=\u001b[39;49m\u001b[39mTrue\u001b[39;49;00m, multi_output\u001b[39m=\u001b[39;49m\u001b[39mTrue\u001b[39;49;00m\n\u001b[0;32m    686\u001b[0m )\n\u001b[0;32m    688\u001b[0m sample_weight \u001b[39m=\u001b[39m _check_sample_weight(\n\u001b[0;32m    689\u001b[0m     sample_weight, X, dtype\u001b[39m=\u001b[39mX\u001b[39m.\u001b[39mdtype, only_non_negative\u001b[39m=\u001b[39m\u001b[39mTrue\u001b[39;00m\n\u001b[0;32m    690\u001b[0m )\n\u001b[0;32m    692\u001b[0m X, y, X_offset, y_offset, X_scale \u001b[39m=\u001b[39m _preprocess_data(\n\u001b[0;32m    693\u001b[0m     X,\n\u001b[0;32m    694\u001b[0m     y,\n\u001b[1;32m   (...)\u001b[0m\n\u001b[0;32m    698\u001b[0m     sample_weight\u001b[39m=\u001b[39msample_weight,\n\u001b[0;32m    699\u001b[0m )\n",
      "File \u001b[1;32mf:\\Python\\Python310\\lib\\site-packages\\sklearn\\base.py:596\u001b[0m, in \u001b[0;36mBaseEstimator._validate_data\u001b[1;34m(self, X, y, reset, validate_separately, **check_params)\u001b[0m\n\u001b[0;32m    594\u001b[0m         y \u001b[39m=\u001b[39m check_array(y, input_name\u001b[39m=\u001b[39m\u001b[39m\"\u001b[39m\u001b[39my\u001b[39m\u001b[39m\"\u001b[39m, \u001b[39m*\u001b[39m\u001b[39m*\u001b[39mcheck_y_params)\n\u001b[0;32m    595\u001b[0m     \u001b[39melse\u001b[39;00m:\n\u001b[1;32m--> 596\u001b[0m         X, y \u001b[39m=\u001b[39m check_X_y(X, y, \u001b[39m*\u001b[39m\u001b[39m*\u001b[39mcheck_params)\n\u001b[0;32m    597\u001b[0m     out \u001b[39m=\u001b[39m X, y\n\u001b[0;32m    599\u001b[0m \u001b[39mif\u001b[39;00m \u001b[39mnot\u001b[39;00m no_val_X \u001b[39mand\u001b[39;00m check_params\u001b[39m.\u001b[39mget(\u001b[39m\"\u001b[39m\u001b[39mensure_2d\u001b[39m\u001b[39m\"\u001b[39m, \u001b[39mTrue\u001b[39;00m):\n",
      "File \u001b[1;32mf:\\Python\\Python310\\lib\\site-packages\\sklearn\\utils\\validation.py:1070\u001b[0m, in \u001b[0;36mcheck_X_y\u001b[1;34m(X, y, accept_sparse, accept_large_sparse, dtype, order, copy, force_all_finite, ensure_2d, allow_nd, multi_output, ensure_min_samples, ensure_min_features, y_numeric, estimator)\u001b[0m\n\u001b[0;32m   1065\u001b[0m         estimator_name \u001b[39m=\u001b[39m _check_estimator_name(estimator)\n\u001b[0;32m   1066\u001b[0m     \u001b[39mraise\u001b[39;00m \u001b[39mValueError\u001b[39;00m(\n\u001b[0;32m   1067\u001b[0m         \u001b[39mf\u001b[39m\u001b[39m\"\u001b[39m\u001b[39m{\u001b[39;00mestimator_name\u001b[39m}\u001b[39;00m\u001b[39m requires y to be passed, but the target y is None\u001b[39m\u001b[39m\"\u001b[39m\n\u001b[0;32m   1068\u001b[0m     )\n\u001b[1;32m-> 1070\u001b[0m X \u001b[39m=\u001b[39m check_array(\n\u001b[0;32m   1071\u001b[0m     X,\n\u001b[0;32m   1072\u001b[0m     accept_sparse\u001b[39m=\u001b[39;49maccept_sparse,\n\u001b[0;32m   1073\u001b[0m     accept_large_sparse\u001b[39m=\u001b[39;49maccept_large_sparse,\n\u001b[0;32m   1074\u001b[0m     dtype\u001b[39m=\u001b[39;49mdtype,\n\u001b[0;32m   1075\u001b[0m     order\u001b[39m=\u001b[39;49morder,\n\u001b[0;32m   1076\u001b[0m     copy\u001b[39m=\u001b[39;49mcopy,\n\u001b[0;32m   1077\u001b[0m     force_all_finite\u001b[39m=\u001b[39;49mforce_all_finite,\n\u001b[0;32m   1078\u001b[0m     ensure_2d\u001b[39m=\u001b[39;49mensure_2d,\n\u001b[0;32m   1079\u001b[0m     allow_nd\u001b[39m=\u001b[39;49mallow_nd,\n\u001b[0;32m   1080\u001b[0m     ensure_min_samples\u001b[39m=\u001b[39;49mensure_min_samples,\n\u001b[0;32m   1081\u001b[0m     ensure_min_features\u001b[39m=\u001b[39;49mensure_min_features,\n\u001b[0;32m   1082\u001b[0m     estimator\u001b[39m=\u001b[39;49mestimator,\n\u001b[0;32m   1083\u001b[0m     input_name\u001b[39m=\u001b[39;49m\u001b[39m\"\u001b[39;49m\u001b[39mX\u001b[39;49m\u001b[39m\"\u001b[39;49m,\n\u001b[0;32m   1084\u001b[0m )\n\u001b[0;32m   1086\u001b[0m y \u001b[39m=\u001b[39m _check_y(y, multi_output\u001b[39m=\u001b[39mmulti_output, y_numeric\u001b[39m=\u001b[39my_numeric, estimator\u001b[39m=\u001b[39mestimator)\n\u001b[0;32m   1088\u001b[0m check_consistent_length(X, y)\n",
      "File \u001b[1;32mf:\\Python\\Python310\\lib\\site-packages\\sklearn\\utils\\validation.py:895\u001b[0m, in \u001b[0;36mcheck_array\u001b[1;34m(array, accept_sparse, accept_large_sparse, dtype, order, copy, force_all_finite, ensure_2d, allow_nd, ensure_min_samples, ensure_min_features, estimator, input_name)\u001b[0m\n\u001b[0;32m    889\u001b[0m         \u001b[39mraise\u001b[39;00m \u001b[39mValueError\u001b[39;00m(\n\u001b[0;32m    890\u001b[0m             \u001b[39m\"\u001b[39m\u001b[39mFound array with dim \u001b[39m\u001b[39m%d\u001b[39;00m\u001b[39m. \u001b[39m\u001b[39m%s\u001b[39;00m\u001b[39m expected <= 2.\u001b[39m\u001b[39m\"\u001b[39m\n\u001b[0;32m    891\u001b[0m             \u001b[39m%\u001b[39m (array\u001b[39m.\u001b[39mndim, estimator_name)\n\u001b[0;32m    892\u001b[0m         )\n\u001b[0;32m    894\u001b[0m     \u001b[39mif\u001b[39;00m force_all_finite:\n\u001b[1;32m--> 895\u001b[0m         _assert_all_finite(\n\u001b[0;32m    896\u001b[0m             array,\n\u001b[0;32m    897\u001b[0m             input_name\u001b[39m=\u001b[39;49minput_name,\n\u001b[0;32m    898\u001b[0m             estimator_name\u001b[39m=\u001b[39;49mestimator_name,\n\u001b[0;32m    899\u001b[0m             allow_nan\u001b[39m=\u001b[39;49mforce_all_finite \u001b[39m==\u001b[39;49m \u001b[39m\"\u001b[39;49m\u001b[39mallow-nan\u001b[39;49m\u001b[39m\"\u001b[39;49m,\n\u001b[0;32m    900\u001b[0m         )\n\u001b[0;32m    902\u001b[0m \u001b[39mif\u001b[39;00m ensure_min_samples \u001b[39m>\u001b[39m \u001b[39m0\u001b[39m:\n\u001b[0;32m    903\u001b[0m     n_samples \u001b[39m=\u001b[39m _num_samples(array)\n",
      "File \u001b[1;32mf:\\Python\\Python310\\lib\\site-packages\\sklearn\\utils\\validation.py:142\u001b[0m, in \u001b[0;36m_assert_all_finite\u001b[1;34m(X, allow_nan, msg_dtype, estimator_name, input_name)\u001b[0m\n\u001b[0;32m    124\u001b[0m         \u001b[39mif\u001b[39;00m (\n\u001b[0;32m    125\u001b[0m             \u001b[39mnot\u001b[39;00m allow_nan\n\u001b[0;32m    126\u001b[0m             \u001b[39mand\u001b[39;00m estimator_name\n\u001b[1;32m   (...)\u001b[0m\n\u001b[0;32m    130\u001b[0m             \u001b[39m# Improve the error message on how to handle missing values in\u001b[39;00m\n\u001b[0;32m    131\u001b[0m             \u001b[39m# scikit-learn.\u001b[39;00m\n\u001b[0;32m    132\u001b[0m             msg_err \u001b[39m+\u001b[39m\u001b[39m=\u001b[39m (\n\u001b[0;32m    133\u001b[0m                 \u001b[39mf\u001b[39m\u001b[39m\"\u001b[39m\u001b[39m\\n\u001b[39;00m\u001b[39m{\u001b[39;00mestimator_name\u001b[39m}\u001b[39;00m\u001b[39m does not accept missing values\u001b[39m\u001b[39m\"\u001b[39m\n\u001b[0;32m    134\u001b[0m                 \u001b[39m\"\u001b[39m\u001b[39m encoded as NaN natively. For supervised learning, you might want\u001b[39m\u001b[39m\"\u001b[39m\n\u001b[1;32m   (...)\u001b[0m\n\u001b[0;32m    140\u001b[0m                 \u001b[39m\"\u001b[39m\u001b[39m https://scikit-learn.org/stable/modules/impute.html\u001b[39m\u001b[39m\"\u001b[39m\n\u001b[0;32m    141\u001b[0m             )\n\u001b[1;32m--> 142\u001b[0m         \u001b[39mraise\u001b[39;00m \u001b[39mValueError\u001b[39;00m(msg_err)\n\u001b[0;32m    144\u001b[0m \u001b[39m# for object dtype data, we only check for NaNs (GH-13254)\u001b[39;00m\n\u001b[0;32m    145\u001b[0m \u001b[39melif\u001b[39;00m X\u001b[39m.\u001b[39mdtype \u001b[39m==\u001b[39m np\u001b[39m.\u001b[39mdtype(\u001b[39m\"\u001b[39m\u001b[39mobject\u001b[39m\u001b[39m\"\u001b[39m) \u001b[39mand\u001b[39;00m \u001b[39mnot\u001b[39;00m allow_nan:\n",
      "\u001b[1;31mValueError\u001b[0m: Input X contains NaN.\nLinearRegression does not accept missing values encoded as NaN natively. For supervised learning, you might want to consider sklearn.ensemble.HistGradientBoostingClassifier and Regressor which accept missing values encoded as NaNs natively. Alternatively, it is possible to preprocess the data, for instance by using an imputer transformer in a pipeline or drop samples with missing values. See https://scikit-learn.org/stable/modules/impute.html"
     ]
    }
   ],
   "source": [
    "color_metrics = updateModel(dfColors)\n",
    "print_metrics(color_metrics)"
   ]
  },
  {
   "cell_type": "code",
   "execution_count": null,
   "metadata": {},
   "outputs": [
    {
     "data": {
      "text/html": [
       "<div>\n",
       "<style scoped>\n",
       "    .dataframe tbody tr th:only-of-type {\n",
       "        vertical-align: middle;\n",
       "    }\n",
       "\n",
       "    .dataframe tbody tr th {\n",
       "        vertical-align: top;\n",
       "    }\n",
       "\n",
       "    .dataframe thead th {\n",
       "        text-align: right;\n",
       "    }\n",
       "</style>\n",
       "<table border=\"1\" class=\"dataframe\">\n",
       "  <thead>\n",
       "    <tr style=\"text-align: right;\">\n",
       "      <th></th>\n",
       "      <th>price</th>\n",
       "      <th>manufacturer</th>\n",
       "      <th>condition</th>\n",
       "      <th>cylinders</th>\n",
       "      <th>fuel</th>\n",
       "      <th>title_status</th>\n",
       "      <th>transmission</th>\n",
       "      <th>drive</th>\n",
       "      <th>type</th>\n",
       "      <th>paint_color</th>\n",
       "      <th>county</th>\n",
       "      <th>state</th>\n",
       "      <th>car_model</th>\n",
       "      <th>miles_per_year</th>\n",
       "    </tr>\n",
       "  </thead>\n",
       "  <tbody>\n",
       "    <tr>\n",
       "      <th>27</th>\n",
       "      <td>33590</td>\n",
       "      <td>gmc</td>\n",
       "      <td>good</td>\n",
       "      <td>8 cylinders</td>\n",
       "      <td>gas</td>\n",
       "      <td>clean</td>\n",
       "      <td>other</td>\n",
       "      <td>4wd</td>\n",
       "      <td>pickup</td>\n",
       "      <td>white</td>\n",
       "      <td>NaN</td>\n",
       "      <td>al</td>\n",
       "      <td>gmc sierra</td>\n",
       "      <td>8273.532353</td>\n",
       "    </tr>\n",
       "    <tr>\n",
       "      <th>28</th>\n",
       "      <td>22590</td>\n",
       "      <td>chevrolet</td>\n",
       "      <td>good</td>\n",
       "      <td>8 cylinders</td>\n",
       "      <td>gas</td>\n",
       "      <td>clean</td>\n",
       "      <td>other</td>\n",
       "      <td>4wd</td>\n",
       "      <td>pickup</td>\n",
       "      <td>blue</td>\n",
       "      <td>NaN</td>\n",
       "      <td>al</td>\n",
       "      <td>chevrolet silverado</td>\n",
       "      <td>6474.775020</td>\n",
       "    </tr>\n",
       "    <tr>\n",
       "      <th>29</th>\n",
       "      <td>39590</td>\n",
       "      <td>chevrolet</td>\n",
       "      <td>good</td>\n",
       "      <td>8 cylinders</td>\n",
       "      <td>gas</td>\n",
       "      <td>clean</td>\n",
       "      <td>other</td>\n",
       "      <td>4wd</td>\n",
       "      <td>pickup</td>\n",
       "      <td>red</td>\n",
       "      <td>NaN</td>\n",
       "      <td>al</td>\n",
       "      <td>chevrolet silverado</td>\n",
       "      <td>19140.859141</td>\n",
       "    </tr>\n",
       "    <tr>\n",
       "      <th>30</th>\n",
       "      <td>30990</td>\n",
       "      <td>toyota</td>\n",
       "      <td>good</td>\n",
       "      <td>8 cylinders</td>\n",
       "      <td>gas</td>\n",
       "      <td>clean</td>\n",
       "      <td>other</td>\n",
       "      <td>4wd</td>\n",
       "      <td>pickup</td>\n",
       "      <td>red</td>\n",
       "      <td>NaN</td>\n",
       "      <td>al</td>\n",
       "      <td>toyota tundra</td>\n",
       "      <td>10278.430392</td>\n",
       "    </tr>\n",
       "    <tr>\n",
       "      <th>31</th>\n",
       "      <td>15000</td>\n",
       "      <td>ford</td>\n",
       "      <td>excellent</td>\n",
       "      <td>6 cylinders</td>\n",
       "      <td>gas</td>\n",
       "      <td>clean</td>\n",
       "      <td>automatic</td>\n",
       "      <td>rwd</td>\n",
       "      <td>truck</td>\n",
       "      <td>black</td>\n",
       "      <td>NaN</td>\n",
       "      <td>al</td>\n",
       "      <td>ford f150</td>\n",
       "      <td>15998.000250</td>\n",
       "    </tr>\n",
       "    <tr>\n",
       "      <th>...</th>\n",
       "      <td>...</td>\n",
       "      <td>...</td>\n",
       "      <td>...</td>\n",
       "      <td>...</td>\n",
       "      <td>...</td>\n",
       "      <td>...</td>\n",
       "      <td>...</td>\n",
       "      <td>...</td>\n",
       "      <td>...</td>\n",
       "      <td>...</td>\n",
       "      <td>...</td>\n",
       "      <td>...</td>\n",
       "      <td>...</td>\n",
       "      <td>...</td>\n",
       "    </tr>\n",
       "    <tr>\n",
       "      <th>426875</th>\n",
       "      <td>23590</td>\n",
       "      <td>nissan</td>\n",
       "      <td>good</td>\n",
       "      <td>6 cylinders</td>\n",
       "      <td>gas</td>\n",
       "      <td>clean</td>\n",
       "      <td>other</td>\n",
       "      <td>fwd</td>\n",
       "      <td>sedan</td>\n",
       "      <td>unknown</td>\n",
       "      <td>NaN</td>\n",
       "      <td>wy</td>\n",
       "      <td>nissan maxima</td>\n",
       "      <td>16104.947526</td>\n",
       "    </tr>\n",
       "    <tr>\n",
       "      <th>426876</th>\n",
       "      <td>30590</td>\n",
       "      <td>volvo</td>\n",
       "      <td>good</td>\n",
       "      <td>5 cylinders</td>\n",
       "      <td>gas</td>\n",
       "      <td>clean</td>\n",
       "      <td>other</td>\n",
       "      <td>fwd</td>\n",
       "      <td>sedan</td>\n",
       "      <td>red</td>\n",
       "      <td>NaN</td>\n",
       "      <td>wy</td>\n",
       "      <td>volvo s60</td>\n",
       "      <td>12016.983017</td>\n",
       "    </tr>\n",
       "    <tr>\n",
       "      <th>426877</th>\n",
       "      <td>34990</td>\n",
       "      <td>cadillac</td>\n",
       "      <td>good</td>\n",
       "      <td>4 cylinders</td>\n",
       "      <td>diesel</td>\n",
       "      <td>clean</td>\n",
       "      <td>other</td>\n",
       "      <td>fwd</td>\n",
       "      <td>hatchback</td>\n",
       "      <td>white</td>\n",
       "      <td>NaN</td>\n",
       "      <td>wy</td>\n",
       "      <td>cadillac xt4</td>\n",
       "      <td>4169.830170</td>\n",
       "    </tr>\n",
       "    <tr>\n",
       "      <th>426878</th>\n",
       "      <td>28990</td>\n",
       "      <td>lexus</td>\n",
       "      <td>good</td>\n",
       "      <td>6 cylinders</td>\n",
       "      <td>gas</td>\n",
       "      <td>clean</td>\n",
       "      <td>other</td>\n",
       "      <td>fwd</td>\n",
       "      <td>sedan</td>\n",
       "      <td>silver</td>\n",
       "      <td>NaN</td>\n",
       "      <td>wy</td>\n",
       "      <td>lexus es</td>\n",
       "      <td>10033.988670</td>\n",
       "    </tr>\n",
       "    <tr>\n",
       "      <th>426879</th>\n",
       "      <td>30590</td>\n",
       "      <td>bmw</td>\n",
       "      <td>good</td>\n",
       "      <td>4 cylinders</td>\n",
       "      <td>gas</td>\n",
       "      <td>clean</td>\n",
       "      <td>other</td>\n",
       "      <td>rwd</td>\n",
       "      <td>coupe</td>\n",
       "      <td>unknown</td>\n",
       "      <td>NaN</td>\n",
       "      <td>wy</td>\n",
       "      <td>bmw 4</td>\n",
       "      <td>11352.323838</td>\n",
       "    </tr>\n",
       "  </tbody>\n",
       "</table>\n",
       "<p>309189 rows × 14 columns</p>\n",
       "</div>"
      ],
      "text/plain": [
       "        price manufacturer  condition    cylinders    fuel title_status  \\\n",
       "27      33590          gmc       good  8 cylinders     gas        clean   \n",
       "28      22590    chevrolet       good  8 cylinders     gas        clean   \n",
       "29      39590    chevrolet       good  8 cylinders     gas        clean   \n",
       "30      30990       toyota       good  8 cylinders     gas        clean   \n",
       "31      15000         ford  excellent  6 cylinders     gas        clean   \n",
       "...       ...          ...        ...          ...     ...          ...   \n",
       "426875  23590       nissan       good  6 cylinders     gas        clean   \n",
       "426876  30590        volvo       good  5 cylinders     gas        clean   \n",
       "426877  34990     cadillac       good  4 cylinders  diesel        clean   \n",
       "426878  28990        lexus       good  6 cylinders     gas        clean   \n",
       "426879  30590          bmw       good  4 cylinders     gas        clean   \n",
       "\n",
       "       transmission drive       type paint_color  county state  \\\n",
       "27            other   4wd     pickup       white     NaN    al   \n",
       "28            other   4wd     pickup        blue     NaN    al   \n",
       "29            other   4wd     pickup         red     NaN    al   \n",
       "30            other   4wd     pickup         red     NaN    al   \n",
       "31        automatic   rwd      truck       black     NaN    al   \n",
       "...             ...   ...        ...         ...     ...   ...   \n",
       "426875        other   fwd      sedan     unknown     NaN    wy   \n",
       "426876        other   fwd      sedan         red     NaN    wy   \n",
       "426877        other   fwd  hatchback       white     NaN    wy   \n",
       "426878        other   fwd      sedan      silver     NaN    wy   \n",
       "426879        other   rwd      coupe     unknown     NaN    wy   \n",
       "\n",
       "                  car_model  miles_per_year  \n",
       "27               gmc sierra     8273.532353  \n",
       "28      chevrolet silverado     6474.775020  \n",
       "29      chevrolet silverado    19140.859141  \n",
       "30            toyota tundra    10278.430392  \n",
       "31                ford f150    15998.000250  \n",
       "...                     ...             ...  \n",
       "426875        nissan maxima    16104.947526  \n",
       "426876            volvo s60    12016.983017  \n",
       "426877         cadillac xt4     4169.830170  \n",
       "426878             lexus es    10033.988670  \n",
       "426879                bmw 4    11352.323838  \n",
       "\n",
       "[309189 rows x 14 columns]"
      ]
     },
     "execution_count": 96,
     "metadata": {},
     "output_type": "execute_result"
    }
   ],
   "source": [
    "dfMPY = dfAge.copy()\n",
    "MPY_temp = []\n",
    "\n",
    "dfMPY['miles_per_year'] = [dfMPY['odometer'][i]/(dfMPY['age'][i]+0.001) for i in dfMPY.index.tolist()]\n",
    "dfMPY.drop(['odometer', 'age'], axis=1, inplace=True)\n",
    "dfMPY"
   ]
  },
  {
   "cell_type": "code",
   "execution_count": null,
   "metadata": {},
   "outputs": [
    {
     "name": "stderr",
     "output_type": "stream",
     "text": [
      "f:\\Python\\Python310\\lib\\site-packages\\sklearn\\utils\\extmath.py:980: RuntimeWarning: invalid value encountered in true_divide\n",
      "  updated_mean = (last_sum + new_sum) / updated_sample_count\n",
      "f:\\Python\\Python310\\lib\\site-packages\\sklearn\\utils\\extmath.py:985: RuntimeWarning: invalid value encountered in true_divide\n",
      "  T = new_sum / new_sample_count\n",
      "f:\\Python\\Python310\\lib\\site-packages\\sklearn\\utils\\extmath.py:1005: RuntimeWarning: invalid value encountered in true_divide\n",
      "  new_unnormalized_variance -= correction**2 / new_sample_count\n"
     ]
    },
    {
     "ename": "ValueError",
     "evalue": "Input X contains NaN.\nLinearRegression does not accept missing values encoded as NaN natively. For supervised learning, you might want to consider sklearn.ensemble.HistGradientBoostingClassifier and Regressor which accept missing values encoded as NaNs natively. Alternatively, it is possible to preprocess the data, for instance by using an imputer transformer in a pipeline or drop samples with missing values. See https://scikit-learn.org/stable/modules/impute.html",
     "output_type": "error",
     "traceback": [
      "\u001b[1;31m---------------------------------------------------------------------------\u001b[0m",
      "\u001b[1;31mValueError\u001b[0m                                Traceback (most recent call last)",
      "\u001b[1;32mc:\\Users\\oache\\Desktop\\KI_ML\\Code\\Manuel_komplettloesung.ipynb Cell 59'\u001b[0m in \u001b[0;36m<cell line: 1>\u001b[1;34m()\u001b[0m\n\u001b[1;32m----> <a href='vscode-notebook-cell:/c%3A/Users/oache/Desktop/KI_ML/Code/Manuel_komplettloesung.ipynb#ch0000058?line=0'>1</a>\u001b[0m MPY_metrics \u001b[39m=\u001b[39m updateModel(dfMPY)\n\u001b[0;32m      <a href='vscode-notebook-cell:/c%3A/Users/oache/Desktop/KI_ML/Code/Manuel_komplettloesung.ipynb#ch0000058?line=1'>2</a>\u001b[0m print_metrics(MPY_metrics)\n",
      "\u001b[1;32mc:\\Users\\oache\\Desktop\\KI_ML\\Code\\Manuel_komplettloesung.ipynb Cell 35'\u001b[0m in \u001b[0;36mupdateModel\u001b[1;34m(datafr, test_percentage, seed)\u001b[0m\n\u001b[0;32m     <a href='vscode-notebook-cell:/c%3A/Users/oache/Desktop/KI_ML/Code/Manuel_komplettloesung.ipynb#ch0000034?line=15'>16</a>\u001b[0m X_test \u001b[39m=\u001b[39m sc\u001b[39m.\u001b[39mtransform(X_test)\n\u001b[0;32m     <a href='vscode-notebook-cell:/c%3A/Users/oache/Desktop/KI_ML/Code/Manuel_komplettloesung.ipynb#ch0000034?line=17'>18</a>\u001b[0m \u001b[39m#making model + predicting\u001b[39;00m\n\u001b[1;32m---> <a href='vscode-notebook-cell:/c%3A/Users/oache/Desktop/KI_ML/Code/Manuel_komplettloesung.ipynb#ch0000034?line=18'>19</a>\u001b[0m reg\u001b[39m.\u001b[39;49mfit(X_train, y_train)\n\u001b[0;32m     <a href='vscode-notebook-cell:/c%3A/Users/oache/Desktop/KI_ML/Code/Manuel_komplettloesung.ipynb#ch0000034?line=19'>20</a>\u001b[0m y_pred_test \u001b[39m=\u001b[39m reg\u001b[39m.\u001b[39mpredict(X_test)\n\u001b[0;32m     <a href='vscode-notebook-cell:/c%3A/Users/oache/Desktop/KI_ML/Code/Manuel_komplettloesung.ipynb#ch0000034?line=20'>21</a>\u001b[0m y_pred_train \u001b[39m=\u001b[39m reg\u001b[39m.\u001b[39mpredict(X_train)\n",
      "File \u001b[1;32mf:\\Python\\Python310\\lib\\site-packages\\sklearn\\linear_model\\_base.py:684\u001b[0m, in \u001b[0;36mLinearRegression.fit\u001b[1;34m(self, X, y, sample_weight)\u001b[0m\n\u001b[0;32m    680\u001b[0m n_jobs_ \u001b[39m=\u001b[39m \u001b[39mself\u001b[39m\u001b[39m.\u001b[39mn_jobs\n\u001b[0;32m    682\u001b[0m accept_sparse \u001b[39m=\u001b[39m \u001b[39mFalse\u001b[39;00m \u001b[39mif\u001b[39;00m \u001b[39mself\u001b[39m\u001b[39m.\u001b[39mpositive \u001b[39melse\u001b[39;00m [\u001b[39m\"\u001b[39m\u001b[39mcsr\u001b[39m\u001b[39m\"\u001b[39m, \u001b[39m\"\u001b[39m\u001b[39mcsc\u001b[39m\u001b[39m\"\u001b[39m, \u001b[39m\"\u001b[39m\u001b[39mcoo\u001b[39m\u001b[39m\"\u001b[39m]\n\u001b[1;32m--> 684\u001b[0m X, y \u001b[39m=\u001b[39m \u001b[39mself\u001b[39;49m\u001b[39m.\u001b[39;49m_validate_data(\n\u001b[0;32m    685\u001b[0m     X, y, accept_sparse\u001b[39m=\u001b[39;49maccept_sparse, y_numeric\u001b[39m=\u001b[39;49m\u001b[39mTrue\u001b[39;49;00m, multi_output\u001b[39m=\u001b[39;49m\u001b[39mTrue\u001b[39;49;00m\n\u001b[0;32m    686\u001b[0m )\n\u001b[0;32m    688\u001b[0m sample_weight \u001b[39m=\u001b[39m _check_sample_weight(\n\u001b[0;32m    689\u001b[0m     sample_weight, X, dtype\u001b[39m=\u001b[39mX\u001b[39m.\u001b[39mdtype, only_non_negative\u001b[39m=\u001b[39m\u001b[39mTrue\u001b[39;00m\n\u001b[0;32m    690\u001b[0m )\n\u001b[0;32m    692\u001b[0m X, y, X_offset, y_offset, X_scale \u001b[39m=\u001b[39m _preprocess_data(\n\u001b[0;32m    693\u001b[0m     X,\n\u001b[0;32m    694\u001b[0m     y,\n\u001b[1;32m   (...)\u001b[0m\n\u001b[0;32m    698\u001b[0m     sample_weight\u001b[39m=\u001b[39msample_weight,\n\u001b[0;32m    699\u001b[0m )\n",
      "File \u001b[1;32mf:\\Python\\Python310\\lib\\site-packages\\sklearn\\base.py:596\u001b[0m, in \u001b[0;36mBaseEstimator._validate_data\u001b[1;34m(self, X, y, reset, validate_separately, **check_params)\u001b[0m\n\u001b[0;32m    594\u001b[0m         y \u001b[39m=\u001b[39m check_array(y, input_name\u001b[39m=\u001b[39m\u001b[39m\"\u001b[39m\u001b[39my\u001b[39m\u001b[39m\"\u001b[39m, \u001b[39m*\u001b[39m\u001b[39m*\u001b[39mcheck_y_params)\n\u001b[0;32m    595\u001b[0m     \u001b[39melse\u001b[39;00m:\n\u001b[1;32m--> 596\u001b[0m         X, y \u001b[39m=\u001b[39m check_X_y(X, y, \u001b[39m*\u001b[39m\u001b[39m*\u001b[39mcheck_params)\n\u001b[0;32m    597\u001b[0m     out \u001b[39m=\u001b[39m X, y\n\u001b[0;32m    599\u001b[0m \u001b[39mif\u001b[39;00m \u001b[39mnot\u001b[39;00m no_val_X \u001b[39mand\u001b[39;00m check_params\u001b[39m.\u001b[39mget(\u001b[39m\"\u001b[39m\u001b[39mensure_2d\u001b[39m\u001b[39m\"\u001b[39m, \u001b[39mTrue\u001b[39;00m):\n",
      "File \u001b[1;32mf:\\Python\\Python310\\lib\\site-packages\\sklearn\\utils\\validation.py:1070\u001b[0m, in \u001b[0;36mcheck_X_y\u001b[1;34m(X, y, accept_sparse, accept_large_sparse, dtype, order, copy, force_all_finite, ensure_2d, allow_nd, multi_output, ensure_min_samples, ensure_min_features, y_numeric, estimator)\u001b[0m\n\u001b[0;32m   1065\u001b[0m         estimator_name \u001b[39m=\u001b[39m _check_estimator_name(estimator)\n\u001b[0;32m   1066\u001b[0m     \u001b[39mraise\u001b[39;00m \u001b[39mValueError\u001b[39;00m(\n\u001b[0;32m   1067\u001b[0m         \u001b[39mf\u001b[39m\u001b[39m\"\u001b[39m\u001b[39m{\u001b[39;00mestimator_name\u001b[39m}\u001b[39;00m\u001b[39m requires y to be passed, but the target y is None\u001b[39m\u001b[39m\"\u001b[39m\n\u001b[0;32m   1068\u001b[0m     )\n\u001b[1;32m-> 1070\u001b[0m X \u001b[39m=\u001b[39m check_array(\n\u001b[0;32m   1071\u001b[0m     X,\n\u001b[0;32m   1072\u001b[0m     accept_sparse\u001b[39m=\u001b[39;49maccept_sparse,\n\u001b[0;32m   1073\u001b[0m     accept_large_sparse\u001b[39m=\u001b[39;49maccept_large_sparse,\n\u001b[0;32m   1074\u001b[0m     dtype\u001b[39m=\u001b[39;49mdtype,\n\u001b[0;32m   1075\u001b[0m     order\u001b[39m=\u001b[39;49morder,\n\u001b[0;32m   1076\u001b[0m     copy\u001b[39m=\u001b[39;49mcopy,\n\u001b[0;32m   1077\u001b[0m     force_all_finite\u001b[39m=\u001b[39;49mforce_all_finite,\n\u001b[0;32m   1078\u001b[0m     ensure_2d\u001b[39m=\u001b[39;49mensure_2d,\n\u001b[0;32m   1079\u001b[0m     allow_nd\u001b[39m=\u001b[39;49mallow_nd,\n\u001b[0;32m   1080\u001b[0m     ensure_min_samples\u001b[39m=\u001b[39;49mensure_min_samples,\n\u001b[0;32m   1081\u001b[0m     ensure_min_features\u001b[39m=\u001b[39;49mensure_min_features,\n\u001b[0;32m   1082\u001b[0m     estimator\u001b[39m=\u001b[39;49mestimator,\n\u001b[0;32m   1083\u001b[0m     input_name\u001b[39m=\u001b[39;49m\u001b[39m\"\u001b[39;49m\u001b[39mX\u001b[39;49m\u001b[39m\"\u001b[39;49m,\n\u001b[0;32m   1084\u001b[0m )\n\u001b[0;32m   1086\u001b[0m y \u001b[39m=\u001b[39m _check_y(y, multi_output\u001b[39m=\u001b[39mmulti_output, y_numeric\u001b[39m=\u001b[39my_numeric, estimator\u001b[39m=\u001b[39mestimator)\n\u001b[0;32m   1088\u001b[0m check_consistent_length(X, y)\n",
      "File \u001b[1;32mf:\\Python\\Python310\\lib\\site-packages\\sklearn\\utils\\validation.py:895\u001b[0m, in \u001b[0;36mcheck_array\u001b[1;34m(array, accept_sparse, accept_large_sparse, dtype, order, copy, force_all_finite, ensure_2d, allow_nd, ensure_min_samples, ensure_min_features, estimator, input_name)\u001b[0m\n\u001b[0;32m    889\u001b[0m         \u001b[39mraise\u001b[39;00m \u001b[39mValueError\u001b[39;00m(\n\u001b[0;32m    890\u001b[0m             \u001b[39m\"\u001b[39m\u001b[39mFound array with dim \u001b[39m\u001b[39m%d\u001b[39;00m\u001b[39m. \u001b[39m\u001b[39m%s\u001b[39;00m\u001b[39m expected <= 2.\u001b[39m\u001b[39m\"\u001b[39m\n\u001b[0;32m    891\u001b[0m             \u001b[39m%\u001b[39m (array\u001b[39m.\u001b[39mndim, estimator_name)\n\u001b[0;32m    892\u001b[0m         )\n\u001b[0;32m    894\u001b[0m     \u001b[39mif\u001b[39;00m force_all_finite:\n\u001b[1;32m--> 895\u001b[0m         _assert_all_finite(\n\u001b[0;32m    896\u001b[0m             array,\n\u001b[0;32m    897\u001b[0m             input_name\u001b[39m=\u001b[39;49minput_name,\n\u001b[0;32m    898\u001b[0m             estimator_name\u001b[39m=\u001b[39;49mestimator_name,\n\u001b[0;32m    899\u001b[0m             allow_nan\u001b[39m=\u001b[39;49mforce_all_finite \u001b[39m==\u001b[39;49m \u001b[39m\"\u001b[39;49m\u001b[39mallow-nan\u001b[39;49m\u001b[39m\"\u001b[39;49m,\n\u001b[0;32m    900\u001b[0m         )\n\u001b[0;32m    902\u001b[0m \u001b[39mif\u001b[39;00m ensure_min_samples \u001b[39m>\u001b[39m \u001b[39m0\u001b[39m:\n\u001b[0;32m    903\u001b[0m     n_samples \u001b[39m=\u001b[39m _num_samples(array)\n",
      "File \u001b[1;32mf:\\Python\\Python310\\lib\\site-packages\\sklearn\\utils\\validation.py:142\u001b[0m, in \u001b[0;36m_assert_all_finite\u001b[1;34m(X, allow_nan, msg_dtype, estimator_name, input_name)\u001b[0m\n\u001b[0;32m    124\u001b[0m         \u001b[39mif\u001b[39;00m (\n\u001b[0;32m    125\u001b[0m             \u001b[39mnot\u001b[39;00m allow_nan\n\u001b[0;32m    126\u001b[0m             \u001b[39mand\u001b[39;00m estimator_name\n\u001b[1;32m   (...)\u001b[0m\n\u001b[0;32m    130\u001b[0m             \u001b[39m# Improve the error message on how to handle missing values in\u001b[39;00m\n\u001b[0;32m    131\u001b[0m             \u001b[39m# scikit-learn.\u001b[39;00m\n\u001b[0;32m    132\u001b[0m             msg_err \u001b[39m+\u001b[39m\u001b[39m=\u001b[39m (\n\u001b[0;32m    133\u001b[0m                 \u001b[39mf\u001b[39m\u001b[39m\"\u001b[39m\u001b[39m\\n\u001b[39;00m\u001b[39m{\u001b[39;00mestimator_name\u001b[39m}\u001b[39;00m\u001b[39m does not accept missing values\u001b[39m\u001b[39m\"\u001b[39m\n\u001b[0;32m    134\u001b[0m                 \u001b[39m\"\u001b[39m\u001b[39m encoded as NaN natively. For supervised learning, you might want\u001b[39m\u001b[39m\"\u001b[39m\n\u001b[1;32m   (...)\u001b[0m\n\u001b[0;32m    140\u001b[0m                 \u001b[39m\"\u001b[39m\u001b[39m https://scikit-learn.org/stable/modules/impute.html\u001b[39m\u001b[39m\"\u001b[39m\n\u001b[0;32m    141\u001b[0m             )\n\u001b[1;32m--> 142\u001b[0m         \u001b[39mraise\u001b[39;00m \u001b[39mValueError\u001b[39;00m(msg_err)\n\u001b[0;32m    144\u001b[0m \u001b[39m# for object dtype data, we only check for NaNs (GH-13254)\u001b[39;00m\n\u001b[0;32m    145\u001b[0m \u001b[39melif\u001b[39;00m X\u001b[39m.\u001b[39mdtype \u001b[39m==\u001b[39m np\u001b[39m.\u001b[39mdtype(\u001b[39m\"\u001b[39m\u001b[39mobject\u001b[39m\u001b[39m\"\u001b[39m) \u001b[39mand\u001b[39;00m \u001b[39mnot\u001b[39;00m allow_nan:\n",
      "\u001b[1;31mValueError\u001b[0m: Input X contains NaN.\nLinearRegression does not accept missing values encoded as NaN natively. For supervised learning, you might want to consider sklearn.ensemble.HistGradientBoostingClassifier and Regressor which accept missing values encoded as NaNs natively. Alternatively, it is possible to preprocess the data, for instance by using an imputer transformer in a pipeline or drop samples with missing values. See https://scikit-learn.org/stable/modules/impute.html"
     ]
    }
   ],
   "source": [
    "MPY_metrics = updateModel(dfMPY)\n",
    "print_metrics(MPY_metrics)"
   ]
  },
  {
   "cell_type": "code",
   "execution_count": null,
   "metadata": {},
   "outputs": [],
   "source": [
    "dfNoCyl = df.drop('cylinders', axis = 1)\n",
    "dfNoCyl"
   ]
  },
  {
   "cell_type": "code",
   "execution_count": null,
   "metadata": {},
   "outputs": [],
   "source": [
    "no_cyl_metrics = updateModel(dfNoCyl)\n",
    "print_metrics(no_cyl_metrics)"
   ]
  },
  {
   "cell_type": "code",
   "execution_count": null,
   "metadata": {},
   "outputs": [],
   "source": [
    "dfNoType = df.drop('type', axis = 1)\n",
    "dfNoType"
   ]
  },
  {
   "cell_type": "code",
   "execution_count": null,
   "metadata": {},
   "outputs": [],
   "source": [
    "no_type_metrics = updateModel(dfNoType)\n",
    "print_metrics(no_type_metrics)"
   ]
  },
  {
   "cell_type": "code",
   "execution_count": null,
   "metadata": {},
   "outputs": [],
   "source": [
    "#only creating age_groups had a positive impact on performance\n",
    "#dropping 'type' and binning 'state' into regions had no real impact on performance but made the model more interpretable\n",
    "\n",
    "df = dfAgeCat\n",
    "df = pd.merge(df, pd.DataFrame(regions_dict), on = 'state', how = 'left').drop('state', axis = 1)\n",
    "df.drop('type', axis = 1, inplace = True)\n",
    "df"
   ]
  },
  {
   "cell_type": "code",
   "execution_count": null,
   "metadata": {},
   "outputs": [],
   "source": [
    "reg = LinearRegression()"
   ]
  },
  {
   "cell_type": "code",
   "execution_count": null,
   "metadata": {},
   "outputs": [],
   "source": [
    "#linear regression model on the feature engineered df\n",
    "\n",
    "initLR = updateModel(df)\n",
    "print_metrics(initLR)"
   ]
  },
  {
   "cell_type": "code",
   "execution_count": null,
   "metadata": {},
   "outputs": [],
   "source": [
    "cols = pd.get_dummies(df, drop_first = True).columns"
   ]
  },
  {
   "cell_type": "code",
   "execution_count": null,
   "metadata": {},
   "outputs": [],
   "source": [
    "importance = reg.coef_\n",
    "\n",
    "temp = pd.DataFrame({'feat n°': [x for x in range(len(importance))],'importance': importance})\n",
    "temp = temp.sort_values('importance')\n",
    "worst10 = temp[:10]\n",
    "best10 = temp[-10:]\n",
    "best10['feat'] = cols[best10['feat n°']]\n",
    "worst10['feat'] = cols[worst10['feat n°']]"
   ]
  },
  {
   "cell_type": "code",
   "execution_count": null,
   "metadata": {},
   "outputs": [],
   "source": [
    "plt.xticks(rotation = 90)\n",
    "plt.bar(best10['feat'], best10['importance'])"
   ]
  },
  {
   "cell_type": "code",
   "execution_count": null,
   "metadata": {},
   "outputs": [],
   "source": [
    "plt.xticks(rotation = 90)\n",
    "plt.bar(worst10['feat'], worst10['importance'])"
   ]
  },
  {
   "cell_type": "code",
   "execution_count": null,
   "metadata": {},
   "outputs": [],
   "source": [
    "#20-tree RF\n",
    "\n",
    "reg = RandomForestRegressor(n_estimators = 20, random_state = 7)"
   ]
  },
  {
   "cell_type": "code",
   "execution_count": null,
   "metadata": {},
   "outputs": [],
   "source": [
    "initRF = updateModel(df)\n",
    "print_metrics(initRF)"
   ]
  },
  {
   "cell_type": "code",
   "execution_count": null,
   "metadata": {},
   "outputs": [],
   "source": [
    "kcv = get_kCVscores(df)\n",
    "kcv"
   ]
  },
  {
   "cell_type": "code",
   "execution_count": null,
   "metadata": {},
   "outputs": [],
   "source": [
    "print('Cross validated MAE mean:', kcv.mean())\n",
    "print('Cross validated MAE standard deviation:', kcv.std())"
   ]
  },
  {
   "cell_type": "code",
   "execution_count": null,
   "metadata": {},
   "outputs": [],
   "source": [
    "#100-tree RF\n",
    "\n",
    "reg = RandomForestRegressor(n_estimators = 100, random_state = 7)"
   ]
  },
  {
   "cell_type": "code",
   "execution_count": null,
   "metadata": {},
   "outputs": [],
   "source": [
    "init100RF = updateModel(df)\n",
    "print_metrics(init100RF)"
   ]
  },
  {
   "cell_type": "code",
   "execution_count": null,
   "metadata": {},
   "outputs": [],
   "source": [
    "reg = GradientBoostingRegressor(n_estimators = 50, learning_rate = 0.1, max_depth = 1, random_state = 7, loss = 'ls')"
   ]
  },
  {
   "cell_type": "code",
   "execution_count": null,
   "metadata": {},
   "outputs": [],
   "source": [
    "initBoost = updateModel(df)\n",
    "print_metrics(initBoost)"
   ]
  },
  {
   "cell_type": "code",
   "execution_count": null,
   "metadata": {},
   "outputs": [],
   "source": [
    "reg = MLPRegressor()"
   ]
  },
  {
   "cell_type": "code",
   "execution_count": null,
   "metadata": {},
   "outputs": [],
   "source": [
    "initNN = updateModel(df)\n",
    "print_metrics(initNN)"
   ]
  },
  {
   "cell_type": "code",
   "execution_count": null,
   "metadata": {},
   "outputs": [],
   "source": [
    "#Elbow plot values\n",
    "distortions = []\n",
    "df_with_dummies = pd.get_dummies(df.copy(), drop_first = True)\n",
    "\n",
    "K = range(1,10)\n",
    "for k in K:\n",
    "    km = KMeans(n_clusters=k)\n",
    "    km.fit(df_with_dummies)\n",
    "    distortions.append(km.inertia_)\n",
    "\n",
    "#Plotting\n",
    "plt.figure(figsize=(16,8))\n",
    "plt.plot(K, distortions, 'bx-')\n",
    "plt.xlabel('k')\n",
    "plt.ylabel('Distortion')\n",
    "plt.title('Elbow Method to determine the optimal k value')\n",
    "plt.show()"
   ]
  },
  {
   "cell_type": "code",
   "execution_count": null,
   "metadata": {},
   "outputs": [],
   "source": [
    "df_clustering_k2 = k_means_clustering(df, 2)\n",
    "df_clustering_k2"
   ]
  },
  {
   "cell_type": "code",
   "execution_count": null,
   "metadata": {},
   "outputs": [],
   "source": [
    "df_clustering_k3 = k_means_clustering(df, 3)\n",
    "df_clustering_k3"
   ]
  },
  {
   "cell_type": "code",
   "execution_count": null,
   "metadata": {},
   "outputs": [],
   "source": [
    "pd.get_dummies(df_clustering_k2, drop_first = True).groupby(['cluster']).median()"
   ]
  },
  {
   "cell_type": "code",
   "execution_count": null,
   "metadata": {},
   "outputs": [],
   "source": [
    "pd.get_dummies(df_clustering_k3, drop_first = True).groupby(['cluster']).median()"
   ]
  },
  {
   "cell_type": "code",
   "execution_count": null,
   "metadata": {},
   "outputs": [],
   "source": [
    "df_to_use = pd.get_dummies(df_clustering_k2, drop_first = True)\n",
    "k = 2\n",
    "print('For k = ', k)\n",
    "\n",
    "list_of_results = []\n",
    "for i in range(k):\n",
    "    cluster_df = (df_to_use[df_to_use['cluster']==i]).copy()\n",
    "    res = updateModel(cluster_df)\n",
    "    print_metrics(res)\n",
    "    list_of_results.append(res)\n",
    "\n",
    "clust_k2_LR_results = list_of_results"
   ]
  },
  {
   "cell_type": "code",
   "execution_count": null,
   "metadata": {},
   "outputs": [],
   "source": [
    "df_to_use = pd.get_dummies(df_clustering_k3, drop_first = True)\n",
    "k = 3\n",
    "print('For k = ', k)\n",
    "\n",
    "list_of_results = []\n",
    "for i in range(k):\n",
    "    cluster_df = (df_to_use[df_to_use['cluster']==i]).copy()\n",
    "    res = updateModel(cluster_df)\n",
    "    print_metrics(res)\n",
    "    list_of_results.append(res)\n",
    "\n",
    "clust_k3_LR_results = list_of_results"
   ]
  },
  {
   "cell_type": "code",
   "execution_count": null,
   "metadata": {},
   "outputs": [],
   "source": [
    "reg = RandomForestRegressor(n_estimators = 20, random_state = 7)"
   ]
  },
  {
   "cell_type": "code",
   "execution_count": null,
   "metadata": {},
   "outputs": [],
   "source": [
    "df_to_use = pd.get_dummies(df_clustering_k2, drop_first = True)\n",
    "k = 2\n",
    "print('For k = ', k)\n",
    "\n",
    "list_of_results = []\n",
    "for i in range(k):\n",
    "    cluster_df = (df_to_use[df_to_use['cluster']==i]).copy()\n",
    "    res = updateModel(cluster_df)\n",
    "    print_metrics(res)\n",
    "    list_of_results.append(res)\n",
    "\n",
    "clust_k2_RF_results = list_of_results"
   ]
  },
  {
   "cell_type": "code",
   "execution_count": null,
   "metadata": {},
   "outputs": [],
   "source": [
    "print_metrics(initRF)"
   ]
  },
  {
   "cell_type": "code",
   "execution_count": null,
   "metadata": {},
   "outputs": [],
   "source": [
    "dfFinal = df_clustering_k2.copy()\n",
    "dfFinal"
   ]
  },
  {
   "cell_type": "code",
   "execution_count": null,
   "metadata": {},
   "outputs": [],
   "source": [
    "finalPerformance = clust_k2_RF_results\n",
    "print('Cluster 1:')\n",
    "print_metrics(finalPerformance[0])\n",
    "print()\n",
    "print('Cluster 2:')\n",
    "print_metrics(finalPerformance[1])"
   ]
  },
  {
   "cell_type": "code",
   "execution_count": null,
   "metadata": {},
   "outputs": [],
   "source": [
    "finalModel = reg\n",
    "reg"
   ]
  },
  {
   "cell_type": "code",
   "execution_count": null,
   "metadata": {},
   "outputs": [],
   "source": [
    "finalClusters = df_clustering_k2.copy()\n",
    "pd.get_dummies(finalClusters, drop_first = True).groupby(['cluster']).median()"
   ]
  },
  {
   "cell_type": "code",
   "execution_count": null,
   "metadata": {},
   "outputs": [],
   "source": [
    "dfFinal.to_csv('final')"
   ]
  }
 ],
 "metadata": {
  "kernelspec": {
   "display_name": "Python 3.10.4 64-bit",
   "language": "python",
   "name": "python3"
  },
  "language_info": {
   "codemirror_mode": {
    "name": "ipython",
    "version": 3
   },
   "file_extension": ".py",
   "mimetype": "text/x-python",
   "name": "python",
   "nbconvert_exporter": "python",
   "pygments_lexer": "ipython3",
   "version": "3.10.4"
  },
  "orig_nbformat": 4,
  "vscode": {
   "interpreter": {
    "hash": "d50220305086dde7714464d39eb812e6992001230edb4d06ec4afb2ffb1c28c6"
   }
  }
 },
 "nbformat": 4,
 "nbformat_minor": 2
}
