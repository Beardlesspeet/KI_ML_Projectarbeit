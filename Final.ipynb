{
 "cells": [
  {
   "cell_type": "markdown",
   "metadata": {},
   "source": [
    "Filtern"
   ]
  },
  {
   "cell_type": "markdown",
   "metadata": {},
   "source": [
    "Wir bearbeiten das Thema zum \"used Cars Dataset\" zur vohrersage von Gerbrauchtwagenpreisen basierend auf den Dataset, dass online von \"kaggle.com\". Unsere Ziel besteht darin, dass Dataset zu \"bereinigen\" um nur noch für die Preisvorhersage relevante Daten zuverwenden um eine möglichst schnelle jedoch trotzdem noch präzise Aussage zu den Preisen der Fahrzeuge zu erhalten."
   ]
  },
  {
   "cell_type": "code",
   "execution_count": null,
   "metadata": {},
   "outputs": [],
   "source": [
    "import pandas as pd\n",
    "import numpy as np\n",
    "import matplotlib.pyplot as plt\n",
    "%matplotlib inline \n",
    "import sklearn\n",
    "from sklearn.linear_model import LinearRegression\n",
    "from sklearn.ensemble import RandomForestRegressor\n",
    "from sklearn.neural_network import MLPRegressor\n",
    "from sklearn.model_selection import train_test_split\n",
    "from sklearn.metrics import r2_score\n",
    "from sklearn.metrics import mean_absolute_error\n",
    "from sklearn.metrics import mean_absolute_percentage_error\n",
    "from sklearn.metrics import mean_squared_error\n",
    "from sklearn.preprocessing import StandardScaler\n",
    "from sklearn.preprocessing import MinMaxScaler\n",
    "from sklearn.model_selection import cross_val_score\n",
    "from sklearn.cluster import KMeans"
   ]
  },
  {
   "cell_type": "markdown",
   "metadata": {},
   "source": [
    "Als erster wir die CSV Datei importiert und als Dataframe abgelegt."
   ]
  },
  {
   "cell_type": "code",
   "execution_count": 51,
   "metadata": {},
   "outputs": [],
   "source": [
    "url = 'C:/Users/oache/Desktop/KI_ML/vehicles/vehicles.csv'\n",
    "#url= 'C:/Users/nicof/OneDrive/Dokumente/FH-München/KI\\Modularbeit/archive/vehicles.csv'\n",
    "df = pd.read_csv(url)\n"
   ]
  },
  {
   "cell_type": "markdown",
   "metadata": {},
   "source": [
    "Als nächstes lassen wir uns die ersten fünf Einträge anzeigen, um einen Überblick über die Daten zu erlangen. Es fällt auf, dass einige der Spalten für die Vorhersage des Preises nicht von nutzen sein werden."
   ]
  },
  {
   "cell_type": "code",
   "execution_count": 52,
   "metadata": {},
   "outputs": [
    {
     "data": {
      "text/html": [
       "<div>\n",
       "<style scoped>\n",
       "    .dataframe tbody tr th:only-of-type {\n",
       "        vertical-align: middle;\n",
       "    }\n",
       "\n",
       "    .dataframe tbody tr th {\n",
       "        vertical-align: top;\n",
       "    }\n",
       "\n",
       "    .dataframe thead th {\n",
       "        text-align: right;\n",
       "    }\n",
       "</style>\n",
       "<table border=\"1\" class=\"dataframe\">\n",
       "  <thead>\n",
       "    <tr style=\"text-align: right;\">\n",
       "      <th></th>\n",
       "      <th>id</th>\n",
       "      <th>url</th>\n",
       "      <th>region</th>\n",
       "      <th>region_url</th>\n",
       "      <th>price</th>\n",
       "      <th>year</th>\n",
       "      <th>manufacturer</th>\n",
       "      <th>model</th>\n",
       "      <th>condition</th>\n",
       "      <th>cylinders</th>\n",
       "      <th>...</th>\n",
       "      <th>size</th>\n",
       "      <th>type</th>\n",
       "      <th>paint_color</th>\n",
       "      <th>image_url</th>\n",
       "      <th>description</th>\n",
       "      <th>county</th>\n",
       "      <th>state</th>\n",
       "      <th>lat</th>\n",
       "      <th>long</th>\n",
       "      <th>posting_date</th>\n",
       "    </tr>\n",
       "  </thead>\n",
       "  <tbody>\n",
       "    <tr>\n",
       "      <th>0</th>\n",
       "      <td>7222695916</td>\n",
       "      <td>https://prescott.craigslist.org/cto/d/prescott...</td>\n",
       "      <td>prescott</td>\n",
       "      <td>https://prescott.craigslist.org</td>\n",
       "      <td>6000</td>\n",
       "      <td>NaN</td>\n",
       "      <td>NaN</td>\n",
       "      <td>NaN</td>\n",
       "      <td>NaN</td>\n",
       "      <td>NaN</td>\n",
       "      <td>...</td>\n",
       "      <td>NaN</td>\n",
       "      <td>NaN</td>\n",
       "      <td>NaN</td>\n",
       "      <td>NaN</td>\n",
       "      <td>NaN</td>\n",
       "      <td>NaN</td>\n",
       "      <td>az</td>\n",
       "      <td>NaN</td>\n",
       "      <td>NaN</td>\n",
       "      <td>NaN</td>\n",
       "    </tr>\n",
       "    <tr>\n",
       "      <th>1</th>\n",
       "      <td>7218891961</td>\n",
       "      <td>https://fayar.craigslist.org/ctd/d/bentonville...</td>\n",
       "      <td>fayetteville</td>\n",
       "      <td>https://fayar.craigslist.org</td>\n",
       "      <td>11900</td>\n",
       "      <td>NaN</td>\n",
       "      <td>NaN</td>\n",
       "      <td>NaN</td>\n",
       "      <td>NaN</td>\n",
       "      <td>NaN</td>\n",
       "      <td>...</td>\n",
       "      <td>NaN</td>\n",
       "      <td>NaN</td>\n",
       "      <td>NaN</td>\n",
       "      <td>NaN</td>\n",
       "      <td>NaN</td>\n",
       "      <td>NaN</td>\n",
       "      <td>ar</td>\n",
       "      <td>NaN</td>\n",
       "      <td>NaN</td>\n",
       "      <td>NaN</td>\n",
       "    </tr>\n",
       "    <tr>\n",
       "      <th>2</th>\n",
       "      <td>7221797935</td>\n",
       "      <td>https://keys.craigslist.org/cto/d/summerland-k...</td>\n",
       "      <td>florida keys</td>\n",
       "      <td>https://keys.craigslist.org</td>\n",
       "      <td>21000</td>\n",
       "      <td>NaN</td>\n",
       "      <td>NaN</td>\n",
       "      <td>NaN</td>\n",
       "      <td>NaN</td>\n",
       "      <td>NaN</td>\n",
       "      <td>...</td>\n",
       "      <td>NaN</td>\n",
       "      <td>NaN</td>\n",
       "      <td>NaN</td>\n",
       "      <td>NaN</td>\n",
       "      <td>NaN</td>\n",
       "      <td>NaN</td>\n",
       "      <td>fl</td>\n",
       "      <td>NaN</td>\n",
       "      <td>NaN</td>\n",
       "      <td>NaN</td>\n",
       "    </tr>\n",
       "    <tr>\n",
       "      <th>3</th>\n",
       "      <td>7222270760</td>\n",
       "      <td>https://worcester.craigslist.org/cto/d/west-br...</td>\n",
       "      <td>worcester / central MA</td>\n",
       "      <td>https://worcester.craigslist.org</td>\n",
       "      <td>1500</td>\n",
       "      <td>NaN</td>\n",
       "      <td>NaN</td>\n",
       "      <td>NaN</td>\n",
       "      <td>NaN</td>\n",
       "      <td>NaN</td>\n",
       "      <td>...</td>\n",
       "      <td>NaN</td>\n",
       "      <td>NaN</td>\n",
       "      <td>NaN</td>\n",
       "      <td>NaN</td>\n",
       "      <td>NaN</td>\n",
       "      <td>NaN</td>\n",
       "      <td>ma</td>\n",
       "      <td>NaN</td>\n",
       "      <td>NaN</td>\n",
       "      <td>NaN</td>\n",
       "    </tr>\n",
       "    <tr>\n",
       "      <th>4</th>\n",
       "      <td>7210384030</td>\n",
       "      <td>https://greensboro.craigslist.org/cto/d/trinit...</td>\n",
       "      <td>greensboro</td>\n",
       "      <td>https://greensboro.craigslist.org</td>\n",
       "      <td>4900</td>\n",
       "      <td>NaN</td>\n",
       "      <td>NaN</td>\n",
       "      <td>NaN</td>\n",
       "      <td>NaN</td>\n",
       "      <td>NaN</td>\n",
       "      <td>...</td>\n",
       "      <td>NaN</td>\n",
       "      <td>NaN</td>\n",
       "      <td>NaN</td>\n",
       "      <td>NaN</td>\n",
       "      <td>NaN</td>\n",
       "      <td>NaN</td>\n",
       "      <td>nc</td>\n",
       "      <td>NaN</td>\n",
       "      <td>NaN</td>\n",
       "      <td>NaN</td>\n",
       "    </tr>\n",
       "  </tbody>\n",
       "</table>\n",
       "<p>5 rows × 26 columns</p>\n",
       "</div>"
      ],
      "text/plain": [
       "           id                                                url  \\\n",
       "0  7222695916  https://prescott.craigslist.org/cto/d/prescott...   \n",
       "1  7218891961  https://fayar.craigslist.org/ctd/d/bentonville...   \n",
       "2  7221797935  https://keys.craigslist.org/cto/d/summerland-k...   \n",
       "3  7222270760  https://worcester.craigslist.org/cto/d/west-br...   \n",
       "4  7210384030  https://greensboro.craigslist.org/cto/d/trinit...   \n",
       "\n",
       "                   region                         region_url  price  year  \\\n",
       "0                prescott    https://prescott.craigslist.org   6000   NaN   \n",
       "1            fayetteville       https://fayar.craigslist.org  11900   NaN   \n",
       "2            florida keys        https://keys.craigslist.org  21000   NaN   \n",
       "3  worcester / central MA   https://worcester.craigslist.org   1500   NaN   \n",
       "4              greensboro  https://greensboro.craigslist.org   4900   NaN   \n",
       "\n",
       "  manufacturer model condition cylinders  ... size  type paint_color  \\\n",
       "0          NaN   NaN       NaN       NaN  ...  NaN   NaN         NaN   \n",
       "1          NaN   NaN       NaN       NaN  ...  NaN   NaN         NaN   \n",
       "2          NaN   NaN       NaN       NaN  ...  NaN   NaN         NaN   \n",
       "3          NaN   NaN       NaN       NaN  ...  NaN   NaN         NaN   \n",
       "4          NaN   NaN       NaN       NaN  ...  NaN   NaN         NaN   \n",
       "\n",
       "  image_url description county state lat long posting_date  \n",
       "0       NaN         NaN    NaN    az NaN  NaN          NaN  \n",
       "1       NaN         NaN    NaN    ar NaN  NaN          NaN  \n",
       "2       NaN         NaN    NaN    fl NaN  NaN          NaN  \n",
       "3       NaN         NaN    NaN    ma NaN  NaN          NaN  \n",
       "4       NaN         NaN    NaN    nc NaN  NaN          NaN  \n",
       "\n",
       "[5 rows x 26 columns]"
      ]
     },
     "execution_count": 52,
     "metadata": {},
     "output_type": "execute_result"
    }
   ],
   "source": [
    "df.head(5)\n"
   ]
  },
  {
   "cell_type": "markdown",
   "metadata": {},
   "source": [
    "Um einen Überblick zu bekommen mit wievielen Daten wir uns beschäftigen lassen wir uns die Dimensionen des Dataframes anzeigen. Wir haben ein Datenfeld in der größe 426880 x 26"
   ]
  },
  {
   "cell_type": "code",
   "execution_count": 53,
   "metadata": {},
   "outputs": [
    {
     "data": {
      "text/plain": [
       "(426880, 26)"
      ]
     },
     "execution_count": 53,
     "metadata": {},
     "output_type": "execute_result"
    }
   ],
   "source": [
    "df.shape"
   ]
  },
  {
   "cell_type": "markdown",
   "metadata": {},
   "source": [
    "Um eine Überblick über die Fahrzeughersteller und deren Inseratanteilen zu bekommen lassen wir uns dies anhande der Stückzahlen anzeigen."
   ]
  },
  {
   "cell_type": "code",
   "execution_count": 54,
   "metadata": {},
   "outputs": [
    {
     "data": {
      "text/plain": [
       "<BarContainer object of 42 artists>"
      ]
     },
     "execution_count": 54,
     "metadata": {},
     "output_type": "execute_result"
    },
    {
     "data": {
      "image/png": "[encoded data removed]",
      "text/plain": [
       "<Figure size 1080x720 with 1 Axes>"
      ]
     },
     "metadata": {
      "needs_background": "light"
     },
     "output_type": "display_data"
    }
   ],
   "source": [
    "x = (df.groupby(['manufacturer'],as_index = False).count().sort_values('price', ascending = False))['manufacturer'].tolist()\n",
    "y = (df.groupby(['manufacturer'],as_index = False).count().sort_values('price', ascending = False))['price'].tolist()\n",
    "fig = plt.figure(figsize=(15,10))\n",
    "plt.xticks(rotation = 90)\n",
    "plt.bar(x, y, width=1)"
   ]
  },
  {
   "cell_type": "markdown",
   "metadata": {},
   "source": [
    "Wir lassen uns die unterschiedlichen Angaben zu den jeweiligen Kategorien anzeigen."
   ]
  },
  {
   "cell_type": "code",
   "execution_count": 55,
   "metadata": {},
   "outputs": [
    {
     "name": "stdout",
     "output_type": "stream",
     "text": [
      "[nan 'white' 'blue' 'red' 'black' 'silver' 'grey' 'brown' 'yellow'\n",
      " 'orange' 'green' 'custom' 'purple']\n",
      "[nan 'good' 'excellent' 'fair' 'like new' 'new' 'salvage']\n",
      "[nan 'pickup' 'truck' 'other' 'coupe' 'SUV' 'hatchback' 'mini-van' 'sedan'\n",
      " 'offroad' 'bus' 'van' 'convertible' 'wagon']\n",
      "[nan 'gas' 'other' 'diesel' 'hybrid' 'electric']\n",
      "[nan '8 cylinders' '6 cylinders' '4 cylinders' '5 cylinders' 'other'\n",
      " '3 cylinders' '10 cylinders' '12 cylinders']\n",
      "[nan 'clean' 'rebuilt' 'lien' 'salvage' 'missing' 'parts only']\n",
      "[nan 'pickup' 'truck' 'other' 'coupe' 'SUV' 'hatchback' 'mini-van' 'sedan'\n",
      " 'offroad' 'bus' 'van' 'convertible' 'wagon']\n",
      "[nan 'rwd' '4wd' 'fwd']\n",
      "[nan 'other' 'automatic' 'manual']\n"
     ]
    }
   ],
   "source": [
    "print(df[\"paint_color\"].unique())\n",
    "print(df[\"condition\"].unique())\n",
    "print(df[\"type\"].unique())\n",
    "print(df[\"fuel\"].unique())\n",
    "print(df[\"cylinders\"].unique())\n",
    "print(df[\"title_status\"].unique())\n",
    "print(df[\"type\"].unique())\n",
    "print(df[\"drive\"].unique())\n",
    "print(df[\"transmission\"].unique())"
   ]
  },
  {
   "cell_type": "markdown",
   "metadata": {},
   "source": [
    "Um einen Überblick zu erhalten, wie oft in der jeweiligen Kategorie kein Eintrag vorhanden ist lassen wir uns dies Anzeigen."
   ]
  },
  {
   "cell_type": "code",
   "execution_count": 56,
   "metadata": {},
   "outputs": [
    {
     "data": {
      "text/plain": [
       "county          426880\n",
       "size            306361\n",
       "cylinders       177678\n",
       "condition       174104\n",
       "VIN             161042\n",
       "drive           130567\n",
       "paint_color     130203\n",
       "type             92858\n",
       "manufacturer     17646\n",
       "title_status      8242\n",
       "lat               6549\n",
       "long              6549\n",
       "model             5277\n",
       "odometer          4400\n",
       "fuel              3013\n",
       "transmission      2556\n",
       "year              1205\n",
       "description         70\n",
       "image_url           68\n",
       "posting_date        68\n",
       "url                  0\n",
       "price                0\n",
       "state                0\n",
       "region_url           0\n",
       "region               0\n",
       "id                   0\n",
       "dtype: int64"
      ]
     },
     "execution_count": 56,
     "metadata": {},
     "output_type": "execute_result"
    }
   ],
   "source": [
    "df.isnull().sum().sort_values(ascending = False)"
   ]
  },
  {
   "cell_type": "markdown",
   "metadata": {},
   "source": [
    "Um die Vorhersage des Preises präziser zu ermöglichen, entfernen wir die Spalten aus dem Dataframe die wir für unnötige erachten:\n",
    "- county: extrem hohe Anzahl ein Nan einträgen.\n",
    "- size: extrem hohe Anzahl ein Nan einträgen.\n",
    "- id, url, region_url, lat, long, vin, image_url, description, geometry: Diese Angaben sind teilweise sehr individuell (z.B. description), oder für eine Preisvorhersage nicht relevant.\n",
    "- size: Die \"größe\" des Fahrzeugs ist Modellabhängig und kann somit ebenfalls entfernt werden.\n",
    "- region: Diese Angabe ist sehr präzise wir nutzen die Angaben in der Kategorie 'state' zur örtlichen Einschränkung."
   ]
  },
  {
   "cell_type": "code",
   "execution_count": 57,
   "metadata": {},
   "outputs": [
    {
     "data": {
      "text/html": [
       "<div>\n",
       "<style scoped>\n",
       "    .dataframe tbody tr th:only-of-type {\n",
       "        vertical-align: middle;\n",
       "    }\n",
       "\n",
       "    .dataframe tbody tr th {\n",
       "        vertical-align: top;\n",
       "    }\n",
       "\n",
       "    .dataframe thead th {\n",
       "        text-align: right;\n",
       "    }\n",
       "</style>\n",
       "<table border=\"1\" class=\"dataframe\">\n",
       "  <thead>\n",
       "    <tr style=\"text-align: right;\">\n",
       "      <th></th>\n",
       "      <th>price</th>\n",
       "      <th>year</th>\n",
       "      <th>manufacturer</th>\n",
       "      <th>model</th>\n",
       "      <th>condition</th>\n",
       "      <th>cylinders</th>\n",
       "      <th>fuel</th>\n",
       "      <th>odometer</th>\n",
       "      <th>title_status</th>\n",
       "      <th>transmission</th>\n",
       "      <th>drive</th>\n",
       "      <th>type</th>\n",
       "      <th>paint_color</th>\n",
       "      <th>state</th>\n",
       "      <th>posting_date</th>\n",
       "    </tr>\n",
       "  </thead>\n",
       "  <tbody>\n",
       "    <tr>\n",
       "      <th>0</th>\n",
       "      <td>6000</td>\n",
       "      <td>NaN</td>\n",
       "      <td>NaN</td>\n",
       "      <td>NaN</td>\n",
       "      <td>NaN</td>\n",
       "      <td>NaN</td>\n",
       "      <td>NaN</td>\n",
       "      <td>NaN</td>\n",
       "      <td>NaN</td>\n",
       "      <td>NaN</td>\n",
       "      <td>NaN</td>\n",
       "      <td>NaN</td>\n",
       "      <td>NaN</td>\n",
       "      <td>az</td>\n",
       "      <td>NaN</td>\n",
       "    </tr>\n",
       "    <tr>\n",
       "      <th>1</th>\n",
       "      <td>11900</td>\n",
       "      <td>NaN</td>\n",
       "      <td>NaN</td>\n",
       "      <td>NaN</td>\n",
       "      <td>NaN</td>\n",
       "      <td>NaN</td>\n",
       "      <td>NaN</td>\n",
       "      <td>NaN</td>\n",
       "      <td>NaN</td>\n",
       "      <td>NaN</td>\n",
       "      <td>NaN</td>\n",
       "      <td>NaN</td>\n",
       "      <td>NaN</td>\n",
       "      <td>ar</td>\n",
       "      <td>NaN</td>\n",
       "    </tr>\n",
       "    <tr>\n",
       "      <th>2</th>\n",
       "      <td>21000</td>\n",
       "      <td>NaN</td>\n",
       "      <td>NaN</td>\n",
       "      <td>NaN</td>\n",
       "      <td>NaN</td>\n",
       "      <td>NaN</td>\n",
       "      <td>NaN</td>\n",
       "      <td>NaN</td>\n",
       "      <td>NaN</td>\n",
       "      <td>NaN</td>\n",
       "      <td>NaN</td>\n",
       "      <td>NaN</td>\n",
       "      <td>NaN</td>\n",
       "      <td>fl</td>\n",
       "      <td>NaN</td>\n",
       "    </tr>\n",
       "    <tr>\n",
       "      <th>3</th>\n",
       "      <td>1500</td>\n",
       "      <td>NaN</td>\n",
       "      <td>NaN</td>\n",
       "      <td>NaN</td>\n",
       "      <td>NaN</td>\n",
       "      <td>NaN</td>\n",
       "      <td>NaN</td>\n",
       "      <td>NaN</td>\n",
       "      <td>NaN</td>\n",
       "      <td>NaN</td>\n",
       "      <td>NaN</td>\n",
       "      <td>NaN</td>\n",
       "      <td>NaN</td>\n",
       "      <td>ma</td>\n",
       "      <td>NaN</td>\n",
       "    </tr>\n",
       "    <tr>\n",
       "      <th>4</th>\n",
       "      <td>4900</td>\n",
       "      <td>NaN</td>\n",
       "      <td>NaN</td>\n",
       "      <td>NaN</td>\n",
       "      <td>NaN</td>\n",
       "      <td>NaN</td>\n",
       "      <td>NaN</td>\n",
       "      <td>NaN</td>\n",
       "      <td>NaN</td>\n",
       "      <td>NaN</td>\n",
       "      <td>NaN</td>\n",
       "      <td>NaN</td>\n",
       "      <td>NaN</td>\n",
       "      <td>nc</td>\n",
       "      <td>NaN</td>\n",
       "    </tr>\n",
       "  </tbody>\n",
       "</table>\n",
       "</div>"
      ],
      "text/plain": [
       "   price  year manufacturer model condition cylinders fuel  odometer  \\\n",
       "0   6000   NaN          NaN   NaN       NaN       NaN  NaN       NaN   \n",
       "1  11900   NaN          NaN   NaN       NaN       NaN  NaN       NaN   \n",
       "2  21000   NaN          NaN   NaN       NaN       NaN  NaN       NaN   \n",
       "3   1500   NaN          NaN   NaN       NaN       NaN  NaN       NaN   \n",
       "4   4900   NaN          NaN   NaN       NaN       NaN  NaN       NaN   \n",
       "\n",
       "  title_status transmission drive type paint_color state posting_date  \n",
       "0          NaN          NaN   NaN  NaN         NaN    az          NaN  \n",
       "1          NaN          NaN   NaN  NaN         NaN    ar          NaN  \n",
       "2          NaN          NaN   NaN  NaN         NaN    fl          NaN  \n",
       "3          NaN          NaN   NaN  NaN         NaN    ma          NaN  \n",
       "4          NaN          NaN   NaN  NaN         NaN    nc          NaN  "
      ]
     },
     "execution_count": 57,
     "metadata": {},
     "output_type": "execute_result"
    }
   ],
   "source": [
    "\n",
    "\n",
    "df.drop([ 'id', 'url', 'region_url', 'lat', 'long', 'VIN', 'image_url',\n",
    "         'description', 'county','size','region'], axis = 1, inplace = True)\n",
    "df.head(5)"
   ]
  },
  {
   "cell_type": "markdown",
   "metadata": {},
   "source": [
    "In der Kategorie \"title_status\" sind die Angaben [nan 'clean' 'rebuilt' 'lien' 'salvage' 'missing' 'parts only'] vorhanden.(siehe oben) Für eine Preisvorhersage von Fahrzeugen, können die Inserate mit dem Titel 'rebuilt' 'lien' 'salvage' 'missing' 'parts only' jedoch nicht verwendet werden, weshalb title_status als gesamte Spalte gedropt werden kann. "
   ]
  },
  {
   "cell_type": "code",
   "execution_count": 58,
   "metadata": {},
   "outputs": [],
   "source": [
    "\n",
    "df.drop('title_status',axis=1, inplace= True)\n"
   ]
  },
  {
   "cell_type": "markdown",
   "metadata": {},
   "source": [
    "Aussortieren von Inseraten mit unrealistischen Preisen"
   ]
  },
  {
   "cell_type": "code",
   "execution_count": 59,
   "metadata": {},
   "outputs": [],
   "source": [
    "df = df[((df['price'] < 500000) & (df['price'] > 100))]"
   ]
  },
  {
   "cell_type": "markdown",
   "metadata": {},
   "source": [
    "Jetzt lassen wir uns die Fahrzeuginserate anhand der Baujahre und des zugehörigen Preises anzeigen."
   ]
  },
  {
   "cell_type": "code",
   "execution_count": 60,
   "metadata": {},
   "outputs": [
    {
     "data": {
      "text/plain": [
       "<matplotlib.lines.Line2D at 0x1e33cd9b820>"
      ]
     },
     "execution_count": 60,
     "metadata": {},
     "output_type": "execute_result"
    },
    {
     "data": {
      "image/png": "[encoded data removed]",
      "text/plain": [
       "<Figure size 720x360 with 1 Axes>"
      ]
     },
     "metadata": {
      "needs_background": "light"
     },
     "output_type": "display_data"
    }
   ],
   "source": [
    "starting_year = 2000\n",
    "x = (df.groupby(['year'],as_index = False).count())['year'].tolist()\n",
    "y = (df.groupby(['year'],as_index = False).count())['price'].tolist()\n",
    "fig = plt.figure(figsize=(10,5))\n",
    "plt.bar(x, y, width=1)\n",
    "plt.axvline(starting_year, color = 'red')"
   ]
  },
  {
   "cell_type": "markdown",
   "metadata": {},
   "source": [
    "Die Anzahl an Fahrzeugen die vor 2000 gebaut wurden ist sehr gering und die Preise niedrig, für diese Fahrzeuge ist keine genau Preis Ermittlung möglich."
   ]
  },
  {
   "cell_type": "code",
   "execution_count": 61,
   "metadata": {},
   "outputs": [],
   "source": [
    "\n",
    "df = df[df['year'] > starting_year]\n"
   ]
  },
  {
   "cell_type": "markdown",
   "metadata": {},
   "source": [
    "Fahrzeuge mit sehr hohen Tachostand (höchsten 5%) können ebenfalls ignoriert werden."
   ]
  },
  {
   "cell_type": "code",
   "execution_count": 62,
   "metadata": {},
   "outputs": [],
   "source": [
    "top5 = np.nanpercentile(df['odometer'], 95)\n",
    "df = df[df['odometer'] < top5]"
   ]
  },
  {
   "cell_type": "markdown",
   "metadata": {},
   "source": [
    "Fahrzeuge die keine Angeben in den Spalten fuel, transmission, manufacturer und model können ebenfalls vernächlässigt werden, da diese Angaben hohe Priorität haben."
   ]
  },
  {
   "cell_type": "code",
   "execution_count": 63,
   "metadata": {},
   "outputs": [
    {
     "data": {
      "text/plain": [
       "(324875, 14)"
      ]
     },
     "execution_count": 63,
     "metadata": {},
     "output_type": "execute_result"
    }
   ],
   "source": [
    "df.dropna(subset = ['fuel', 'transmission'], axis = 0, inplace = True)\n",
    "df = df[~df['manufacturer'].isnull()]\n",
    "df = df[~df['model'].isnull()]\n",
    "df.shape"
   ]
  },
  {
   "cell_type": "markdown",
   "metadata": {},
   "source": [
    "Um im späteren Verlauf eine Prediction zu ermöglichen ersetzen wir in den restlichen Spalten die Nan Angaben durch unknowen bzw. not specified"
   ]
  },
  {
   "cell_type": "code",
   "execution_count": 64,
   "metadata": {},
   "outputs": [],
   "source": [
    "df['condition'].fillna('not specified', inplace = True)\n",
    "df['paint_color'].fillna('unknown', inplace = True)\n"
   ]
  },
  {
   "cell_type": "markdown",
   "metadata": {},
   "source": [
    "Da in einigen inseraten Modell verschieden beschrieben werden z.B. F150, F150 good condition, F-150 beschränken wir uns auf das erste Wort in der Beschreibung und entfernen alle Modelle die anschließend weniger als 150 mal auftreten. Desweitern fügen wir den manufacturer in der Spalte model hinzu, um zu vermeiden, dass Fahrzeuge die den gleichen Modellnamen jedoch von unterschiedlichen Herstellern sind, zusammengfügt werden. Dies machen wir in einem speraten Dataframe um uns die Unterschiede anzeigen lassen zu können"
   ]
  },
  {
   "cell_type": "code",
   "execution_count": 65,
   "metadata": {},
   "outputs": [
    {
     "name": "stdout",
     "output_type": "stream",
     "text": [
      "Alle models  2062\n",
      "models mit mehr als 150 Einträgen:  227\n",
      "Prozentualeranteil an gelöschten models: 88.99\n",
      "\n",
      "Gesamtanzahl an Inseraten:  324875\n",
      "Verbleibende Inserate:  286356\n",
      "Prozentualeranteil an gelöschten Inseraten  11.86\n"
     ]
    }
   ],
   "source": [
    "\n",
    "\n",
    "model_list = df['model'].tolist()\n",
    "model_list = map(str, model_list)\n",
    "model_list = [x.lower().strip() for x in model_list]\n",
    "my_list = [car_model.split()[0] for car_model in model_list]\n",
    "my_list = [x.replace(' ', '').replace('-', '').replace('/', '') for x in my_list]\n",
    "\n",
    "df['car_model'] = my_list\n",
    "df['car_model'] = df['manufacturer'] + \"_\" + df['car_model']\n",
    "\n",
    "new_car_models = (df.groupby(['car_model'], as_index= False).count())[['manufacturer', 'car_model', 'price']]\n",
    "new_car_models = new_car_models.rename(columns={'price': 'count'})\n",
    "only_common_models = new_car_models[new_car_models['count'] > 250]\n",
    "\n",
    "print('Alle models ', len(new_car_models['count']))\n",
    "print('models mit mehr als 150 Einträgen: ', len(only_common_models['count']))\n",
    "print('Prozentualeranteil an gelöschten models:', round((1-len(only_common_models['count'])/len(new_car_models['count'])) * 100, 2))\n",
    "print()\n",
    "print('Gesamtanzahl an Inseraten: ', len(df['price']))\n",
    "print('Verbleibende Inserate: ', sum(only_common_models['count']))\n",
    "print('Prozentualeranteil an gelöschten Inseraten ', round((1-sum(only_common_models['count'])/len(df['price'])) * 100, 2))"
   ]
  },
  {
   "cell_type": "markdown",
   "metadata": {},
   "source": [
    "Um einen graphischen Überblick zu erhalten wieviele Fahrzeugemodell und Inserate gelöscht werden, wenn wir die mindest Anzahl auf 250 setzen lassen wir uns dies Anzeigen."
   ]
  },
  {
   "cell_type": "code",
   "execution_count": 66,
   "metadata": {},
   "outputs": [
    {
     "data": {
      "text/plain": [
       "<matplotlib.legend.Legend at 0x1e268043430>"
      ]
     },
     "execution_count": 66,
     "metadata": {},
     "output_type": "execute_result"
    },
    {
     "data": {
      "image/png": "[encoded data removed]",
      "text/plain": [
       "<Figure size 504x504 with 1 Axes>"
      ]
     },
     "metadata": {
      "needs_background": "light"
     },
     "output_type": "display_data"
    }
   ],
   "source": [
    "removed_models_list = []\n",
    "removed_instances_list = []\n",
    "\n",
    "for i in range(0,1000):\n",
    "    only_common_models_v2 = new_car_models[new_car_models['count']>i]\n",
    "    models_removed = 1-len(only_common_models_v2['count'])/len(new_car_models['count'])\n",
    "    instances_removed = 1-sum(only_common_models_v2['count'])/len(df['price'])\n",
    "    \n",
    "    removed_models_list.append(models_removed)\n",
    "    removed_instances_list.append(instances_removed)\n",
    "\n",
    "fig = plt.figure(figsize=(7,7))\n",
    "plt.plot(removed_models_list, label = 'Prozentzahl der gelöschten Modelle')\n",
    "plt.plot(removed_instances_list, label = 'Prozentzahl der gelöschten Inserate')\n",
    "plt.axvline(250 , color = 'red', label = 'Cut-off')\n",
    "plt.ylabel('Prozentualeranteil der verbleibenden Inserate bzw. Modelle')\n",
    "plt.xlabel('Anzahl an Anzeigen pro Modell')\n",
    "plt.legend()"
   ]
  },
  {
   "cell_type": "markdown",
   "metadata": {},
   "source": [
    "Wir sind mit unsere Grenze von min. 250 Fahrzeugen zufrieden, da noch genügend Daten für eine Preisvorhersage vorhanden sind und trotzdem stark genüg reduziert wurde um die Gefahr des overfittings zu veringern. \n",
    "Wir übernehmen unsere Änderungen im Hauptdataframe. Durch das zusammenfügen von manufacturer und model können wir die beiden Spalten ebenfalls dropen."
   ]
  },
  {
   "cell_type": "code",
   "execution_count": 67,
   "metadata": {},
   "outputs": [],
   "source": [
    "df = df[df['car_model'].isin(only_common_models['car_model'].tolist())]\n",
    "df.drop('model', axis = 1, inplace = True)\n",
    "df.drop('manufacturer',axis = 1, inplace= True)\n"
   ]
  },
  {
   "cell_type": "code",
   "execution_count": 68,
   "metadata": {},
   "outputs": [
    {
     "data": {
      "text/html": [
       "<div>\n",
       "<style scoped>\n",
       "    .dataframe tbody tr th:only-of-type {\n",
       "        vertical-align: middle;\n",
       "    }\n",
       "\n",
       "    .dataframe tbody tr th {\n",
       "        vertical-align: top;\n",
       "    }\n",
       "\n",
       "    .dataframe thead th {\n",
       "        text-align: right;\n",
       "    }\n",
       "</style>\n",
       "<table border=\"1\" class=\"dataframe\">\n",
       "  <thead>\n",
       "    <tr style=\"text-align: right;\">\n",
       "      <th></th>\n",
       "      <th>price</th>\n",
       "      <th>year</th>\n",
       "      <th>condition</th>\n",
       "      <th>cylinders</th>\n",
       "      <th>fuel</th>\n",
       "      <th>odometer</th>\n",
       "      <th>transmission</th>\n",
       "      <th>drive</th>\n",
       "      <th>type</th>\n",
       "      <th>paint_color</th>\n",
       "      <th>state</th>\n",
       "      <th>posting_date</th>\n",
       "      <th>car_model</th>\n",
       "    </tr>\n",
       "  </thead>\n",
       "  <tbody>\n",
       "    <tr>\n",
       "      <th>27</th>\n",
       "      <td>33590</td>\n",
       "      <td>2014.0</td>\n",
       "      <td>good</td>\n",
       "      <td>8 cylinders</td>\n",
       "      <td>gas</td>\n",
       "      <td>57923.0</td>\n",
       "      <td>other</td>\n",
       "      <td>NaN</td>\n",
       "      <td>pickup</td>\n",
       "      <td>white</td>\n",
       "      <td>al</td>\n",
       "      <td>2021-05-04T12:31:18-0500</td>\n",
       "      <td>gmc_sierra</td>\n",
       "    </tr>\n",
       "    <tr>\n",
       "      <th>28</th>\n",
       "      <td>22590</td>\n",
       "      <td>2010.0</td>\n",
       "      <td>good</td>\n",
       "      <td>8 cylinders</td>\n",
       "      <td>gas</td>\n",
       "      <td>71229.0</td>\n",
       "      <td>other</td>\n",
       "      <td>NaN</td>\n",
       "      <td>pickup</td>\n",
       "      <td>blue</td>\n",
       "      <td>al</td>\n",
       "      <td>2021-05-04T12:31:08-0500</td>\n",
       "      <td>chevrolet_silverado</td>\n",
       "    </tr>\n",
       "    <tr>\n",
       "      <th>29</th>\n",
       "      <td>39590</td>\n",
       "      <td>2020.0</td>\n",
       "      <td>good</td>\n",
       "      <td>8 cylinders</td>\n",
       "      <td>gas</td>\n",
       "      <td>19160.0</td>\n",
       "      <td>other</td>\n",
       "      <td>NaN</td>\n",
       "      <td>pickup</td>\n",
       "      <td>red</td>\n",
       "      <td>al</td>\n",
       "      <td>2021-05-04T12:31:25-0500</td>\n",
       "      <td>chevrolet_silverado</td>\n",
       "    </tr>\n",
       "    <tr>\n",
       "      <th>30</th>\n",
       "      <td>30990</td>\n",
       "      <td>2017.0</td>\n",
       "      <td>good</td>\n",
       "      <td>8 cylinders</td>\n",
       "      <td>gas</td>\n",
       "      <td>41124.0</td>\n",
       "      <td>other</td>\n",
       "      <td>NaN</td>\n",
       "      <td>pickup</td>\n",
       "      <td>red</td>\n",
       "      <td>al</td>\n",
       "      <td>2021-05-04T10:41:31-0500</td>\n",
       "      <td>toyota_tundra</td>\n",
       "    </tr>\n",
       "    <tr>\n",
       "      <th>31</th>\n",
       "      <td>15000</td>\n",
       "      <td>2013.0</td>\n",
       "      <td>excellent</td>\n",
       "      <td>6 cylinders</td>\n",
       "      <td>gas</td>\n",
       "      <td>128000.0</td>\n",
       "      <td>automatic</td>\n",
       "      <td>rwd</td>\n",
       "      <td>truck</td>\n",
       "      <td>black</td>\n",
       "      <td>al</td>\n",
       "      <td>2021-05-03T14:02:03-0500</td>\n",
       "      <td>ford_f150</td>\n",
       "    </tr>\n",
       "  </tbody>\n",
       "</table>\n",
       "</div>"
      ],
      "text/plain": [
       "    price    year  condition    cylinders fuel  odometer transmission drive  \\\n",
       "27  33590  2014.0       good  8 cylinders  gas   57923.0        other   NaN   \n",
       "28  22590  2010.0       good  8 cylinders  gas   71229.0        other   NaN   \n",
       "29  39590  2020.0       good  8 cylinders  gas   19160.0        other   NaN   \n",
       "30  30990  2017.0       good  8 cylinders  gas   41124.0        other   NaN   \n",
       "31  15000  2013.0  excellent  6 cylinders  gas  128000.0    automatic   rwd   \n",
       "\n",
       "      type paint_color state              posting_date            car_model  \n",
       "27  pickup       white    al  2021-05-04T12:31:18-0500           gmc_sierra  \n",
       "28  pickup        blue    al  2021-05-04T12:31:08-0500  chevrolet_silverado  \n",
       "29  pickup         red    al  2021-05-04T12:31:25-0500  chevrolet_silverado  \n",
       "30  pickup         red    al  2021-05-04T10:41:31-0500        toyota_tundra  \n",
       "31   truck       black    al  2021-05-03T14:02:03-0500            ford_f150  "
      ]
     },
     "execution_count": 68,
     "metadata": {},
     "output_type": "execute_result"
    }
   ],
   "source": [
    "df.head(5)"
   ]
  },
  {
   "cell_type": "markdown",
   "metadata": {},
   "source": [
    "Wir lassen uns das aktuelle Datafield anzeigen um einen Überblick zubekommen."
   ]
  },
  {
   "cell_type": "code",
   "execution_count": 69,
   "metadata": {},
   "outputs": [
    {
     "data": {
      "text/plain": [
       "27        2021-05-04T12:31:18-0500\n",
       "28        2021-05-04T12:31:08-0500\n",
       "29        2021-05-04T12:31:25-0500\n",
       "30        2021-05-04T10:41:31-0500\n",
       "31        2021-05-03T14:02:03-0500\n",
       "                    ...           \n",
       "426875    2021-04-04T03:21:31-0600\n",
       "426876    2021-04-04T03:21:29-0600\n",
       "426877    2021-04-04T03:21:17-0600\n",
       "426878    2021-04-04T03:21:11-0600\n",
       "426879    2021-04-04T03:21:07-0600\n",
       "Name: posting_date, Length: 286356, dtype: object"
      ]
     },
     "execution_count": 69,
     "metadata": {},
     "output_type": "execute_result"
    }
   ],
   "source": [
    "df.iloc[:,11]"
   ]
  },
  {
   "cell_type": "code",
   "execution_count": 70,
   "metadata": {},
   "outputs": [
    {
     "name": "stdout",
     "output_type": "stream",
     "text": [
      "['2021-05' '2021-04']\n"
     ]
    }
   ],
   "source": [
    "i=0\n",
    "for x in df.posting_date:\n",
    "     df.iloc[i,11]=x[:7:]\n",
    "     i=i+1\n",
    "\n",
    "df\n",
    "print(df[\"posting_date\"].unique())\n"
   ]
  },
  {
   "cell_type": "markdown",
   "metadata": {},
   "source": [
    "Da alle Inserate innerhalb der letzten zwei Monaten angeboten wurden können wir die Splate 'posting_date' ebenfalls entfernen."
   ]
  },
  {
   "cell_type": "code",
   "execution_count": 71,
   "metadata": {},
   "outputs": [
    {
     "data": {
      "text/html": [
       "<div>\n",
       "<style scoped>\n",
       "    .dataframe tbody tr th:only-of-type {\n",
       "        vertical-align: middle;\n",
       "    }\n",
       "\n",
       "    .dataframe tbody tr th {\n",
       "        vertical-align: top;\n",
       "    }\n",
       "\n",
       "    .dataframe thead th {\n",
       "        text-align: right;\n",
       "    }\n",
       "</style>\n",
       "<table border=\"1\" class=\"dataframe\">\n",
       "  <thead>\n",
       "    <tr style=\"text-align: right;\">\n",
       "      <th></th>\n",
       "      <th>price</th>\n",
       "      <th>year</th>\n",
       "      <th>condition</th>\n",
       "      <th>cylinders</th>\n",
       "      <th>fuel</th>\n",
       "      <th>odometer</th>\n",
       "      <th>transmission</th>\n",
       "      <th>drive</th>\n",
       "      <th>type</th>\n",
       "      <th>paint_color</th>\n",
       "      <th>state</th>\n",
       "      <th>car_model</th>\n",
       "    </tr>\n",
       "  </thead>\n",
       "  <tbody>\n",
       "    <tr>\n",
       "      <th>27</th>\n",
       "      <td>33590</td>\n",
       "      <td>2014.0</td>\n",
       "      <td>good</td>\n",
       "      <td>8 cylinders</td>\n",
       "      <td>gas</td>\n",
       "      <td>57923.0</td>\n",
       "      <td>other</td>\n",
       "      <td>NaN</td>\n",
       "      <td>pickup</td>\n",
       "      <td>white</td>\n",
       "      <td>al</td>\n",
       "      <td>gmc_sierra</td>\n",
       "    </tr>\n",
       "    <tr>\n",
       "      <th>28</th>\n",
       "      <td>22590</td>\n",
       "      <td>2010.0</td>\n",
       "      <td>good</td>\n",
       "      <td>8 cylinders</td>\n",
       "      <td>gas</td>\n",
       "      <td>71229.0</td>\n",
       "      <td>other</td>\n",
       "      <td>NaN</td>\n",
       "      <td>pickup</td>\n",
       "      <td>blue</td>\n",
       "      <td>al</td>\n",
       "      <td>chevrolet_silverado</td>\n",
       "    </tr>\n",
       "    <tr>\n",
       "      <th>29</th>\n",
       "      <td>39590</td>\n",
       "      <td>2020.0</td>\n",
       "      <td>good</td>\n",
       "      <td>8 cylinders</td>\n",
       "      <td>gas</td>\n",
       "      <td>19160.0</td>\n",
       "      <td>other</td>\n",
       "      <td>NaN</td>\n",
       "      <td>pickup</td>\n",
       "      <td>red</td>\n",
       "      <td>al</td>\n",
       "      <td>chevrolet_silverado</td>\n",
       "    </tr>\n",
       "    <tr>\n",
       "      <th>30</th>\n",
       "      <td>30990</td>\n",
       "      <td>2017.0</td>\n",
       "      <td>good</td>\n",
       "      <td>8 cylinders</td>\n",
       "      <td>gas</td>\n",
       "      <td>41124.0</td>\n",
       "      <td>other</td>\n",
       "      <td>NaN</td>\n",
       "      <td>pickup</td>\n",
       "      <td>red</td>\n",
       "      <td>al</td>\n",
       "      <td>toyota_tundra</td>\n",
       "    </tr>\n",
       "    <tr>\n",
       "      <th>31</th>\n",
       "      <td>15000</td>\n",
       "      <td>2013.0</td>\n",
       "      <td>excellent</td>\n",
       "      <td>6 cylinders</td>\n",
       "      <td>gas</td>\n",
       "      <td>128000.0</td>\n",
       "      <td>automatic</td>\n",
       "      <td>rwd</td>\n",
       "      <td>truck</td>\n",
       "      <td>black</td>\n",
       "      <td>al</td>\n",
       "      <td>ford_f150</td>\n",
       "    </tr>\n",
       "  </tbody>\n",
       "</table>\n",
       "</div>"
      ],
      "text/plain": [
       "    price    year  condition    cylinders fuel  odometer transmission drive  \\\n",
       "27  33590  2014.0       good  8 cylinders  gas   57923.0        other   NaN   \n",
       "28  22590  2010.0       good  8 cylinders  gas   71229.0        other   NaN   \n",
       "29  39590  2020.0       good  8 cylinders  gas   19160.0        other   NaN   \n",
       "30  30990  2017.0       good  8 cylinders  gas   41124.0        other   NaN   \n",
       "31  15000  2013.0  excellent  6 cylinders  gas  128000.0    automatic   rwd   \n",
       "\n",
       "      type paint_color state            car_model  \n",
       "27  pickup       white    al           gmc_sierra  \n",
       "28  pickup        blue    al  chevrolet_silverado  \n",
       "29  pickup         red    al  chevrolet_silverado  \n",
       "30  pickup         red    al        toyota_tundra  \n",
       "31   truck       black    al            ford_f150  "
      ]
     },
     "execution_count": 71,
     "metadata": {},
     "output_type": "execute_result"
    }
   ],
   "source": [
    "df=df.drop('posting_date',axis=1)\n",
    "df.head()"
   ]
  },
  {
   "cell_type": "markdown",
   "metadata": {},
   "source": [
    "In der Splate cylinders ersetzen wir die Werte Nan durch den Median und löschen die Einträge mit der Angabe 'others'."
   ]
  },
  {
   "cell_type": "code",
   "execution_count": 72,
   "metadata": {},
   "outputs": [],
   "source": [
    "df = df[df['cylinders'] != 'other']\n",
    "dftest = df.copy()\n",
    "test = df[df['cylinders'].notnull()].copy()\n",
    "test['cylinders'] = [int(cyl.split()[0]) for cyl in test['cylinders']]\n",
    "med = test.groupby('car_model')['cylinders'].median()\n",
    "merged = pd.merge(dftest, med, on = 'car_model', how = 'left')\n",
    "merged['cylinders_y'].fillna(med.median(), inplace = True)\n",
    "merged['cylinders_x'].fillna(merged['cylinders_y'], inplace = True)\n",
    "\n",
    "li = []\n",
    "for cyl in merged['cylinders_x']:\n",
    "    if type(cyl) == str:\n",
    "        li.append(cyl)\n",
    "    else:\n",
    "        li.append(str(int(cyl)) + \" cylinders\")\n",
    "\n",
    "df['cylinders'] = li\n"
   ]
  },
  {
   "cell_type": "markdown",
   "metadata": {},
   "source": [
    "Wir fügen in der Spalte \"drive\" bei Einträgen ohne Anagbe den am häuigst auftretenden Werte ein."
   ]
  },
  {
   "cell_type": "code",
   "execution_count": 73,
   "metadata": {},
   "outputs": [],
   "source": [
    "dftest = df.copy()\n",
    "test = df[df['drive'].notnull()].copy()\n",
    "mode = test.groupby('car_model')['drive'].agg(pd.Series.mode)\n",
    "merged = pd.merge(dftest, mode, on = 'car_model', how = 'left')\n",
    "merged['drive_x'].fillna(merged['drive_y'], inplace = True)\n",
    "\n",
    "df['drive'] = merged['drive_x'].tolist()"
   ]
  },
  {
   "cell_type": "markdown",
   "metadata": {},
   "source": [
    "Selbiges führen wir für die Spalte \"type\" druch."
   ]
  },
  {
   "cell_type": "code",
   "execution_count": 74,
   "metadata": {},
   "outputs": [],
   "source": [
    "dftest = df.copy()\n",
    "test = df[df['type'].notnull()].copy()\n",
    "mode = test.groupby('car_model')['type'].agg(pd.Series.mode)\n",
    "merged = pd.merge(dftest, mode, on = 'car_model', how = 'left')\n",
    "merged['type_x'].fillna(merged['type_y'], inplace = True)\n",
    "\n",
    "df['type'] = merged['type_x'].tolist()\n"
   ]
  },
  {
   "cell_type": "markdown",
   "metadata": {},
   "source": [
    "Um zu überprüfen, ob keine weiteren Nan einträge in den Spalten vorhanden sind zählen wir die Einträge mit Nan in allen Kategorien"
   ]
  },
  {
   "cell_type": "code",
   "execution_count": 75,
   "metadata": {},
   "outputs": [
    {
     "data": {
      "text/plain": [
       "price           0\n",
       "year            0\n",
       "condition       0\n",
       "cylinders       0\n",
       "fuel            0\n",
       "odometer        0\n",
       "transmission    0\n",
       "drive           0\n",
       "type            0\n",
       "paint_color     0\n",
       "state           0\n",
       "car_model       0\n",
       "dtype: int64"
      ]
     },
     "execution_count": 75,
     "metadata": {},
     "output_type": "execute_result"
    }
   ],
   "source": [
    "df.isnull().sum()"
   ]
  },
  {
   "cell_type": "markdown",
   "metadata": {},
   "source": [
    "Einträge die einen untypisch hohen Preis (dreifcher Durchschnittspreis) haben, entfernen wir ebenfalls aus dem Datensatz."
   ]
  },
  {
   "cell_type": "code",
   "execution_count": 76,
   "metadata": {},
   "outputs": [],
   "source": [
    "df = df[df['price'] < (3 * df.groupby('car_model')['price'].transform('mean'))]"
   ]
  },
  {
   "cell_type": "markdown",
   "metadata": {},
   "source": [
    "Um eine Vorstellung zu bekommen wieviele Einträge und Spalten wir durch unsere Eingrenzungsmaßnahemn entferen konnten lassen wir uns erneut die Dimensionen des Dataframes anzeigen. Wir konnten von einem die Einträge im Dataframe von 426880 x 26 auf 284827 x 12 reduzieren."
   ]
  },
  {
   "cell_type": "code",
   "execution_count": 77,
   "metadata": {},
   "outputs": [
    {
     "data": {
      "text/plain": [
       "(284827, 12)"
      ]
     },
     "execution_count": 77,
     "metadata": {},
     "output_type": "execute_result"
    }
   ],
   "source": [
    "df.shape"
   ]
  },
  {
   "cell_type": "code",
   "execution_count": 78,
   "metadata": {},
   "outputs": [
    {
     "data": {
      "text/html": [
       "<div>\n",
       "<style scoped>\n",
       "    .dataframe tbody tr th:only-of-type {\n",
       "        vertical-align: middle;\n",
       "    }\n",
       "\n",
       "    .dataframe tbody tr th {\n",
       "        vertical-align: top;\n",
       "    }\n",
       "\n",
       "    .dataframe thead th {\n",
       "        text-align: right;\n",
       "    }\n",
       "</style>\n",
       "<table border=\"1\" class=\"dataframe\">\n",
       "  <thead>\n",
       "    <tr style=\"text-align: right;\">\n",
       "      <th></th>\n",
       "      <th>price</th>\n",
       "      <th>year</th>\n",
       "      <th>condition</th>\n",
       "      <th>cylinders</th>\n",
       "      <th>fuel</th>\n",
       "      <th>odometer</th>\n",
       "      <th>transmission</th>\n",
       "      <th>drive</th>\n",
       "      <th>type</th>\n",
       "      <th>paint_color</th>\n",
       "      <th>state</th>\n",
       "      <th>car_model</th>\n",
       "    </tr>\n",
       "  </thead>\n",
       "  <tbody>\n",
       "    <tr>\n",
       "      <th>27</th>\n",
       "      <td>33590</td>\n",
       "      <td>2014.0</td>\n",
       "      <td>good</td>\n",
       "      <td>8 cylinders</td>\n",
       "      <td>gas</td>\n",
       "      <td>57923.0</td>\n",
       "      <td>other</td>\n",
       "      <td>4wd</td>\n",
       "      <td>pickup</td>\n",
       "      <td>white</td>\n",
       "      <td>al</td>\n",
       "      <td>gmc_sierra</td>\n",
       "    </tr>\n",
       "    <tr>\n",
       "      <th>28</th>\n",
       "      <td>22590</td>\n",
       "      <td>2010.0</td>\n",
       "      <td>good</td>\n",
       "      <td>8 cylinders</td>\n",
       "      <td>gas</td>\n",
       "      <td>71229.0</td>\n",
       "      <td>other</td>\n",
       "      <td>4wd</td>\n",
       "      <td>pickup</td>\n",
       "      <td>blue</td>\n",
       "      <td>al</td>\n",
       "      <td>chevrolet_silverado</td>\n",
       "    </tr>\n",
       "    <tr>\n",
       "      <th>29</th>\n",
       "      <td>39590</td>\n",
       "      <td>2020.0</td>\n",
       "      <td>good</td>\n",
       "      <td>8 cylinders</td>\n",
       "      <td>gas</td>\n",
       "      <td>19160.0</td>\n",
       "      <td>other</td>\n",
       "      <td>4wd</td>\n",
       "      <td>pickup</td>\n",
       "      <td>red</td>\n",
       "      <td>al</td>\n",
       "      <td>chevrolet_silverado</td>\n",
       "    </tr>\n",
       "    <tr>\n",
       "      <th>30</th>\n",
       "      <td>30990</td>\n",
       "      <td>2017.0</td>\n",
       "      <td>good</td>\n",
       "      <td>8 cylinders</td>\n",
       "      <td>gas</td>\n",
       "      <td>41124.0</td>\n",
       "      <td>other</td>\n",
       "      <td>4wd</td>\n",
       "      <td>pickup</td>\n",
       "      <td>red</td>\n",
       "      <td>al</td>\n",
       "      <td>toyota_tundra</td>\n",
       "    </tr>\n",
       "    <tr>\n",
       "      <th>31</th>\n",
       "      <td>15000</td>\n",
       "      <td>2013.0</td>\n",
       "      <td>excellent</td>\n",
       "      <td>6 cylinders</td>\n",
       "      <td>gas</td>\n",
       "      <td>128000.0</td>\n",
       "      <td>automatic</td>\n",
       "      <td>rwd</td>\n",
       "      <td>truck</td>\n",
       "      <td>black</td>\n",
       "      <td>al</td>\n",
       "      <td>ford_f150</td>\n",
       "    </tr>\n",
       "  </tbody>\n",
       "</table>\n",
       "</div>"
      ],
      "text/plain": [
       "    price    year  condition    cylinders fuel  odometer transmission drive  \\\n",
       "27  33590  2014.0       good  8 cylinders  gas   57923.0        other   4wd   \n",
       "28  22590  2010.0       good  8 cylinders  gas   71229.0        other   4wd   \n",
       "29  39590  2020.0       good  8 cylinders  gas   19160.0        other   4wd   \n",
       "30  30990  2017.0       good  8 cylinders  gas   41124.0        other   4wd   \n",
       "31  15000  2013.0  excellent  6 cylinders  gas  128000.0    automatic   rwd   \n",
       "\n",
       "      type paint_color state            car_model  \n",
       "27  pickup       white    al           gmc_sierra  \n",
       "28  pickup        blue    al  chevrolet_silverado  \n",
       "29  pickup         red    al  chevrolet_silverado  \n",
       "30  pickup         red    al        toyota_tundra  \n",
       "31   truck       black    al            ford_f150  "
      ]
     },
     "execution_count": 78,
     "metadata": {},
     "output_type": "execute_result"
    }
   ],
   "source": [
    "df.head()"
   ]
  },
  {
   "cell_type": "markdown",
   "metadata": {},
   "source": [
    "Wir erstellen eine Kopie des Dataframes um es erneut herstellen zukönnen. Und erstellen die csv Datei clean."
   ]
  },
  {
   "cell_type": "code",
   "execution_count": 79,
   "metadata": {},
   "outputs": [],
   "source": [
    "clean = df.copy()"
   ]
  },
  {
   "cell_type": "code",
   "execution_count": 80,
   "metadata": {},
   "outputs": [],
   "source": [
    "df.to_csv('clean.csv', index = False)"
   ]
  },
  {
   "cell_type": "markdown",
   "metadata": {},
   "source": [
    "Wir trennen für unsere späteren Modelle unsere Daten nun in Testdaten und Trainingsdaten, wobei 80% der Daten für das Training verwenden, da wir diesen Wert häufig online gefunden werden. Damit das auftrennen der Daten nicht immer neu programmiert werden müssen, haben wir dies hier in eine Schleife gemacht. Innerhalb dieser haben wir die Daten dann noch zur Fehlervermeidung und um die Performance (für Modelle wie Linear Regression, K-nearest neighbors or support vector machines)zu verbessern mit StandardScalar standartisiert. \n",
    "Am Ende lassen wir uns dann noch die Abweichungen beziehungsweise die Genauigkeit der Vorhersagen sowohl der Trainingsdaten, als auch der Testdaten Anzeigen.\n",
    "\"Mae\" ist dabei der absolute Fehler, \"mse\" der quadratische Fehler und \"mape\" der absolute Fehler in Prozent. r^2 sagt uns dabei zusätzlich, wie gut unsere Vorhersage die wirklichen Daten wiederspiegelt. Des weiteren lassen wir uns den Betrag der Abweichung in Prozent zu den jeweiligen Fahrzeug Modellen anzeigen. Ebenfalls wir die häufigkeit der Fahrzeuge als auch die aufsummierte prozentuale Abweichung angezeigt."
   ]
  },
  {
   "cell_type": "code",
   "execution_count": 153,
   "metadata": {},
   "outputs": [],
   "source": [
    "\n",
    "def updateModel(df, test_percentage = 0.2, seed = 7):\n",
    "    \n",
    "   \n",
    "    X = df.drop('price', axis = 1)\n",
    "    y = df['price']\n",
    "    X_train, X_test, y_train, y_test = train_test_split(X, y, test_size = test_percentage, random_state = seed)\n",
    "    X_train = pd.get_dummies(X_train, drop_first = True)\n",
    "    X_test = pd.get_dummies(X_test, drop_first = True)\n",
    "    \n",
    "   \n",
    "    sc = StandardScaler()\n",
    "    X_train = sc.fit_transform(X_train)\n",
    "    X_test = sc.transform(X_test)\n",
    "    \n",
    "  \n",
    "    reg.fit(X_train, y_train)\n",
    "    y_pred_test = reg.predict(X_test)\n",
    "    y_pred_train = reg.predict(X_train)\n",
    "   \n",
    "   \n",
    "    if 'car_model' in X.columns:\n",
    "       diff=pd.DataFrame(round(((y_pred_test/y_test)-1)*100,2))\n",
    "       X['diff in %']=diff     \n",
    "       X_clean=X[X['diff in %'].notna()] \n",
    "       X_clean=pd.DataFrame(X_clean)\n",
    "       predicted=X_clean\n",
    "       predicted['price']=y_test\n",
    "       X_clean=X_clean.reset_index()\n",
    "       X_clean=X_clean.drop('index',axis=1)\n",
    "       result=pd.DataFrame(X_clean['car_model'].unique())\n",
    "       result[1]=0\n",
    "       result[2]=0\n",
    "       z=0\n",
    "       count1=0\n",
    "       count2=0\n",
    "     \n",
    "\n",
    "       for p in X_clean['car_model']:\n",
    "              for k in result[0]:\n",
    "                     if p in k:\n",
    "                            result.loc[count2,1]=result.loc[count2,1]+ X_clean.loc[count1,'diff in %']\n",
    "                            result.loc[count2,2]=result.loc[count2,2]+1\n",
    "                     count2=count2+1\n",
    "              count2=0\n",
    "              count1=count1+1  \n",
    "                     \n",
    "       result[3]=result[1]/result[2]\n",
    "       result[3]=abs(result[3])\n",
    "       result=result.sort_values(3)\n",
    "       result.columns = ['car_model','sum %', 'amount','absolute deviation ']\n",
    "       print(result)\n",
    "\n",
    "    \n",
    "   \n",
    "   \n",
    "    test_metrics = {#'r2': round(r2_score(y_test, y_pred_test) * 100, 2),\n",
    "           'mae': round(mean_absolute_error(y_test, y_pred_test), 2),\n",
    "           #'mse': round(mean_squared_error(y_test, y_pred_test), 2),\n",
    "           'mape': round(mean_absolute_percentage_error(y_test, y_pred_test) * 100, 2)\n",
    "           }\n",
    "    train_metrics = {#'r2': round(r2_score(y_train, y_pred_train) * 100, 2),\n",
    "           'mae': round(mean_absolute_error(y_train, y_pred_train), 2),\n",
    "           #'mse': round(mean_squared_error(y_train, y_pred_train), 2),\n",
    "           'mape': round(mean_absolute_percentage_error(y_train, y_pred_train) * 100, 2)\n",
    "           }\n",
    "    \n",
    "    return {'test_metrics': test_metrics,\n",
    "            'train_metrics': train_metrics,\n",
    "            'predicted': predicted,\n",
    "            }\n",
    "            \n",
    "            "
   ]
  },
  {
   "cell_type": "markdown",
   "metadata": {},
   "source": [
    "Damit unsere Daten innerhalb eines Modells nicht zu einseitig trainiert werden, zum Beispiel nur auf günstigen oder nur auf teuren Autos, splitten wir die gesamten Daten in fünf \"Gruppen\" auf, aus denen wir unsere Testdaten und unsere  Trainingsdaten in unserer Funktion (ein Feld oben drüber) dann trainieren."
   ]
  },
  {
   "cell_type": "code",
   "execution_count": 82,
   "metadata": {},
   "outputs": [],
   "source": [
    "def get_kCVscores(datafr, k = 5, scoring = 'neg_mean_absolute_error'):\n",
    "    X = datafr.drop('price', axis = 1)\n",
    "    X = pd.get_dummies(X, drop_first = True)\n",
    "    y = datafr['price']\n",
    "    return (cross_val_score(reg, X, y, cv = k, scoring = scoring) * (-1))"
   ]
  },
  {
   "cell_type": "markdown",
   "metadata": {},
   "source": [
    "Mit K-Means Clustern wir unsere Daten. K-Means hat den Vorteil,dass es die Daten relativ schnell clustert, solange diese nicht zu komplex sind. Dies ist hier der Fall. "
   ]
  },
  {
   "cell_type": "code",
   "execution_count": 83,
   "metadata": {},
   "outputs": [],
   "source": [
    "def k_means_clustering(datafr, k):\n",
    "    df_to_return = datafr.copy()\n",
    "    df_with_dummies = pd.get_dummies(datafr, drop_first = True)\n",
    "    km = KMeans(n_clusters = k)\n",
    "    df_to_return['cluster'] = km.fit_predict(df_with_dummies)\n",
    "    \n",
    "    return df_to_return"
   ]
  },
  {
   "cell_type": "markdown",
   "metadata": {},
   "source": [
    "Die lineare Regression ist ein einfaches Modell, weswegen es auch nur eine sehr kurze Rechenzeit benötigt. Dafür hat es im gegenzug teilweise auch relativ große Abweichungen bei seiner Vorhersage (mae= 4494.54).[1]"
   ]
  },
  {
   "cell_type": "code",
   "execution_count": 84,
   "metadata": {},
   "outputs": [],
   "source": [
    "reg = LinearRegression()"
   ]
  },
  {
   "cell_type": "code",
   "execution_count": 170,
   "metadata": {},
   "outputs": [
    {
     "name": "stdout",
     "output_type": "stream",
     "text": [
      "             car_model      sum %  amount  absolute deviation \n",
      "211     volkswagen_gti      -1.92      61             0.031475\n",
      "47        infiniti_q60      -4.40      62             0.070968\n",
      "116       cadillac_xts     -11.20      50             0.224000\n",
      "13        jaguar_epace     -44.25      83             0.533133\n",
      "88           subaru_xv     -39.61      59             0.671356\n",
      "..                 ...        ...     ...                  ...\n",
      "154       cadillac_xt5   41843.50      71           589.345070\n",
      "199        rover_sport   44335.48      68           651.992353\n",
      "207   volkswagen_atlas   67285.74      72           934.524167\n",
      "148  volkswagen_tiguan  147399.21     154           957.137727\n",
      "167      dodge_charger  411576.52     380          1083.096105\n",
      "\n",
      "[227 rows x 4 columns]\n",
      "test performance: {'mae': 4494.54, 'mape': 178.22}\n",
      "initial test performance: {'mae': 4494.54, 'mape': 178.22}\n",
      "\n",
      "train performance: {'mae': 4481.22, 'mape': 174.43}\n",
      "initial train performance: {'mae': 4481.22, 'mape': 174.43}\n",
      "\n",
      "change in test MAE: 0.0 %\n"
     ]
    }
   ],
   "source": [
    "init_metrics = updateModel(df)\n",
    "def print_metrics(metrics):\n",
    "    print('test performance:', metrics['test_metrics'])    \n",
    "    print('initial test performance:', init_metrics['test_metrics'])\n",
    "    print()\n",
    "    print('train performance:', metrics['train_metrics'])\n",
    "    print('initial train performance:', init_metrics['train_metrics'])\n",
    "    print()\n",
    "    print('change in test MAE:', round((init_metrics['test_metrics']['mae'] - metrics['test_metrics']['mae']) / \n",
    "      (init_metrics['test_metrics']['mae']) * 100, 2), '%')\n",
    "print_metrics(init_metrics)\n",
    "prediction=(init_metrics['predicted'])"
   ]
  },
  {
   "cell_type": "code",
   "execution_count": 175,
   "metadata": {},
   "outputs": [
    {
     "name": "stdout",
     "output_type": "stream",
     "text": [
      "      year      condition    cylinders   fuel  odometer transmission drive  \\\n",
      "38  2017.0           good  6 cylinders    gas   40022.0    automatic   rwd   \n",
      "23  2017.0           good  6 cylinders  other   33011.0        other   rwd   \n",
      "61  2017.0           good  6 cylinders    gas   67004.0        other   rwd   \n",
      "1   2017.0           good  6 cylinders    gas   67004.0        other   rwd   \n",
      "2   2017.0           good  6 cylinders    gas   67004.0        other   rwd   \n",
      "..     ...            ...          ...    ...       ...          ...   ...   \n",
      "40  2019.0           good  6 cylinders    gas   13785.0        other   rwd   \n",
      "52  2019.0           good  6 cylinders    gas    7396.0        other   rwd   \n",
      "54  2019.0           good  6 cylinders    gas    7396.0        other   rwd   \n",
      "30  2019.0           good  6 cylinders    gas    7396.0        other   rwd   \n",
      "22  2019.0  not specified  6 cylinders    gas   15461.0    automatic   rwd   \n",
      "\n",
      "     type paint_color state     car_model  diff in %  price  \n",
      "38  coupe       black    ny  infiniti_q60      10.22  26990  \n",
      "23  coupe        blue    il  infiniti_q60      13.27  27590  \n",
      "61  coupe       black    tx  infiniti_q60       4.67  28590  \n",
      "1   coupe       black    al  infiniti_q60       4.58  28590  \n",
      "2   coupe       black    az  infiniti_q60       8.02  28590  \n",
      "..    ...         ...   ...           ...        ...    ...  \n",
      "40  coupe     unknown    ny  infiniti_q60     -17.30  39990  \n",
      "52  coupe        blue    sc  infiniti_q60     -19.77  44590  \n",
      "54  coupe        blue    tn  infiniti_q60     -19.99  44590  \n",
      "30  coupe        blue    la  infiniti_q60     -21.38  44590  \n",
      "22  coupe      yellow    hi  infiniti_q60     -26.32  45988  \n",
      "\n",
      "[62 rows x 13 columns]\n",
      "Die Differenz zwischen maximalen und minimalen Preis liegt bei: 18998\n",
      "Der prozentuale Unterschied zwischen maximalen und minimalen Preis liegt bei: 170.38903297517598\n"
     ]
    }
   ],
   "source": [
    "prediction=pd.DataFrame(prediction)\n",
    "good = prediction[(prediction['car_model'] == 'infiniti_q60')]\n",
    "good=good.reset_index()\n",
    "good=good.drop('index',axis=1)\n",
    "good=good.sort_values('price')\n",
    "max_diff=max(good['price'])-min(good['price'])\n",
    "diff_prc=max(good['price'])/min(good['price'])*100  \n",
    "print(good)   \n",
    "print('Die Differenz zwischen maximalen und minimalen Preis liegt bei:', max_diff)\n",
    "print('Der prozentuale Unterschied zwischen maximalen und minimalen Preis liegt bei:', diff_prc)"
   ]
  },
  {
   "cell_type": "code",
   "execution_count": 174,
   "metadata": {},
   "outputs": [
    {
     "name": "stdout",
     "output_type": "stream",
     "text": [
      "       year      condition    cylinders   fuel  odometer transmission drive  \\\n",
      "288  2013.0  not specified  6 cylinders    gas  164463.0    automatic   4wd   \n",
      "0    2017.0  not specified  6 cylinders    gas   20120.0    automatic   rwd   \n",
      "282  2017.0  not specified  6 cylinders    gas   21347.0    automatic   rwd   \n",
      "73   2017.0  not specified  6 cylinders    gas   21088.0    automatic   rwd   \n",
      "277  2017.0  not specified  6 cylinders    gas   21933.0    automatic   rwd   \n",
      "..      ...            ...          ...    ...       ...          ...   ...   \n",
      "227  2018.0           good  6 cylinders  other   12281.0        other   rwd   \n",
      "285  2016.0      excellent  8 cylinders    gas   19886.0    automatic   rwd   \n",
      "116  2019.0  not specified  6 cylinders    gas   11898.0    automatic   rwd   \n",
      "299  2020.0           good  8 cylinders    gas    2175.0    automatic   rwd   \n",
      "359  2020.0  not specified  6 cylinders    gas    1413.0    automatic   rwd   \n",
      "\n",
      "      type paint_color state      car_model  diff in %  price  \n",
      "288  sedan     unknown    or  dodge_charger    5546.82    174  \n",
      "0    sedan     unknown    al  dodge_charger   10711.27    199  \n",
      "282  sedan     unknown    ok  dodge_charger   10866.09    199  \n",
      "73   sedan     unknown    dc  dodge_charger   10432.62    199  \n",
      "277  sedan     unknown    ok  dodge_charger   10848.84    199  \n",
      "..     ...         ...   ...            ...        ...    ...  \n",
      "227  sedan     unknown    nj  dodge_charger     -41.63  40990  \n",
      "285  sedan       black    or  dodge_charger     -46.44  44900  \n",
      "116  sedan     unknown    il  dodge_charger     -47.87  44964  \n",
      "299  sedan       white    ri  dodge_charger     -33.87  44990  \n",
      "359  sedan       white    va  dodge_charger     -39.18  45995  \n",
      "\n",
      "[380 rows x 13 columns]\n",
      "Die Differenz zwischen maximalen und minimalen Preis liegt bei: 45821\n",
      "Der prozentuale Unterschied zwischen maximalen und minimalen Preis liegt bei: 26433.908045977012\n"
     ]
    }
   ],
   "source": [
    "prediction=pd.DataFrame(prediction)\n",
    "bad = prediction[(prediction['car_model'] == 'dodge_charger')]\n",
    "bad=bad.reset_index()\n",
    "bad=bad.drop('index',axis=1)\n",
    "bad=bad.sort_values('price')\n",
    "max_diff=max(bad['price'])-min(bad['price']) \n",
    "diff_prc=max(bad['price'])/min(bad['price'])*100 \n",
    "print(bad)   \n",
    "print('Die Differenz zwischen maximalen und minimalen Preis liegt bei:', max_diff)\n",
    "print('Der prozentuale Unterschied zwischen maximalen und minimalen Preis liegt bei:', diff_prc)"
   ]
  },
  {
   "cell_type": "markdown",
   "metadata": {},
   "source": [
    "Nun werden die Staaten durch ihre jeweilige Region, wie Westen,Süden,Südwesten und soweiter ersetzt und in einem Dataframe gespeichert. "
   ]
  },
  {
   "cell_type": "code",
   "execution_count": null,
   "metadata": {},
   "outputs": [],
   "source": [
    "regions_dict = {\"state\": [\"al\",\"ak\",\"az\",\"ar\",\"ca\",\"co\",\"ct\",\"de\",\"dc\",\"fl\",\"ga\",\"hi\",\"id\",\"il\",\"in\",\"ia\",\"ks\",\"ky\",\"la\",\"me\",\"md\",\"ma\",\"mi\",\"mn\",\"ms\",\"mo\",\"mt\",\"ne\",\"nv\",\"nh\",\"nj\",\"nm\",\"ny\",\"nc\",\"nd\",\"oh\",\"ok\",\"or\",\"pa\",\"ri\",\"sc\",\"sd\",\"tn\",\"tx\",\"ut\",\"vt\",\"va\",\"wa\",\"wv\",\"wi\",\"wy\"], \n",
    "         \"region\": [\"south\",\"west\",\"west\",\"south\",\"west\",\"west\",\"north-east\",\"south\",\"south\",\"south\",\"south\",\"west\",\"west\",\"mid-west\",\"mid-west\",\"mid-west\",\"mid-west\",\"south\",\"south\",\"north-east\",\"south\",\"north-east\",\"mid-west\",\"mid-west\",\"south\",\"mid-west\",\"west\",\"mid-west\",\"west\",\"north-east\",\"north-east\",\"west\",\"north-east\",\"south\",\"mid-west\",\"mid-west\",\"south\",\"west\",\"north-east\",\"north-east\",\"south\",\"mid-west\",\"south\",\"south\",\"west\",\"north-east\",\"south\",\"west\",\"south\",\"mid-west\",\"west\"]}\n",
    "dfState = pd.merge(df, pd.DataFrame(regions_dict), on = 'state', how = 'left').drop('state', axis = 1)\n",
    "dfState"
   ]
  },
  {
   "cell_type": "markdown",
   "metadata": {},
   "source": [
    "Mit dem auf Regionen veränderten Dataframe testen wir nur erneut die Performance."
   ]
  },
  {
   "cell_type": "code",
   "execution_count": null,
   "metadata": {},
   "outputs": [],
   "source": [
    "binned_states_metrics = updateModel(dfState)\n",
    "print_metrics(binned_states_metrics)"
   ]
  },
  {
   "cell_type": "markdown",
   "metadata": {},
   "source": [
    "Da der Einfluss ob die Region oder der Staat im Dataframe ist, sehr klein (-0.08%) ist, kann dieser im weiteren vorgehen wahrscheinlich vernachlässigt werden. Um diese Hypothese zu überprüfen, erstellen wir den Dataframe ohne state."
   ]
  },
  {
   "cell_type": "code",
   "execution_count": null,
   "metadata": {},
   "outputs": [],
   "source": [
    "dfDropState = df.drop('state', axis = 1)\n",
    "dfDropState"
   ]
  },
  {
   "cell_type": "markdown",
   "metadata": {},
   "source": [
    "Mit diesen Dataframe wird erneut das Modell getestet und der Einfluss ist mit -0,69% wirklich sehr gering."
   ]
  },
  {
   "cell_type": "code",
   "execution_count": null,
   "metadata": {},
   "outputs": [],
   "source": [
    "drop_state_metrics = updateModel(dfDropState)\n",
    "print_metrics(drop_state_metrics)"
   ]
  },
  {
   "cell_type": "code",
   "execution_count": null,
   "metadata": {},
   "outputs": [],
   "source": [
    "dfNoCarModel = df.drop('car_model', axis = 1)\n",
    "dfNoCarModel"
   ]
  },
  {
   "cell_type": "markdown",
   "metadata": {},
   "source": [
    "Als nächstes lassen wir das Fahrzeugmodell weg um die größe des Einflusses zu testen. Hierbei können wir eine Verschlechterung von 17.11% feststellen."
   ]
  },
  {
   "cell_type": "code",
   "execution_count": null,
   "metadata": {},
   "outputs": [],
   "source": [
    "no_car_model_metrics = updateModel(dfNoCarModel)\n",
    "print_metrics(no_car_model_metrics)"
   ]
  },
  {
   "cell_type": "markdown",
   "metadata": {},
   "source": [
    "Als nächstes wird der Einfluss vom Car_model ähnlich dem vom state getestet. Nur dieses mal wird direkt die Spalte car_model gedroppt und in einen Dataframe gespeichert."
   ]
  },
  {
   "cell_type": "code",
   "execution_count": null,
   "metadata": {},
   "outputs": [],
   "source": [
    "dfAge = df.copy()\n",
    "dfAge['age'] = [2022 - x for x in df['year'].tolist()]\n",
    "dfAge.drop('year', axis=1, inplace = True)\n",
    "dfAge"
   ]
  },
  {
   "cell_type": "markdown",
   "metadata": {},
   "source": [
    "Anhand einer Grafik lässt sich bis zu einem gewissen Alter ein abfallender Preis feststellen. Dies lässt sich dadurch erklären, dass zum einen Oldtimer wieder im Wert steigen und zum anderen die Preise soweit gesunken sind, sodass der Wertverlust keinen großen Einfluss mehr hat."
   ]
  },
  {
   "cell_type": "code",
   "execution_count": null,
   "metadata": {},
   "outputs": [],
   "source": [
    "dfAgeCat = dfAge.copy()\n",
    "thresholds = [20,15,14,13,12,11,10,9,8,7,6,5,4,3,2,1]\n",
    "groups = ['over 20','15-20','14','13','12','11','10','9','8','7','6','5','4','3','2','1']\n",
    "\n",
    "x = (dfAgeCat.groupby(['age'],as_index = False).mean())['age'].tolist()\n",
    "y = (dfAgeCat.groupby(['age'],as_index = False).mean())['price'].tolist()\n",
    "fig = plt.figure(figsize=[10,5])\n",
    "plt.ylabel('Mean price')\n",
    "plt.xlabel('Age (years)')\n",
    "plt.bar(x, y, width=1)\n",
    "for t in thresholds:\n",
    "    plt.axvline(t-0.5, color = 'red')\n",
    "\n",
    "plt.axvline(-0.5, color = 'red')\n",
    "plt.axvline(21.5, color = 'red')"
   ]
  },
  {
   "cell_type": "markdown",
   "metadata": {},
   "source": [
    "Die Fahrzeuge werden nun nach ihrem Alter in Gruppen eingeteilt und der neue Dataframe wird dann auf seine Performance getestet."
   ]
  },
  {
   "cell_type": "code",
   "execution_count": null,
   "metadata": {},
   "outputs": [],
   "source": [
    "arr = np.array(dfAgeCat['age'].tolist())\n",
    "for t in thresholds:\n",
    "    prevArr = arr\n",
    "    arr = np.where(prevArr >= t, -t, prevArr)\n",
    "    \n",
    "prevArr = arr\n",
    "dfAgeCat['age_group'] = np.where(prevArr >= 0, 'new', prevArr).tolist()\n",
    "\n",
    "for i in range(len(thresholds)):\n",
    "     toReplace = str(float(-thresholds[i]))\n",
    "     dfAgeCat['age_group'].replace(toReplace, groups[i], inplace =  True)\n",
    "\n",
    "dfAgeCat.drop('age', axis=1, inplace=True)    \n",
    "print(dfAgeCat['age_group'].unique())\n",
    "dfAgeCat"
   ]
  },
  {
   "cell_type": "code",
   "execution_count": null,
   "metadata": {},
   "outputs": [],
   "source": [
    "age_cat_metrics = updateModel(dfAgeCat)\n",
    "print_metrics(age_cat_metrics)"
   ]
  },
  {
   "cell_type": "markdown",
   "metadata": {},
   "source": [
    "Mit der nachfolgenden Schleife wird der Einfluss der restlichen Spalten auf den Preis grafisch dargestellt."
   ]
  },
  {
   "cell_type": "code",
   "execution_count": null,
   "metadata": {},
   "outputs": [],
   "source": [
    "dfPlots = dfAge.copy()\n",
    "for feat in dfAgeCat.drop(['price','odometer','car_model','age_group'], axis = 1).columns:\n",
    "    print(feat)\n",
    "    x = (dfPlots.groupby(feat, as_index = False).mean()).sort_values(by = ['price'])[feat]\n",
    "    y = (dfPlots.groupby(feat, as_index = False).mean()).sort_values(by = ['price'])['price']\n",
    "    fig = plt.figure(figsize=[10,5])\n",
    "    plt.xlabel(feat)\n",
    "    plt.ylabel('Mean price')\n",
    "    plt.xticks(rotation = 90)\n",
    "    plt.bar(x, y, width=1)\n",
    "    plt.show()"
   ]
  },
  {
   "cell_type": "markdown",
   "metadata": {},
   "source": [
    "Die Gruppe good und not specified werden in einer Gruppe zusammengefasst und den anderen Integerwerte als neuen Namen für das Model zugeordnet.\n",
    "Mit dem daraus resultierenden Dataframe wird wieder der Einfluss auf das Model getestet."
   ]
  },
  {
   "cell_type": "code",
   "execution_count": null,
   "metadata": {},
   "outputs": [],
   "source": [
    "dfCondition = df.copy()\n",
    "\n",
    "dfCondition['condition'].replace('new', 6, inplace =  True)\n",
    "dfCondition['condition'].replace('like new', 5, inplace =  True)\n",
    "dfCondition['condition'].replace('excellent', 4, inplace =  True)\n",
    "dfCondition['condition'].replace('good', 3, inplace =  True)\n",
    "dfCondition['condition'].replace('fair', 2, inplace =  True)\n",
    "dfCondition['condition'].replace('salvage', 1, inplace =  True)\n",
    "dfCondition['condition'].replace('not specified', 3, inplace =  True)\n",
    "dfCondition['condition'].unique()"
   ]
  },
  {
   "cell_type": "code",
   "execution_count": null,
   "metadata": {},
   "outputs": [],
   "source": [
    "condition_metrics = updateModel(dfCondition)\n",
    "print_metrics(condition_metrics)"
   ]
  },
  {
   "cell_type": "markdown",
   "metadata": {},
   "source": [
    "Als nächstes soll der Einfluss der Zylinder auf die Preise getestet werden."
   ]
  },
  {
   "cell_type": "code",
   "execution_count": null,
   "metadata": {},
   "outputs": [],
   "source": [
    "dfNoCyl = df.drop('cylinders', axis = 1)\n",
    "dfNoCyl"
   ]
  },
  {
   "cell_type": "code",
   "execution_count": null,
   "metadata": {},
   "outputs": [],
   "source": [
    "no_cyl_metrics = updateModel(dfNoCyl)\n",
    "print_metrics(no_cyl_metrics)"
   ]
  },
  {
   "cell_type": "markdown",
   "metadata": {},
   "source": [
    "Als nächstes soll der Einfluss des Fahrzeugtyps auf die Preise getestet werden."
   ]
  },
  {
   "cell_type": "code",
   "execution_count": null,
   "metadata": {},
   "outputs": [],
   "source": [
    "dfNoType = df.drop('type', axis = 1)\n",
    "dfNoType"
   ]
  },
  {
   "cell_type": "code",
   "execution_count": null,
   "metadata": {},
   "outputs": [],
   "source": [
    "no_type_metrics = updateModel(dfNoType)\n",
    "print_metrics(no_type_metrics)"
   ]
  },
  {
   "cell_type": "markdown",
   "metadata": {},
   "source": [
    "Aus den Tests ergab sich, dass nur das zusammenfassen nach Alter einen positiven Einfluss auf das Model hatte."
   ]
  },
  {
   "cell_type": "code",
   "execution_count": null,
   "metadata": {},
   "outputs": [],
   "source": [
    "df = dfAgeCat"
   ]
  },
  {
   "cell_type": "markdown",
   "metadata": {},
   "source": [
    "Mit dem upgedateten Dataframe wird nun erneut die lineare Regression getestet."
   ]
  },
  {
   "cell_type": "code",
   "execution_count": null,
   "metadata": {},
   "outputs": [],
   "source": [
    "reg = LinearRegression()\n",
    "initLR = updateModel(df)\n",
    "print_metrics(initLR)"
   ]
  },
  {
   "cell_type": "markdown",
   "metadata": {},
   "source": [
    "Als nächstes werden Ensemble Methoden betrachtet. Bei Ensemble Methoden werden einfache Modelle\n",
    "kombiniert, um eine gute Vorhersagegenauigkeit und eine hohe Robustheit zu erhalten. Vorerst werden nur\n",
    "eine kleine Anzahl an Estimator und maximaler Tiefe eingestellt. Somit können die Trainingszeiten gering\n",
    "gehalten werden.\n",
    "Betrachtet wird der RandomForestClassifier. Den Random_state setzen wir fest, damit dieser auch bei mehrfacher durchführung reproduzierbar ist.[2]"
   ]
  },
  {
   "cell_type": "code",
   "execution_count": null,
   "metadata": {},
   "outputs": [],
   "source": [
    "reg = RandomForestRegressor(n_estimators = 20, random_state = 42)\n",
    "initRF = updateModel(df)\n",
    "print_metrics(initRF)"
   ]
  },
  {
   "cell_type": "markdown",
   "metadata": {},
   "source": [
    "Um ein repräsentativeres Ergebnis zu erhalten und das Model zuverlässiger zu machen, unterteilen wir die Daten in  fünf (Standartwert) unterschiedliche kleinere Datenpakete, auf denen wir das Model testen."
   ]
  },
  {
   "cell_type": "code",
   "execution_count": null,
   "metadata": {},
   "outputs": [],
   "source": [
    "kcv = get_kCVscores(df)\n",
    "kcv\n",
    "print('Cross validated MAE mean:', kcv.mean())\n",
    "print('Cross validated MAE standard deviation:', kcv.std())"
   ]
  },
  {
   "cell_type": "markdown",
   "metadata": {},
   "source": [
    "Zum Vergleich wird nun der RandomForestRegressor mit mehr Verzweigungen getestet und angezeigt. "
   ]
  },
  {
   "cell_type": "code",
   "execution_count": null,
   "metadata": {},
   "outputs": [],
   "source": [
    "reg = RandomForestRegressor(n_estimators = 100, random_state = 42)\n",
    "init100RF = updateModel(df)\n",
    "print_metrics(init100RF)"
   ]
  },
  {
   "cell_type": "markdown",
   "metadata": {},
   "source": [
    "Betrachtet wird ein Classifier der mit Neuronalen Netzen arbeitet. Neuronale Netze können nichtlineare Modelle\n",
    "und Modelle in Echtzeit lernen. Zunächst wird ein ungeclustertes Datenset trainiert.[3]"
   ]
  },
  {
   "cell_type": "code",
   "execution_count": null,
   "metadata": {},
   "outputs": [],
   "source": [
    "reg = MLPRegressor()\n",
    "initNN = updateModel(df)\n",
    "print_metrics(initNN)"
   ]
  },
  {
   "cell_type": "markdown",
   "metadata": {},
   "source": [
    "Mithilfe von K_means soll nun der Datensatz einmal in die wichtigsten zwei bzw. drei wichtigsten cluster eingeteilt werden."
   ]
  },
  {
   "cell_type": "code",
   "execution_count": null,
   "metadata": {},
   "outputs": [],
   "source": [
    "df_clustering_k2 = k_means_clustering(df, 2)\n",
    "df_clustering_k2"
   ]
  },
  {
   "cell_type": "code",
   "execution_count": null,
   "metadata": {},
   "outputs": [],
   "source": [
    "df_clustering_k3 = k_means_clustering(df, 3)\n",
    "df_clustering_k3"
   ]
  },
  {
   "cell_type": "code",
   "execution_count": null,
   "metadata": {},
   "outputs": [],
   "source": [
    "df_to_use = pd.get_dummies(df_clustering_k2, drop_first = True)\n",
    "k = 2\n",
    "print('For k = ', k)\n",
    "\n",
    "list_of_results = []\n",
    "for i in range(k):\n",
    "    cluster_df = (df_to_use[df_to_use['cluster']==i]).copy()\n",
    "    res = updateModel(cluster_df)\n",
    "    print_metrics(res)\n",
    "    list_of_results.append(res)\n",
    "\n",
    "clust_k2_LR_results = list_of_results"
   ]
  },
  {
   "cell_type": "code",
   "execution_count": null,
   "metadata": {},
   "outputs": [],
   "source": [
    "df_to_use = pd.get_dummies(df_clustering_k3, drop_first = True)\n",
    "k = 3\n",
    "print('For k = ', k)\n",
    "\n",
    "list_of_results = []\n",
    "for i in range(k):\n",
    "    cluster_df = (df_to_use[df_to_use['cluster']==i]).copy()\n",
    "    res = updateModel(cluster_df)\n",
    "    print_metrics(res)\n",
    "    list_of_results.append(res)\n",
    "\n",
    "clust_k3_LR_results = list_of_results"
   ]
  },
  {
   "cell_type": "markdown",
   "metadata": {},
   "source": [
    "Das Clustern mit zwei Klassen liefert die besseren Ergebnisse. \n",
    "\n",
    "Zum Vergleich wird auch der RandomForestRegressor mit zwei Clustern getestet."
   ]
  },
  {
   "cell_type": "code",
   "execution_count": null,
   "metadata": {},
   "outputs": [],
   "source": [
    "reg = RandomForestRegressor(n_estimators = 20, random_state = 42)"
   ]
  },
  {
   "cell_type": "code",
   "execution_count": null,
   "metadata": {},
   "outputs": [],
   "source": [
    "df_to_use = pd.get_dummies(df_clustering_k2, drop_first = True)\n",
    "k = 2\n",
    "print('For k = ', k)\n",
    "\n",
    "list_of_results = []\n",
    "for i in range(k):\n",
    "    cluster_df = (df_to_use[df_to_use['cluster']==i]).copy()\n",
    "    res = updateModel(cluster_df)\n",
    "    print_metrics(res)\n",
    "    list_of_results.append(res)\n",
    "\n",
    "clust_k2_RF_results = list_of_results"
   ]
  },
  {
   "cell_type": "code",
   "execution_count": null,
   "metadata": {},
   "outputs": [],
   "source": [
    "print_metrics(initRF)"
   ]
  },
  {
   "cell_type": "markdown",
   "metadata": {},
   "source": [
    "Mithilfe der Clusterung konnte das Ergebnis des RFR weiter optimiert werden und liefert so mit die bester Vorhersage. Wir bilden das Finale CSV und Model."
   ]
  },
  {
   "cell_type": "code",
   "execution_count": null,
   "metadata": {},
   "outputs": [],
   "source": [
    "dfFinal = df_clustering_k2.copy()\n",
    "dfFinal"
   ]
  },
  {
   "cell_type": "code",
   "execution_count": null,
   "metadata": {},
   "outputs": [],
   "source": [
    "finalPerformance = clust_k2_RF_results\n",
    "print('Cluster 1:')\n",
    "print_metrics(finalPerformance[0])\n",
    "print()\n",
    "print('Cluster 2:')\n",
    "print_metrics(finalPerformance[1])"
   ]
  },
  {
   "cell_type": "code",
   "execution_count": null,
   "metadata": {},
   "outputs": [],
   "source": [
    "finalModel = reg\n",
    "reg"
   ]
  },
  {
   "cell_type": "code",
   "execution_count": null,
   "metadata": {},
   "outputs": [],
   "source": [
    "dfFinal.to_csv('final')"
   ]
  },
  {
   "cell_type": "markdown",
   "metadata": {},
   "source": [
    "Fazit: Abschlißend lässt sich zusammenfassen: -Die lineare Regression ist mit abstand das schnellste\n",
    "Verfahren, hat jedoch teilweise seher hohe Abweichungen vom tastächlichen Preis (faktor 10) -Die\n",
    "Regressoren MLP und RFR haben ähnliche Testergebnisse geliefert und sind zeitlich auch ähnlich.\n",
    "Der RFR ist jedoch etwas präziser weshalb wir uns für diesen entschieden haben."
   ]
  },
  {
   "cell_type": "markdown",
   "metadata": {},
   "source": [
    "Literaturverzeichnis:\n",
    "Kaggle, URL https://www.kaggle.com/datasets/austinreese/craigslist-carstrucks-data Abrufdatum 11.04.2022, Datensatz\n",
    "[1] Sklearn lineare Regression, URL  https://scikit-learn.org/stable/modules/generated/sklearn.linear_model.LinearRegression.html, 12.06.2022\n",
    "[2] Sklearn RandomForestRegressor https://scikit-learn.org/stable/modules/ensemble.html#ensemble, 05.07.2022\n",
    "[3] Sklearn MLP Regressor https://scikit-learn.org/stable/modules/generated/sklearn.neural_network.MLPClassifier.html, 23.08.2022\n"
   ]
  }
 ],
 "metadata": {
  "kernelspec": {
   "display_name": "Python 3.9.13 64-bit",
   "language": "python",
   "name": "python3"
  },
  "language_info": {
   "codemirror_mode": {
    "name": "ipython",
    "version": 3
   },
   "file_extension": ".py",
   "mimetype": "text/x-python",
   "name": "python",
   "nbconvert_exporter": "python",
   "pygments_lexer": "ipython3",
   "version": "3.9.13"
  },
  "orig_nbformat": 4,
  "vscode": {
   "interpreter": {
    "hash": "73374daa45fe4ac9a223e3c114d0845e413491ef0ae3c42bca18c16ab0dbbb05"
   }
  }
 },
 "nbformat": 4,
 "nbformat_minor": 2
}
